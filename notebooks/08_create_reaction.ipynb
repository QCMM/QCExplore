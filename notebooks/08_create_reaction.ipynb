{
 "cells": [
  {
   "cell_type": "markdown",
   "metadata": {},
   "source": [
    "<html>\n",
    "<div style=\"width:100%\">\n",
    "  <div style=\"width:90%; float:left; background:white; margin:10px\">\n",
    "    <img style =\"width:100%\"src =\"https://raw.githubusercontent.com/publicunpublic/QCMM_Jupyter/main/full.svg\">\n",
    "    <div style=\"margin-top:2.5%;position:absolute;background-color:#00000;width:6%;height:0.3%\"></div>\n",
    "  </div>\n",
    "  </div>\n"
   ]
  },
  {
   "cell_type": "markdown",
   "metadata": {},
   "source": [
    "<html>\n",
    "<center>\n",
    "<br>\n",
    "<h1 style=\"color:#E6610F;\"> Create ReactionDataset to compute TS and reaction energies </h1>\n",
    "<br><br>\n",
    "</center>"
   ]
  },
  {
   "cell_type": "code",
   "execution_count": null,
   "metadata": {
    "scrolled": true
   },
   "outputs": [],
   "source": [
    "import qcportal as ptl"
   ]
  },
  {
   "cell_type": "markdown",
   "metadata": {},
   "source": [
    "## Define variable name"
   ]
  },
  {
   "cell_type": "code",
   "execution_count": null,
   "metadata": {},
   "outputs": [],
   "source": [
    "client_address = \"152.74.10.245:7778\"\n",
    "username = None\n",
    "password = None \n",
    "\n",
    "# Collections with monomers\n",
    "mon_opt_col_name = 'monomers'\n",
    "monomer_name = 'd-lactide'\n",
    "init_opt_col_name = 'initiators'\n",
    "initiator_name = 'salen-OMe'\n",
    "\n",
    "# Collections with the reactant products and intermediates\n",
    "ri_opt_col_name = \"salen_d-lac_rpi\"\n",
    "## Collections with the tranistion states\n",
    "ts_opt_col_name = \"salen_d-lac_ts_from_neb\"\n",
    "## Name of the ReactionDataset collection\n",
    "name_rx = \"salen_d-lac_rxn_b3lyp-d3_defs-svp\"\n",
    "\n",
    "# Names of reactants, transistion state and intermediate/product \n",
    "reac = 'r'\n",
    "ts = 'ts1'\n",
    "interm = 'i1'"
   ]
  },
  {
   "cell_type": "code",
   "execution_count": null,
   "metadata": {},
   "outputs": [],
   "source": [
    "client = ptl.FractalClient(address=client_address, username = username, password = password, verify=False)"
   ]
  },
  {
   "cell_type": "markdown",
   "metadata": {},
   "source": [
    "## A) Create ReactionDataset (If it does not exist yet)"
   ]
  },
  {
   "cell_type": "code",
   "execution_count": null,
   "metadata": {},
   "outputs": [],
   "source": [
    "#ds_rx = ptl.collections.ReactionDataset(name_rx, ds_type=\"rxn\", client=client, default_program=\"psi4\")\n",
    "#ds_rx.save()"
   ]
  },
  {
   "cell_type": "markdown",
   "metadata": {},
   "source": [
    "## B) Call the OptimizationDataset with the optimized states"
   ]
  },
  {
   "cell_type": "code",
   "execution_count": null,
   "metadata": {},
   "outputs": [],
   "source": [
    "ri_opt   =  client.get_collection(\"OptimizationDataset\", ri_opt_col_name)\n",
    "ts_opt   =  client.get_collection(\"OptimizationDataset\", ts_opt_col_name)\n",
    "mon_opt  =  client.get_collection(\"OptimizationDataset\", mon_opt_col_name)\n",
    "init_opt =  client.get_collection(\"OptimizationDataset\", init_opt_col_name)"
   ]
  },
  {
   "cell_type": "code",
   "execution_count": null,
   "metadata": {},
   "outputs": [],
   "source": [
    "ri_opt.status(collapse = False)"
   ]
  },
  {
   "cell_type": "code",
   "execution_count": null,
   "metadata": {},
   "outputs": [],
   "source": [
    "ds_rx = client.get_collection(\"ReactionDataset\", name_rx)"
   ]
  },
  {
   "cell_type": "markdown",
   "metadata": {},
   "source": [
    "## C) Create the stoichiometry "
   ]
  },
  {
   "cell_type": "code",
   "execution_count": null,
   "metadata": {},
   "outputs": [],
   "source": [
    "lot = \"b3lyp-d3_def2-svp\"\n",
    "\n",
    "mol_ids = {}\n",
    "recs = ri_opt.data.records\n",
    "paths = []\n",
    "\n",
    "for path_key in recs.keys():\n",
    "    if not ts in path_key:\n",
    "        continue\n",
    "    paths.append(path_key.split(\"_\")[1])\n",
    "    \n",
    "paths = list(set(paths))\n",
    "print(paths)\n",
    "\n",
    "mon_rec = mon_opt.get_record(monomer_name, specification = lot)\n",
    "opt_mol_nom = mon_rec.get_final_molecule()\n",
    "\n",
    "initiator_rec = initiator_opt.get_record(intiator_name, specification = lot)\n",
    "opt_mol_initiator = initiator_rec.get_final_molecule()\n",
    "\n",
    "\n",
    "for p in paths:\n",
    "    reac_path_name = ts+'_'+p+'_'+reac\n",
    "    int_path_name =  ts+'_'+p+'_'+interm\n",
    "    ts_path_name =  ts+'_'+p\n",
    "    rx_entry_name =  reac+'_'+ts+'_'+interm+'_'+p\n",
    "\n",
    "    reac_rec = ri_opt.get_record(reac_path_name, specification = lot)\n",
    "    int_rec = ri_opt.get_record(int_path_name, specification = lot)\n",
    "    ts_rec  = ts_opt.get_record(ts_path_name, specification = lot)\n",
    "   \n",
    "\n",
    "    if (reac_rec.status  == \"ERROR\" or ts_rec.status  == \"ERROR\" or int_rec.status  == \"ERROR\"):\n",
    "        print(\"Reaction in path {} ended with an error.\".format(path_key))\n",
    "        continue\n",
    "    \n",
    "    opt_mol_int = int_rec.get_final_molecule()\n",
    "    opt_mol_reac = reac_rec.get_final_molecule()\n",
    "    opt_mol_ts = ts_rec.get_final_molecule()\n",
    "\n",
    "\n",
    "\n",
    "    be_cal = {\n",
    "            \"default\":[(opt_mol_int,1.0),(opt_mol_reac,-1.0)],\n",
    "            \"rx_energy\" :[(opt_mol_int,1.0),(opt_mol_reac,-1.0)],\n",
    "            \"ts_energy\" :[(opt_mol_ts,1.0),(opt_mol_reac,-1.0)],\n",
    "            \"rev_ts_energy\" :[(opt_mol_ts,1.0),(opt_mol_int,-1.0)],\n",
    "            \"inter_energy\" :[(opt_mol_mon,-1.0),(opt_mol_initiator,-1.0), (opt_mol_reac,1.0)],\n",
    "            }\n",
    "\n",
    "    ds_rx.add_rxn(rx_entry_name, be_cal)\n",
    "    ds_rx.save()"
   ]
  },
  {
   "cell_type": "markdown",
   "metadata": {},
   "source": [
    "## D) Check Records "
   ]
  },
  {
   "cell_type": "code",
   "execution_count": null,
   "metadata": {},
   "outputs": [],
   "source": [
    "ds_rx.data.records"
   ]
  },
  {
   "cell_type": "markdown",
   "metadata": {},
   "source": [
    "## E) Compute energies"
   ]
  },
  {
   "cell_type": "code",
   "execution_count": null,
   "metadata": {},
   "outputs": [],
   "source": [
    "## Define levels of theory to be computed\n",
    "\n",
    "elot = [\"B3LYP-D3BJ\", \"M06-L\" , \"PBE0-D3BJ\", 'M11-L']"
   ]
  },
  {
   "cell_type": "code",
   "execution_count": null,
   "metadata": {},
   "outputs": [],
   "source": [
    "# Send computations to server\n",
    "for i in elot:\n",
    "    c =  ds_rx.compute(i, \"def2-tzvp\" , stoich=\"default\", tag='rx_comp')\n",
    "    c1 = ds_rx.compute(i, \"def2-tzvp\" , stoich=\"ts_energy\", tag='rx_comp')\n",
    "    c2 = ds_rx.compute(i, \"def2-tzvp\" , stoich=\"rev_ts_energy\", tag='rx_comp')\n",
    "\n",
    "    print(c)\n",
    "    print(c1)\n",
    "    print(c2)\n",
    "c_list = [c, c1, c2]"
   ]
  },
  {
   "cell_type": "markdown",
   "metadata": {},
   "source": [
    "##  D) Check stoichiometry records "
   ]
  },
  {
   "cell_type": "code",
   "execution_count": null,
   "metadata": {},
   "outputs": [],
   "source": [
    "ds_rx = client.get_collection(\"ReactionDataset\", name_rx)\n",
    "stoich = 'default'\n",
    "\n",
    "rq_method = []\n",
    "\n",
    "for m in elot:\n",
    "    if 'D3' in m:\n",
    "        rq_method.append(m.split('-')[0])\n",
    "    else:\n",
    "        rq_method.append(m)\n",
    "\n",
    "\n",
    "for m in rq_method:\n",
    "    print(\"Records for {}\".format(m))\n",
    "    print(ds_rx.get_records(method=m, stoich=stoich))"
   ]
  },
  {
   "cell_type": "markdown",
   "metadata": {},
   "source": [
    "## E) Get Reaction Energies"
   ]
  },
  {
   "cell_type": "code",
   "execution_count": null,
   "metadata": {},
   "outputs": [],
   "source": [
    "ds_rx.get_values(method=elot, stoich='default')"
   ]
  },
  {
   "cell_type": "code",
   "execution_count": null,
   "metadata": {},
   "outputs": [],
   "source": [
    "ds_rx.get_values(method=elot, stoich='ts_energy')"
   ]
  },
  {
   "cell_type": "markdown",
   "metadata": {},
   "source": [
    "## Restart Jobs"
   ]
  },
  {
   "cell_type": "markdown",
   "metadata": {},
   "source": [
    "To restart jobs you need to run compute jobs again to retrive the job ids"
   ]
  },
  {
   "cell_type": "code",
   "execution_count": null,
   "metadata": {},
   "outputs": [],
   "source": [
    "stoichs = ds_rx.data.records[0].stoichiometry.keys()\n",
    "\n",
    "rq_method = []\n",
    "\n",
    "for m in elot:\n",
    "    if 'D3' in m:\n",
    "        rq_method.append(m.split('-')[0])\n",
    "    else:\n",
    "        rq_method.append(m)\n",
    "\n",
    "for m in rq_method:\n",
    "    for st in stoichs:\n",
    "        all_rec =  ds_rx.get_records(method=m, stoich=st)['record']\n",
    "        for r in all_rec:\n",
    "            print(m, r, st)\n",
    "            idd = r.dict()['id']\n",
    "            if r.dict()['status'] == 'ERROR':\n",
    "                restart = client.modify_tasks(\"restart\", base_result = idd)\n",
    "                print(restart)"
   ]
  },
  {
   "cell_type": "code",
   "execution_count": null,
   "metadata": {},
   "outputs": [],
   "source": [
    "restart = client.modify_tasks(\"restart\", base_result = 39144)\n",
    "restart"
   ]
  },
  {
   "cell_type": "markdown",
   "metadata": {},
   "source": [
    "##  Delete Entries"
   ]
  },
  {
   "cell_type": "code",
   "execution_count": null,
   "metadata": {},
   "outputs": [],
   "source": [
    "#del ds_rx.data.records[0]\n",
    "#ds_rx.save()"
   ]
  }
 ],
 "metadata": {
  "kernelspec": {
   "display_name": "Python 3 (ipykernel)",
   "language": "python",
   "name": "python3"
  },
  "language_info": {
   "codemirror_mode": {
    "name": "ipython",
    "version": 3
   },
   "file_extension": ".py",
   "mimetype": "text/x-python",
   "name": "python",
   "nbconvert_exporter": "python",
   "pygments_lexer": "ipython3",
   "version": "3.7.12"
  }
 },
 "nbformat": 4,
 "nbformat_minor": 4
}
