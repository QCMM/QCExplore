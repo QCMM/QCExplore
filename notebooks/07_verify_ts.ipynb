{
 "cells": [
  {
   "cell_type": "markdown",
   "metadata": {},
   "source": [
    "<html>\n",
    "<div style=\"width:100%\">\n",
    "  <div style=\"width:90%; float:left; background:white; margin:10px\">\n",
    "    <img style =\"width:100%\"src =\"https://raw.githubusercontent.com/publicunpublic/QCMM_Jupyter/main/full.svg\">\n",
    "    <div style=\"margin-top:2.5%;position:absolute;background-color:#0e4be5;width:6%;height:0.3%\"></div>\n",
    "  </div>\n",
    "  </div>\n"
   ]
  },
  {
   "cell_type": "markdown",
   "metadata": {},
   "source": [
    "<html>\n",
    "<center>\n",
    "<br>\n",
    "<h1 style=\"color:#E6610F;\"> Check Normal Mode of Transition State and verify Nature of TS </h1>\n",
    "<br><br>\n",
    "</center>"
   ]
  },
  {
   "cell_type": "code",
   "execution_count": 2,
   "metadata": {},
   "outputs": [],
   "source": [
    "import qcportal as ptl\n",
    "import pandas as pd\n",
    "import numpy as np\n",
    "from typing import Union\n",
    "import qcelemental as qcel"
   ]
  },
  {
   "cell_type": "markdown",
   "metadata": {},
   "source": [
    "## Define Variables"
   ]
  },
  {
   "cell_type": "code",
   "execution_count": 50,
   "metadata": {},
   "outputs": [],
   "source": [
    "client_address = \"152.74.10.245:7778\"\n",
    "ts_opt_spec = 'pbe0-d3_def2-svp'\n",
    "ts_collection = 'salen-OMe_d-lac_ts_from_scan'\n",
    "minima_collection = 'salen-OMe_d-lac_minima'\n",
    "dft_method = 'pbe0'\n",
    "dft_basis = 'def2-svp'\n",
    "ts_entry_name = 'ts1_03'\n",
    "min_1_name = \"r\"\n",
    "min_2_name = \"i1\"\n",
    "username = None#'svogt'\n",
    "password = None #\"7kyRT-Mrow3jH0Lg6b9YIhEjAcvU9EpFBb9ouMClU5g\""
   ]
  },
  {
   "cell_type": "code",
   "execution_count": 51,
   "metadata": {},
   "outputs": [
    {
     "data": {
      "text/html": [
       "\n",
       "<h3>FractalClient</h3>\n",
       "<ul>\n",
       "  <li><b>Server:   &nbsp; </b>Catalisis Server</li>\n",
       "  <li><b>Address:  &nbsp; </b>https://152.74.10.245:7778/</li>\n",
       "  <li><b>Username: &nbsp; </b>None</li>\n",
       "</ul>\n"
      ],
      "text/plain": [
       "FractalClient(server_name='Catalisis Server', address='https://152.74.10.245:7778/', username='None')"
      ]
     },
     "execution_count": 51,
     "metadata": {},
     "output_type": "execute_result"
    }
   ],
   "source": [
    "client = ptl.FractalClient(address=client_address, username = username, password = password, verify=False)\n",
    "client "
   ]
  },
  {
   "cell_type": "markdown",
   "metadata": {},
   "source": [
    "## A) Load Modified Psi4 function for NM analysis"
   ]
  },
  {
   "cell_type": "code",
   "execution_count": 52,
   "metadata": {},
   "outputs": [],
   "source": [
    "def vibanal_wfn(hess: np.ndarray = None, irrep: Union[int, str] = None, molecule=None, energy=None, project_trans: bool = True, project_rot: bool = True, molden=False,name=None, lt=None):\n",
    "    \"\"\"Function to perform analysis of a hessian or hessian block, specifically...\n",
    "    calling for and printing vibrational and thermochemical analysis, setting thermochemical variables,\n",
    "    and writing the vibrec and normal mode files.\n",
    "    Parameters\n",
    "    ----------\n",
    "    wfn\n",
    "        The wavefunction which had its Hessian computed.\n",
    "    hess\n",
    "        Hessian to analyze, if not the hessian in wfn.\n",
    "        (3*nat, 3*nat) non-mass-weighted Hessian in atomic units, [Eh/a0/a0].\n",
    "    irrep\n",
    "        The irrep for which frequencies are calculated. Thermochemical analysis is skipped if this is given,\n",
    "        as only one symmetry block of the hessian has been computed.\n",
    "    molecule : :py:class:`~psi4.core.Molecule` or qcdb.Molecule, optional\n",
    "        The molecule to pull information from, if not the molecule in wfn. Must at least have similar\n",
    "        geometry to the molecule in wfn.\n",
    "    project_trans\n",
    "        Should translations be projected in the harmonic analysis?\n",
    "    project_rot\n",
    "        Should rotations be projected in the harmonic analysis?\n",
    "    Returns\n",
    "\n",
    "    -------\n",
    "    vibinfo : dict\n",
    "        A dictionary of vibrational information. See :py:func:`~psi4.driver.qcdb.vib.harmonic_analysis`\n",
    "    \"\"\"\n",
    "    from psi4 import geometry, set_memory\n",
    "    import psi4.core as core\n",
    "    from psi4.driver import qcdb\n",
    "    \n",
    "    if hess is None:\n",
    "        print(\"no hessian\")\n",
    "        \n",
    "    else:\n",
    "        nmwhess = hess\n",
    "        \n",
    "    set_memory('500 MB')\n",
    "    \n",
    "    \n",
    "    print(\"About to start\")\n",
    "    m=molecule.to_string('xyz')\n",
    "    mol = geometry(m)\n",
    "    geom = np.asarray(mol.geometry())\n",
    "    symbols = [mol.symbol(at) for at in range(mol.natom())]\n",
    "    vibrec = {'molecule': mol.to_dict(np_out=False), 'hessian': nmwhess.tolist()}\n",
    "\n",
    "    m = np.asarray([mol.mass(at) for at in range(mol.natom())])\n",
    "    irrep_labels = mol.irrep_labels()\n",
    "    \n",
    "    print(qcdb.vib.__file__)\n",
    "    print(\"About to do harmonic analyis...\")\n",
    "    vibinfo, vibtext = qcdb.vib.harmonic_analysis(\n",
    "        nmwhess, geom, m, None, irrep_labels, dipder=None, project_trans=project_trans, project_rot=project_rot)\n",
    "\n",
    "    print(\"Finished harmonic analysis\")\n",
    "   \n",
    "\n",
    "    if core.has_option_changed('THERMO', 'ROTATIONAL_SYMMETRY_NUMBER'):\n",
    "        rsn = core.get_option('THERMO', 'ROTATIONAL_SYMMETRY_NUMBER')\n",
    "    else:\n",
    "        rsn = mol.rotational_symmetry_number()\n",
    "\n",
    "    if irrep is None:\n",
    "        therminfo, thermtext = qcdb.vib.thermo(\n",
    "            vibinfo,\n",
    "            T=core.get_option(\"THERMO\", \"T\"),  # 298.15 [K]\n",
    "            P=core.get_option(\"THERMO\", \"P\"),  # 101325. [Pa]\n",
    "            multiplicity=mol.multiplicity(),\n",
    "            molecular_mass=np.sum(m),\n",
    "            sigma=rsn,\n",
    "            rotor_type=mol.rotor_type(),\n",
    "            rot_const=np.asarray(mol.rotational_constants()),\n",
    "            E0=energy) \n",
    "\n",
    "        core.set_variable(\"ZPVE\", therminfo['ZPE_corr'].data)  # P::e THERMO\n",
    "        core.set_variable(\"THERMAL ENERGY CORRECTION\", therminfo['E_corr'].data)  # P::e THERMO\n",
    "        core.set_variable(\"ENTHALPY CORRECTION\", therminfo['H_corr'].data)  # P::e THERMO\n",
    "        core.set_variable(\"GIBBS FREE ENERGY CORRECTION\", therminfo['G_corr'].data)  # P::e THERMO\n",
    "\n",
    "        core.set_variable(\"ZERO K ENTHALPY\", therminfo['ZPE_tot'].data)  # P::e THERMO\n",
    "        core.set_variable(\"THERMAL ENERGY\", therminfo['E_tot'].data)  # P::e THERMO\n",
    "        core.set_variable(\"ENTHALPY\", therminfo['H_tot'].data)  # P::e THERMO\n",
    "        core.set_variable(\"GIBBS FREE ENERGY\", therminfo['G_tot'].data)  # P::e THERMO\n",
    "\n",
    "    else:\n",
    "        core.print_out('  Thermochemical analysis skipped for partial frequency calculation.\\n')\n",
    "\n",
    "    \n",
    "    if molden:\n",
    "        filename = name+\"_\"+lt+ \".molden_normal_modes\"\n",
    "        with open(filename, 'w') as handle:\n",
    "            handle.write(qcdb.vib.print_molden_vibs(vibinfo, symbols, geom, standalone=True))\n",
    "\n",
    "    return vibinfo, therminfo, symbols, geom"
   ]
  },
  {
   "cell_type": "markdown",
   "metadata": {},
   "source": [
    "## B) Load  Optimized Transition states from Dataset"
   ]
  },
  {
   "cell_type": "code",
   "execution_count": 53,
   "metadata": {},
   "outputs": [
    {
     "name": "stdout",
     "output_type": "stream",
     "text": [
      "RecordStatusEnum.complete Optimization finished!\n"
     ]
    }
   ],
   "source": [
    "ds_opt = client.get_collection(\"OptimizationDataset\", ts_collection)\n",
    "\n",
    "rr = ds_opt.get_record(ts_entry_name, specification = ts_opt_spec)\n",
    "\n",
    "if rr.status == (\"ERROR\" or \"INCOMPLETE\"):\n",
    "    print(rr.status ,\"Optimization not done yet, please be a little more patient\")\n",
    "\n",
    "else:\n",
    "    print(rr.status, \"Optimization finished!\")\n"
   ]
  },
  {
   "cell_type": "code",
   "execution_count": 54,
   "metadata": {},
   "outputs": [
    {
     "name": "stdout",
     "output_type": "stream",
     "text": [
      "Optimized molecule ID: 44197\n",
      "Initial molecule ID: 39776\n"
     ]
    }
   ],
   "source": [
    "# Get the optimized TS ID\n",
    "\n",
    "mol_opt_ts = rr.get_final_molecule()\n",
    "ts_id = mol_opt_ts.id\n",
    "mol_opt_ts_init = rr.get_initial_molecule()\n",
    "ts_id_init = mol_opt_ts_init.id\n",
    "print(\"Optimized molecule ID:\", ts_id)\n",
    "print(\"Initial molecule ID:\", ts_id_init)"
   ]
  },
  {
   "cell_type": "markdown",
   "metadata": {},
   "source": [
    "## C) Get the hessian matrix for the respective transition states from the server"
   ]
  },
  {
   "cell_type": "code",
   "execution_count": 55,
   "metadata": {},
   "outputs": [],
   "source": [
    "record = client.query_results(driver='hessian', \n",
    "                              molecule=ts_id, \n",
    "                              method=dft_method, \n",
    "                              basis=dft_basis \n",
    "                              )"
   ]
  },
  {
   "cell_type": "code",
   "execution_count": 56,
   "metadata": {},
   "outputs": [
    {
     "data": {
      "text/plain": [
       "[ResultRecord(id='54208', status='COMPLETE')]"
      ]
     },
     "execution_count": 56,
     "metadata": {},
     "output_type": "execute_result"
    }
   ],
   "source": [
    "record"
   ]
  },
  {
   "cell_type": "markdown",
   "metadata": {},
   "source": [
    "## D)  Do harmonic analysis for the hessian matrix \n",
    "\n",
    "You can visualize the NM in the .molden_normal_modes file"
   ]
  },
  {
   "cell_type": "code",
   "execution_count": 57,
   "metadata": {},
   "outputs": [
    {
     "name": "stdout",
     "output_type": "stream",
     "text": [
      "About to start\n",
      "\n",
      "  Memory set to 476.837 MiB by Python driver.\n",
      "/home/svogt/.anaconda/envs/qcexplore/lib/python3.7/site-packages/psi4/driver/qcdb/vib.py\n",
      "About to do harmonic analyis...\n",
      "Finished harmonic analysis\n",
      "Warning: thermodynamics relations excluded imaginary frequencies: ['69.7463i']\n",
      "Warning: used thermodynamics relations inappropriate for low-frequency modes: ['20.5231' '25.9703' '34.4964' '46.9289' '51.4182' '62.7204' '69.4567'\n",
      " '82.1438' '86.0091' '101.5493' '124.6780' '131.0086' '156.2414'\n",
      " '160.0250' '168.7885' '176.7204' '190.9213' '217.4765' '221.4203'\n",
      " '222.1903' '226.5621' '242.4896' '249.8158' '265.5959' '279.8831'\n",
      " '291.2139' '295.3301' '307.4249' '338.8937' '348.5708' '358.4890'\n",
      " '364.1902' '366.0807' '394.2702' '406.7257' '415.8547' '419.1181'\n",
      " '429.5714' '436.3351' '472.9738' '479.3381' '490.0927' '496.1629'\n",
      " '502.3058' '504.1554' '533.6312' '562.6955' '567.0707' '574.8305'\n",
      " '598.2637' '614.4077' '622.9391']\n"
     ]
    }
   ],
   "source": [
    "vib_info = {}\n",
    "hess_mat = record[0].dict()['return_result']\n",
    "en = record[0].dict()['properties']['return_energy']\n",
    "\n",
    "vib_info = vibanal_wfn(hess=hess_mat, molecule=mol_opt_ts, name=ts_entry_name, energy=en, lt=ts_opt_spec, molden=True)"
   ]
  },
  {
   "cell_type": "markdown",
   "metadata": {},
   "source": [
    "## E)  Get Intermadiate candidates from TS normal mode"
   ]
  },
  {
   "cell_type": "code",
   "execution_count": 67,
   "metadata": {},
   "outputs": [],
   "source": [
    "import math\n",
    "\n",
    "nm_num = 0  # Number of the normal mode (Imaginary mode is 0)\n",
    "vib_range = 1.0 # The range of the vibration\n",
    "\n",
    "vib, therm, symbols, geom = vib_info\n",
    "nat = int(len(vib['q'].data[:, nm_num]) / 3)\n",
    "nm = vib['q'].data[:, nm_num].reshape(nat, 3)#[at].real\n",
    "\n",
    "\n",
    "\n",
    "disp_list = np.arange(-vib_range, vib_range, 0.1)\n",
    "\n",
    "close_reac = vib_range - 0.1\n",
    "close_int  = -vib_range\n",
    "\n",
    "\n",
    "# Saving the extremes as molecule objects\n",
    "vib_animation = \"\"\n",
    "for d in disp_list:\n",
    "    disp = (geom - d*nm) \n",
    "    \n",
    "    ## Creating molecule from displacements\n",
    "    mol = qcel.models.Molecule(\n",
    "    symbols=symbols,\n",
    "    geometry = disp,\n",
    "    )\n",
    "    \n",
    "    ## Saving reactant and product candidates \n",
    "    vib_animation += mol.to_string(\"xyz\")\n",
    "    if math.isclose(close_int,d):\n",
    "        min1_cand  = mol\n",
    "    if math.isclose(close_reac,d):\n",
    "        min2_cand = mol\n",
    "\n",
    "    # Saving the \n",
    "    filename = \"animts2_\"+ts_entry_name+\"_\"+ts_opt_spec+ \".dat\"\n",
    "    with open(filename, 'w') as handle:\n",
    "        handle.write(vib_animation)"
   ]
  },
  {
   "cell_type": "markdown",
   "metadata": {},
   "source": [
    "## F) Visualize Intermediate initial structures "
   ]
  },
  {
   "cell_type": "code",
   "execution_count": 68,
   "metadata": {},
   "outputs": [
    {
     "data": {
      "application/vnd.jupyter.widget-view+json": {
       "model_id": "78228b2f35ba46bfa1e44732ae22d1c1",
       "version_major": 2,
       "version_minor": 0
      },
      "text/plain": [
       "NGLWidget()"
      ]
     },
     "metadata": {},
     "output_type": "display_data"
    }
   ],
   "source": [
    "min1_cand"
   ]
  },
  {
   "cell_type": "code",
   "execution_count": 69,
   "metadata": {},
   "outputs": [
    {
     "data": {
      "application/vnd.jupyter.widget-view+json": {
       "model_id": "032ddc0d7df54c67afb54edf04fd1232",
       "version_major": 2,
       "version_minor": 0
      },
      "text/plain": [
       "NGLWidget()"
      ]
     },
     "metadata": {},
     "output_type": "display_data"
    }
   ],
   "source": [
    "mol_opt_ts"
   ]
  },
  {
   "cell_type": "code",
   "execution_count": 70,
   "metadata": {},
   "outputs": [
    {
     "data": {
      "application/vnd.jupyter.widget-view+json": {
       "model_id": "0708dd72a7174854802dca46f095fce2",
       "version_major": 2,
       "version_minor": 0
      },
      "text/plain": [
       "NGLWidget()"
      ]
     },
     "metadata": {},
     "output_type": "display_data"
    }
   ],
   "source": [
    "min2_cand"
   ]
  },
  {
   "cell_type": "code",
   "execution_count": 71,
   "metadata": {},
   "outputs": [
    {
     "data": {
      "text/plain": [
       "3.9495971213500263"
      ]
     },
     "execution_count": 71,
     "metadata": {},
     "output_type": "execute_result"
    }
   ],
   "source": [
    "min2_cand.measure([34,43])"
   ]
  },
  {
   "cell_type": "markdown",
   "metadata": {},
   "source": [
    "## G)  Optimize intermediate states "
   ]
  },
  {
   "cell_type": "code",
   "execution_count": 47,
   "metadata": {},
   "outputs": [
    {
     "data": {
      "text/plain": [
       "'177'"
      ]
     },
     "execution_count": 47,
     "metadata": {},
     "output_type": "execute_result"
    }
   ],
   "source": [
    "#ds = ptl.collections.OptimizationDataset(minima_collection, client=client)\n",
    "#ds.save()"
   ]
  },
  {
   "cell_type": "code",
   "execution_count": 116,
   "metadata": {},
   "outputs": [],
   "source": [
    "ds_opt_min = client.get_collection(\"OptimizationDataset\", minima_collection)"
   ]
  },
  {
   "cell_type": "code",
   "execution_count": 117,
   "metadata": {},
   "outputs": [],
   "source": [
    "ds_opt_min.add_entry(ts_entry_name+'_'+interm_1_name, min1_cand)\n",
    "ds_opt_min.add_entry(ts_entry_name+'_'+interm_2_name, min2_cand)"
   ]
  },
  {
   "cell_type": "code",
   "execution_count": 118,
   "metadata": {},
   "outputs": [
    {
     "data": {
      "text/plain": [
       "'177'"
      ]
     },
     "execution_count": 118,
     "metadata": {},
     "output_type": "execute_result"
    }
   ],
   "source": [
    "kw = ptl.models.KeywordSet(**{\"values\": {\"dftd\": \"d3\", \"convthre\" : '3.0e-7', \"threall\" : '1.0e-13', 'dftgrid' : 2, \"scf\" : \"diis+a\"}})\n",
    "kw_id = client.add_keywords([kw])[0]\n",
    "\n",
    "method, basis = ts_opt_spec.split('_')\n",
    "\n",
    "if \"d3\" in method:\n",
    "    method = method.split('-')[0]\n",
    "\n",
    "add_spec = {'name': ts_opt_spec,\n",
    "        'description': 'Geometric + TERACHEM/'+ts_opt_spec,\n",
    "        'optimization_spec': {'program': 'geometric', 'keywords': {\"converge\" : [\"set\" , \"gau_tight\"]}},\n",
    "        'qc_spec': {'driver': 'gradient',\n",
    "        'method': method,\n",
    "        'basis': basis,\n",
    "        'keywords': kw_id,\n",
    "        'program': 'terachem'}}\n",
    "ds_opt_min.add_specification(**add_spec,overwrite=True)\n",
    "ds_opt_min.save()"
   ]
  },
  {
   "cell_type": "code",
   "execution_count": 119,
   "metadata": {},
   "outputs": [
    {
     "name": "stdout",
     "output_type": "stream",
     "text": [
      "2\n"
     ]
    }
   ],
   "source": [
    "c = ds_opt_min.compute(ts_opt_spec, tag='tera')\n",
    "print(c)"
   ]
  },
  {
   "cell_type": "markdown",
   "metadata": {},
   "source": [
    "## G)  Check Optimization "
   ]
  },
  {
   "cell_type": "code",
   "execution_count": 28,
   "metadata": {},
   "outputs": [
    {
     "data": {
      "text/html": [
       "<div>\n",
       "<style scoped>\n",
       "    .dataframe tbody tr th:only-of-type {\n",
       "        vertical-align: middle;\n",
       "    }\n",
       "\n",
       "    .dataframe tbody tr th {\n",
       "        vertical-align: top;\n",
       "    }\n",
       "\n",
       "    .dataframe thead th {\n",
       "        text-align: right;\n",
       "    }\n",
       "</style>\n",
       "<table border=\"1\" class=\"dataframe\">\n",
       "  <thead>\n",
       "    <tr style=\"text-align: right;\">\n",
       "      <th></th>\n",
       "      <th>pbe0-d3_def2-svp</th>\n",
       "    </tr>\n",
       "  </thead>\n",
       "  <tbody>\n",
       "    <tr>\n",
       "      <th>ts1_01_r</th>\n",
       "      <td>COMPLETE</td>\n",
       "    </tr>\n",
       "    <tr>\n",
       "      <th>ts1_01_i1</th>\n",
       "      <td>COMPLETE</td>\n",
       "    </tr>\n",
       "    <tr>\n",
       "      <th>ts1_03_r</th>\n",
       "      <td>COMPLETE</td>\n",
       "    </tr>\n",
       "    <tr>\n",
       "      <th>ts1_03_i1</th>\n",
       "      <td>COMPLETE</td>\n",
       "    </tr>\n",
       "  </tbody>\n",
       "</table>\n",
       "</div>"
      ],
      "text/plain": [
       "          pbe0-d3_def2-svp\n",
       "ts1_01_r          COMPLETE\n",
       "ts1_01_i1         COMPLETE\n",
       "ts1_03_r          COMPLETE\n",
       "ts1_03_i1         COMPLETE"
      ]
     },
     "execution_count": 28,
     "metadata": {},
     "output_type": "execute_result"
    }
   ],
   "source": [
    "ds_opt_min = client.get_collection(\"OptimizationDataset\", minima_collection)\n",
    "ds_opt_min.status(collapse=False)"
   ]
  },
  {
   "cell_type": "code",
   "execution_count": 73,
   "metadata": {},
   "outputs": [
    {
     "data": {
      "application/vnd.jupyter.widget-view+json": {
       "model_id": "0981b379f10a49fda5517bff8e0942d0",
       "version_major": 2,
       "version_minor": 0
      },
      "text/plain": [
       "NGLWidget()"
      ]
     },
     "metadata": {},
     "output_type": "display_data"
    }
   ],
   "source": [
    "rr = ds_opt_min.get_record(name='ts1_03_i1', specification = ts_opt_spec)\n",
    "mol = rr.get_final_molecule()\n",
    "#print(mol.pretty_print())\n",
    "mol"
   ]
  },
  {
   "cell_type": "code",
   "execution_count": 74,
   "metadata": {},
   "outputs": [
    {
     "data": {
      "text/plain": [
       "4.203952372755026"
      ]
     },
     "execution_count": 74,
     "metadata": {},
     "output_type": "execute_result"
    }
   ],
   "source": [
    "mol.measure([35,47])"
   ]
  },
  {
   "cell_type": "code",
   "execution_count": 75,
   "metadata": {},
   "outputs": [
    {
     "data": {
      "text/html": [
       "        <script type=\"text/javascript\">\n",
       "        window.PlotlyConfig = {MathJaxConfig: 'local'};\n",
       "        if (window.MathJax && window.MathJax.Hub && window.MathJax.Hub.Config) {window.MathJax.Hub.Config({SVG: {font: \"STIX-Web\"}});}\n",
       "        if (typeof require !== 'undefined') {\n",
       "        require.undef(\"plotly\");\n",
       "        requirejs.config({\n",
       "            paths: {\n",
       "                'plotly': ['https://cdn.plot.ly/plotly-2.16.1.min']\n",
       "            }\n",
       "        });\n",
       "        require(['plotly'], function(Plotly) {\n",
       "            window._Plotly = Plotly;\n",
       "        });\n",
       "        }\n",
       "        </script>\n",
       "        "
      ]
     },
     "metadata": {},
     "output_type": "display_data"
    },
    {
     "data": {
      "application/vnd.plotly.v1+json": {
       "config": {
        "linkText": "Export to plot.ly",
        "plotlyServerURL": "https://plot.ly",
        "showLink": false
       },
       "data": [
        {
         "mode": "lines+markers",
         "type": "scatter",
         "x": [
          1,
          2,
          3,
          4,
          5,
          6,
          7,
          8,
          9,
          10,
          11,
          12,
          13,
          14,
          15,
          16,
          17,
          18,
          19,
          20,
          21,
          22,
          23,
          24,
          25,
          26,
          27,
          28,
          29,
          30,
          31,
          32,
          33,
          34,
          35,
          36,
          37,
          38,
          39,
          40,
          41,
          42,
          43,
          44,
          45,
          46
         ],
         "y": [
          26.39,
          2.314,
          2.019,
          0.674,
          0.63,
          0.3,
          0.245,
          0.167,
          0.142,
          0.102,
          0.093,
          0.068,
          0.054,
          0.042,
          0.032,
          0.021,
          0.015,
          0.011,
          0.008,
          0.007,
          0.004,
          0.003,
          0.002,
          0.002,
          0.001,
          0.001,
          0.001,
          0,
          0,
          0,
          0,
          0,
          0,
          0,
          0,
          0,
          0,
          0,
          0,
          0,
          0,
          0,
          0,
          0,
          0,
          0
         ]
        }
       ],
       "layout": {
        "template": {
         "data": {
          "bar": [
           {
            "error_x": {
             "color": "#2a3f5f"
            },
            "error_y": {
             "color": "#2a3f5f"
            },
            "marker": {
             "line": {
              "color": "#E5ECF6",
              "width": 0.5
             },
             "pattern": {
              "fillmode": "overlay",
              "size": 10,
              "solidity": 0.2
             }
            },
            "type": "bar"
           }
          ],
          "barpolar": [
           {
            "marker": {
             "line": {
              "color": "#E5ECF6",
              "width": 0.5
             },
             "pattern": {
              "fillmode": "overlay",
              "size": 10,
              "solidity": 0.2
             }
            },
            "type": "barpolar"
           }
          ],
          "carpet": [
           {
            "aaxis": {
             "endlinecolor": "#2a3f5f",
             "gridcolor": "white",
             "linecolor": "white",
             "minorgridcolor": "white",
             "startlinecolor": "#2a3f5f"
            },
            "baxis": {
             "endlinecolor": "#2a3f5f",
             "gridcolor": "white",
             "linecolor": "white",
             "minorgridcolor": "white",
             "startlinecolor": "#2a3f5f"
            },
            "type": "carpet"
           }
          ],
          "choropleth": [
           {
            "colorbar": {
             "outlinewidth": 0,
             "ticks": ""
            },
            "type": "choropleth"
           }
          ],
          "contour": [
           {
            "colorbar": {
             "outlinewidth": 0,
             "ticks": ""
            },
            "colorscale": [
             [
              0,
              "#0d0887"
             ],
             [
              0.1111111111111111,
              "#46039f"
             ],
             [
              0.2222222222222222,
              "#7201a8"
             ],
             [
              0.3333333333333333,
              "#9c179e"
             ],
             [
              0.4444444444444444,
              "#bd3786"
             ],
             [
              0.5555555555555556,
              "#d8576b"
             ],
             [
              0.6666666666666666,
              "#ed7953"
             ],
             [
              0.7777777777777778,
              "#fb9f3a"
             ],
             [
              0.8888888888888888,
              "#fdca26"
             ],
             [
              1,
              "#f0f921"
             ]
            ],
            "type": "contour"
           }
          ],
          "contourcarpet": [
           {
            "colorbar": {
             "outlinewidth": 0,
             "ticks": ""
            },
            "type": "contourcarpet"
           }
          ],
          "heatmap": [
           {
            "colorbar": {
             "outlinewidth": 0,
             "ticks": ""
            },
            "colorscale": [
             [
              0,
              "#0d0887"
             ],
             [
              0.1111111111111111,
              "#46039f"
             ],
             [
              0.2222222222222222,
              "#7201a8"
             ],
             [
              0.3333333333333333,
              "#9c179e"
             ],
             [
              0.4444444444444444,
              "#bd3786"
             ],
             [
              0.5555555555555556,
              "#d8576b"
             ],
             [
              0.6666666666666666,
              "#ed7953"
             ],
             [
              0.7777777777777778,
              "#fb9f3a"
             ],
             [
              0.8888888888888888,
              "#fdca26"
             ],
             [
              1,
              "#f0f921"
             ]
            ],
            "type": "heatmap"
           }
          ],
          "heatmapgl": [
           {
            "colorbar": {
             "outlinewidth": 0,
             "ticks": ""
            },
            "colorscale": [
             [
              0,
              "#0d0887"
             ],
             [
              0.1111111111111111,
              "#46039f"
             ],
             [
              0.2222222222222222,
              "#7201a8"
             ],
             [
              0.3333333333333333,
              "#9c179e"
             ],
             [
              0.4444444444444444,
              "#bd3786"
             ],
             [
              0.5555555555555556,
              "#d8576b"
             ],
             [
              0.6666666666666666,
              "#ed7953"
             ],
             [
              0.7777777777777778,
              "#fb9f3a"
             ],
             [
              0.8888888888888888,
              "#fdca26"
             ],
             [
              1,
              "#f0f921"
             ]
            ],
            "type": "heatmapgl"
           }
          ],
          "histogram": [
           {
            "marker": {
             "pattern": {
              "fillmode": "overlay",
              "size": 10,
              "solidity": 0.2
             }
            },
            "type": "histogram"
           }
          ],
          "histogram2d": [
           {
            "colorbar": {
             "outlinewidth": 0,
             "ticks": ""
            },
            "colorscale": [
             [
              0,
              "#0d0887"
             ],
             [
              0.1111111111111111,
              "#46039f"
             ],
             [
              0.2222222222222222,
              "#7201a8"
             ],
             [
              0.3333333333333333,
              "#9c179e"
             ],
             [
              0.4444444444444444,
              "#bd3786"
             ],
             [
              0.5555555555555556,
              "#d8576b"
             ],
             [
              0.6666666666666666,
              "#ed7953"
             ],
             [
              0.7777777777777778,
              "#fb9f3a"
             ],
             [
              0.8888888888888888,
              "#fdca26"
             ],
             [
              1,
              "#f0f921"
             ]
            ],
            "type": "histogram2d"
           }
          ],
          "histogram2dcontour": [
           {
            "colorbar": {
             "outlinewidth": 0,
             "ticks": ""
            },
            "colorscale": [
             [
              0,
              "#0d0887"
             ],
             [
              0.1111111111111111,
              "#46039f"
             ],
             [
              0.2222222222222222,
              "#7201a8"
             ],
             [
              0.3333333333333333,
              "#9c179e"
             ],
             [
              0.4444444444444444,
              "#bd3786"
             ],
             [
              0.5555555555555556,
              "#d8576b"
             ],
             [
              0.6666666666666666,
              "#ed7953"
             ],
             [
              0.7777777777777778,
              "#fb9f3a"
             ],
             [
              0.8888888888888888,
              "#fdca26"
             ],
             [
              1,
              "#f0f921"
             ]
            ],
            "type": "histogram2dcontour"
           }
          ],
          "mesh3d": [
           {
            "colorbar": {
             "outlinewidth": 0,
             "ticks": ""
            },
            "type": "mesh3d"
           }
          ],
          "parcoords": [
           {
            "line": {
             "colorbar": {
              "outlinewidth": 0,
              "ticks": ""
             }
            },
            "type": "parcoords"
           }
          ],
          "pie": [
           {
            "automargin": true,
            "type": "pie"
           }
          ],
          "scatter": [
           {
            "fillpattern": {
             "fillmode": "overlay",
             "size": 10,
             "solidity": 0.2
            },
            "type": "scatter"
           }
          ],
          "scatter3d": [
           {
            "line": {
             "colorbar": {
              "outlinewidth": 0,
              "ticks": ""
             }
            },
            "marker": {
             "colorbar": {
              "outlinewidth": 0,
              "ticks": ""
             }
            },
            "type": "scatter3d"
           }
          ],
          "scattercarpet": [
           {
            "marker": {
             "colorbar": {
              "outlinewidth": 0,
              "ticks": ""
             }
            },
            "type": "scattercarpet"
           }
          ],
          "scattergeo": [
           {
            "marker": {
             "colorbar": {
              "outlinewidth": 0,
              "ticks": ""
             }
            },
            "type": "scattergeo"
           }
          ],
          "scattergl": [
           {
            "marker": {
             "colorbar": {
              "outlinewidth": 0,
              "ticks": ""
             }
            },
            "type": "scattergl"
           }
          ],
          "scattermapbox": [
           {
            "marker": {
             "colorbar": {
              "outlinewidth": 0,
              "ticks": ""
             }
            },
            "type": "scattermapbox"
           }
          ],
          "scatterpolar": [
           {
            "marker": {
             "colorbar": {
              "outlinewidth": 0,
              "ticks": ""
             }
            },
            "type": "scatterpolar"
           }
          ],
          "scatterpolargl": [
           {
            "marker": {
             "colorbar": {
              "outlinewidth": 0,
              "ticks": ""
             }
            },
            "type": "scatterpolargl"
           }
          ],
          "scatterternary": [
           {
            "marker": {
             "colorbar": {
              "outlinewidth": 0,
              "ticks": ""
             }
            },
            "type": "scatterternary"
           }
          ],
          "surface": [
           {
            "colorbar": {
             "outlinewidth": 0,
             "ticks": ""
            },
            "colorscale": [
             [
              0,
              "#0d0887"
             ],
             [
              0.1111111111111111,
              "#46039f"
             ],
             [
              0.2222222222222222,
              "#7201a8"
             ],
             [
              0.3333333333333333,
              "#9c179e"
             ],
             [
              0.4444444444444444,
              "#bd3786"
             ],
             [
              0.5555555555555556,
              "#d8576b"
             ],
             [
              0.6666666666666666,
              "#ed7953"
             ],
             [
              0.7777777777777778,
              "#fb9f3a"
             ],
             [
              0.8888888888888888,
              "#fdca26"
             ],
             [
              1,
              "#f0f921"
             ]
            ],
            "type": "surface"
           }
          ],
          "table": [
           {
            "cells": {
             "fill": {
              "color": "#EBF0F8"
             },
             "line": {
              "color": "white"
             }
            },
            "header": {
             "fill": {
              "color": "#C8D4E3"
             },
             "line": {
              "color": "white"
             }
            },
            "type": "table"
           }
          ]
         },
         "layout": {
          "annotationdefaults": {
           "arrowcolor": "#2a3f5f",
           "arrowhead": 0,
           "arrowwidth": 1
          },
          "autotypenumbers": "strict",
          "coloraxis": {
           "colorbar": {
            "outlinewidth": 0,
            "ticks": ""
           }
          },
          "colorscale": {
           "diverging": [
            [
             0,
             "#8e0152"
            ],
            [
             0.1,
             "#c51b7d"
            ],
            [
             0.2,
             "#de77ae"
            ],
            [
             0.3,
             "#f1b6da"
            ],
            [
             0.4,
             "#fde0ef"
            ],
            [
             0.5,
             "#f7f7f7"
            ],
            [
             0.6,
             "#e6f5d0"
            ],
            [
             0.7,
             "#b8e186"
            ],
            [
             0.8,
             "#7fbc41"
            ],
            [
             0.9,
             "#4d9221"
            ],
            [
             1,
             "#276419"
            ]
           ],
           "sequential": [
            [
             0,
             "#0d0887"
            ],
            [
             0.1111111111111111,
             "#46039f"
            ],
            [
             0.2222222222222222,
             "#7201a8"
            ],
            [
             0.3333333333333333,
             "#9c179e"
            ],
            [
             0.4444444444444444,
             "#bd3786"
            ],
            [
             0.5555555555555556,
             "#d8576b"
            ],
            [
             0.6666666666666666,
             "#ed7953"
            ],
            [
             0.7777777777777778,
             "#fb9f3a"
            ],
            [
             0.8888888888888888,
             "#fdca26"
            ],
            [
             1,
             "#f0f921"
            ]
           ],
           "sequentialminus": [
            [
             0,
             "#0d0887"
            ],
            [
             0.1111111111111111,
             "#46039f"
            ],
            [
             0.2222222222222222,
             "#7201a8"
            ],
            [
             0.3333333333333333,
             "#9c179e"
            ],
            [
             0.4444444444444444,
             "#bd3786"
            ],
            [
             0.5555555555555556,
             "#d8576b"
            ],
            [
             0.6666666666666666,
             "#ed7953"
            ],
            [
             0.7777777777777778,
             "#fb9f3a"
            ],
            [
             0.8888888888888888,
             "#fdca26"
            ],
            [
             1,
             "#f0f921"
            ]
           ]
          },
          "colorway": [
           "#636efa",
           "#EF553B",
           "#00cc96",
           "#ab63fa",
           "#FFA15A",
           "#19d3f3",
           "#FF6692",
           "#B6E880",
           "#FF97FF",
           "#FECB52"
          ],
          "font": {
           "color": "#2a3f5f"
          },
          "geo": {
           "bgcolor": "white",
           "lakecolor": "white",
           "landcolor": "#E5ECF6",
           "showlakes": true,
           "showland": true,
           "subunitcolor": "white"
          },
          "hoverlabel": {
           "align": "left"
          },
          "hovermode": "closest",
          "mapbox": {
           "style": "light"
          },
          "paper_bgcolor": "white",
          "plot_bgcolor": "#E5ECF6",
          "polar": {
           "angularaxis": {
            "gridcolor": "white",
            "linecolor": "white",
            "ticks": ""
           },
           "bgcolor": "#E5ECF6",
           "radialaxis": {
            "gridcolor": "white",
            "linecolor": "white",
            "ticks": ""
           }
          },
          "scene": {
           "xaxis": {
            "backgroundcolor": "#E5ECF6",
            "gridcolor": "white",
            "gridwidth": 2,
            "linecolor": "white",
            "showbackground": true,
            "ticks": "",
            "zerolinecolor": "white"
           },
           "yaxis": {
            "backgroundcolor": "#E5ECF6",
            "gridcolor": "white",
            "gridwidth": 2,
            "linecolor": "white",
            "showbackground": true,
            "ticks": "",
            "zerolinecolor": "white"
           },
           "zaxis": {
            "backgroundcolor": "#E5ECF6",
            "gridcolor": "white",
            "gridwidth": 2,
            "linecolor": "white",
            "showbackground": true,
            "ticks": "",
            "zerolinecolor": "white"
           }
          },
          "shapedefaults": {
           "line": {
            "color": "#2a3f5f"
           }
          },
          "ternary": {
           "aaxis": {
            "gridcolor": "white",
            "linecolor": "white",
            "ticks": ""
           },
           "baxis": {
            "gridcolor": "white",
            "linecolor": "white",
            "ticks": ""
           },
           "bgcolor": "#E5ECF6",
           "caxis": {
            "gridcolor": "white",
            "linecolor": "white",
            "ticks": ""
           }
          },
          "title": {
           "x": 0.05
          },
          "xaxis": {
           "automargin": true,
           "gridcolor": "white",
           "linecolor": "white",
           "ticks": "",
           "title": {
            "standoff": 15
           },
           "zerolinecolor": "white",
           "zerolinewidth": 2
          },
          "yaxis": {
           "automargin": true,
           "gridcolor": "white",
           "linecolor": "white",
           "ticks": "",
           "title": {
            "standoff": 15
           },
           "zerolinecolor": "white",
           "zerolinewidth": 2
          }
         }
        },
        "title": {
         "text": "Geometry Optimization"
        },
        "xaxis": {
         "range": [
          1,
          46
         ],
         "title": {
          "text": "Optimization Step"
         }
        },
        "yaxis": {
         "title": {
          "text": "Relative Energy [kcal/mol]"
         },
         "zeroline": true
        }
       }
      },
      "text/html": [
       "<div>                            <div id=\"9925b7ef-e176-4aa4-9dcd-d6ecac3a0948\" class=\"plotly-graph-div\" style=\"height:525px; width:100%;\"></div>            <script type=\"text/javascript\">                require([\"plotly\"], function(Plotly) {                    window.PLOTLYENV=window.PLOTLYENV || {};                                    if (document.getElementById(\"9925b7ef-e176-4aa4-9dcd-d6ecac3a0948\")) {                    Plotly.newPlot(                        \"9925b7ef-e176-4aa4-9dcd-d6ecac3a0948\",                        [{\"mode\":\"lines+markers\",\"x\":[1,2,3,4,5,6,7,8,9,10,11,12,13,14,15,16,17,18,19,20,21,22,23,24,25,26,27,28,29,30,31,32,33,34,35,36,37,38,39,40,41,42,43,44,45,46],\"y\":[26.39,2.314,2.019,0.674,0.63,0.3,0.245,0.167,0.142,0.102,0.093,0.068,0.054,0.042,0.032,0.021,0.015,0.011,0.008,0.007,0.004,0.003,0.002,0.002,0.001,0.001,0.001,0.0,0.0,0.0,0.0,0.0,0.0,0.0,0.0,0.0,0.0,0.0,0.0,0.0,0.0,0.0,0.0,0.0,0.0,0.0],\"type\":\"scatter\"}],                        {\"template\":{\"data\":{\"barpolar\":[{\"marker\":{\"line\":{\"color\":\"#E5ECF6\",\"width\":0.5},\"pattern\":{\"fillmode\":\"overlay\",\"size\":10,\"solidity\":0.2}},\"type\":\"barpolar\"}],\"bar\":[{\"error_x\":{\"color\":\"#2a3f5f\"},\"error_y\":{\"color\":\"#2a3f5f\"},\"marker\":{\"line\":{\"color\":\"#E5ECF6\",\"width\":0.5},\"pattern\":{\"fillmode\":\"overlay\",\"size\":10,\"solidity\":0.2}},\"type\":\"bar\"}],\"carpet\":[{\"aaxis\":{\"endlinecolor\":\"#2a3f5f\",\"gridcolor\":\"white\",\"linecolor\":\"white\",\"minorgridcolor\":\"white\",\"startlinecolor\":\"#2a3f5f\"},\"baxis\":{\"endlinecolor\":\"#2a3f5f\",\"gridcolor\":\"white\",\"linecolor\":\"white\",\"minorgridcolor\":\"white\",\"startlinecolor\":\"#2a3f5f\"},\"type\":\"carpet\"}],\"choropleth\":[{\"colorbar\":{\"outlinewidth\":0,\"ticks\":\"\"},\"type\":\"choropleth\"}],\"contourcarpet\":[{\"colorbar\":{\"outlinewidth\":0,\"ticks\":\"\"},\"type\":\"contourcarpet\"}],\"contour\":[{\"colorbar\":{\"outlinewidth\":0,\"ticks\":\"\"},\"colorscale\":[[0.0,\"#0d0887\"],[0.1111111111111111,\"#46039f\"],[0.2222222222222222,\"#7201a8\"],[0.3333333333333333,\"#9c179e\"],[0.4444444444444444,\"#bd3786\"],[0.5555555555555556,\"#d8576b\"],[0.6666666666666666,\"#ed7953\"],[0.7777777777777778,\"#fb9f3a\"],[0.8888888888888888,\"#fdca26\"],[1.0,\"#f0f921\"]],\"type\":\"contour\"}],\"heatmapgl\":[{\"colorbar\":{\"outlinewidth\":0,\"ticks\":\"\"},\"colorscale\":[[0.0,\"#0d0887\"],[0.1111111111111111,\"#46039f\"],[0.2222222222222222,\"#7201a8\"],[0.3333333333333333,\"#9c179e\"],[0.4444444444444444,\"#bd3786\"],[0.5555555555555556,\"#d8576b\"],[0.6666666666666666,\"#ed7953\"],[0.7777777777777778,\"#fb9f3a\"],[0.8888888888888888,\"#fdca26\"],[1.0,\"#f0f921\"]],\"type\":\"heatmapgl\"}],\"heatmap\":[{\"colorbar\":{\"outlinewidth\":0,\"ticks\":\"\"},\"colorscale\":[[0.0,\"#0d0887\"],[0.1111111111111111,\"#46039f\"],[0.2222222222222222,\"#7201a8\"],[0.3333333333333333,\"#9c179e\"],[0.4444444444444444,\"#bd3786\"],[0.5555555555555556,\"#d8576b\"],[0.6666666666666666,\"#ed7953\"],[0.7777777777777778,\"#fb9f3a\"],[0.8888888888888888,\"#fdca26\"],[1.0,\"#f0f921\"]],\"type\":\"heatmap\"}],\"histogram2dcontour\":[{\"colorbar\":{\"outlinewidth\":0,\"ticks\":\"\"},\"colorscale\":[[0.0,\"#0d0887\"],[0.1111111111111111,\"#46039f\"],[0.2222222222222222,\"#7201a8\"],[0.3333333333333333,\"#9c179e\"],[0.4444444444444444,\"#bd3786\"],[0.5555555555555556,\"#d8576b\"],[0.6666666666666666,\"#ed7953\"],[0.7777777777777778,\"#fb9f3a\"],[0.8888888888888888,\"#fdca26\"],[1.0,\"#f0f921\"]],\"type\":\"histogram2dcontour\"}],\"histogram2d\":[{\"colorbar\":{\"outlinewidth\":0,\"ticks\":\"\"},\"colorscale\":[[0.0,\"#0d0887\"],[0.1111111111111111,\"#46039f\"],[0.2222222222222222,\"#7201a8\"],[0.3333333333333333,\"#9c179e\"],[0.4444444444444444,\"#bd3786\"],[0.5555555555555556,\"#d8576b\"],[0.6666666666666666,\"#ed7953\"],[0.7777777777777778,\"#fb9f3a\"],[0.8888888888888888,\"#fdca26\"],[1.0,\"#f0f921\"]],\"type\":\"histogram2d\"}],\"histogram\":[{\"marker\":{\"pattern\":{\"fillmode\":\"overlay\",\"size\":10,\"solidity\":0.2}},\"type\":\"histogram\"}],\"mesh3d\":[{\"colorbar\":{\"outlinewidth\":0,\"ticks\":\"\"},\"type\":\"mesh3d\"}],\"parcoords\":[{\"line\":{\"colorbar\":{\"outlinewidth\":0,\"ticks\":\"\"}},\"type\":\"parcoords\"}],\"pie\":[{\"automargin\":true,\"type\":\"pie\"}],\"scatter3d\":[{\"line\":{\"colorbar\":{\"outlinewidth\":0,\"ticks\":\"\"}},\"marker\":{\"colorbar\":{\"outlinewidth\":0,\"ticks\":\"\"}},\"type\":\"scatter3d\"}],\"scattercarpet\":[{\"marker\":{\"colorbar\":{\"outlinewidth\":0,\"ticks\":\"\"}},\"type\":\"scattercarpet\"}],\"scattergeo\":[{\"marker\":{\"colorbar\":{\"outlinewidth\":0,\"ticks\":\"\"}},\"type\":\"scattergeo\"}],\"scattergl\":[{\"marker\":{\"colorbar\":{\"outlinewidth\":0,\"ticks\":\"\"}},\"type\":\"scattergl\"}],\"scattermapbox\":[{\"marker\":{\"colorbar\":{\"outlinewidth\":0,\"ticks\":\"\"}},\"type\":\"scattermapbox\"}],\"scatterpolargl\":[{\"marker\":{\"colorbar\":{\"outlinewidth\":0,\"ticks\":\"\"}},\"type\":\"scatterpolargl\"}],\"scatterpolar\":[{\"marker\":{\"colorbar\":{\"outlinewidth\":0,\"ticks\":\"\"}},\"type\":\"scatterpolar\"}],\"scatter\":[{\"fillpattern\":{\"fillmode\":\"overlay\",\"size\":10,\"solidity\":0.2},\"type\":\"scatter\"}],\"scatterternary\":[{\"marker\":{\"colorbar\":{\"outlinewidth\":0,\"ticks\":\"\"}},\"type\":\"scatterternary\"}],\"surface\":[{\"colorbar\":{\"outlinewidth\":0,\"ticks\":\"\"},\"colorscale\":[[0.0,\"#0d0887\"],[0.1111111111111111,\"#46039f\"],[0.2222222222222222,\"#7201a8\"],[0.3333333333333333,\"#9c179e\"],[0.4444444444444444,\"#bd3786\"],[0.5555555555555556,\"#d8576b\"],[0.6666666666666666,\"#ed7953\"],[0.7777777777777778,\"#fb9f3a\"],[0.8888888888888888,\"#fdca26\"],[1.0,\"#f0f921\"]],\"type\":\"surface\"}],\"table\":[{\"cells\":{\"fill\":{\"color\":\"#EBF0F8\"},\"line\":{\"color\":\"white\"}},\"header\":{\"fill\":{\"color\":\"#C8D4E3\"},\"line\":{\"color\":\"white\"}},\"type\":\"table\"}]},\"layout\":{\"annotationdefaults\":{\"arrowcolor\":\"#2a3f5f\",\"arrowhead\":0,\"arrowwidth\":1},\"autotypenumbers\":\"strict\",\"coloraxis\":{\"colorbar\":{\"outlinewidth\":0,\"ticks\":\"\"}},\"colorscale\":{\"diverging\":[[0,\"#8e0152\"],[0.1,\"#c51b7d\"],[0.2,\"#de77ae\"],[0.3,\"#f1b6da\"],[0.4,\"#fde0ef\"],[0.5,\"#f7f7f7\"],[0.6,\"#e6f5d0\"],[0.7,\"#b8e186\"],[0.8,\"#7fbc41\"],[0.9,\"#4d9221\"],[1,\"#276419\"]],\"sequential\":[[0.0,\"#0d0887\"],[0.1111111111111111,\"#46039f\"],[0.2222222222222222,\"#7201a8\"],[0.3333333333333333,\"#9c179e\"],[0.4444444444444444,\"#bd3786\"],[0.5555555555555556,\"#d8576b\"],[0.6666666666666666,\"#ed7953\"],[0.7777777777777778,\"#fb9f3a\"],[0.8888888888888888,\"#fdca26\"],[1.0,\"#f0f921\"]],\"sequentialminus\":[[0.0,\"#0d0887\"],[0.1111111111111111,\"#46039f\"],[0.2222222222222222,\"#7201a8\"],[0.3333333333333333,\"#9c179e\"],[0.4444444444444444,\"#bd3786\"],[0.5555555555555556,\"#d8576b\"],[0.6666666666666666,\"#ed7953\"],[0.7777777777777778,\"#fb9f3a\"],[0.8888888888888888,\"#fdca26\"],[1.0,\"#f0f921\"]]},\"colorway\":[\"#636efa\",\"#EF553B\",\"#00cc96\",\"#ab63fa\",\"#FFA15A\",\"#19d3f3\",\"#FF6692\",\"#B6E880\",\"#FF97FF\",\"#FECB52\"],\"font\":{\"color\":\"#2a3f5f\"},\"geo\":{\"bgcolor\":\"white\",\"lakecolor\":\"white\",\"landcolor\":\"#E5ECF6\",\"showlakes\":true,\"showland\":true,\"subunitcolor\":\"white\"},\"hoverlabel\":{\"align\":\"left\"},\"hovermode\":\"closest\",\"mapbox\":{\"style\":\"light\"},\"paper_bgcolor\":\"white\",\"plot_bgcolor\":\"#E5ECF6\",\"polar\":{\"angularaxis\":{\"gridcolor\":\"white\",\"linecolor\":\"white\",\"ticks\":\"\"},\"bgcolor\":\"#E5ECF6\",\"radialaxis\":{\"gridcolor\":\"white\",\"linecolor\":\"white\",\"ticks\":\"\"}},\"scene\":{\"xaxis\":{\"backgroundcolor\":\"#E5ECF6\",\"gridcolor\":\"white\",\"gridwidth\":2,\"linecolor\":\"white\",\"showbackground\":true,\"ticks\":\"\",\"zerolinecolor\":\"white\"},\"yaxis\":{\"backgroundcolor\":\"#E5ECF6\",\"gridcolor\":\"white\",\"gridwidth\":2,\"linecolor\":\"white\",\"showbackground\":true,\"ticks\":\"\",\"zerolinecolor\":\"white\"},\"zaxis\":{\"backgroundcolor\":\"#E5ECF6\",\"gridcolor\":\"white\",\"gridwidth\":2,\"linecolor\":\"white\",\"showbackground\":true,\"ticks\":\"\",\"zerolinecolor\":\"white\"}},\"shapedefaults\":{\"line\":{\"color\":\"#2a3f5f\"}},\"ternary\":{\"aaxis\":{\"gridcolor\":\"white\",\"linecolor\":\"white\",\"ticks\":\"\"},\"baxis\":{\"gridcolor\":\"white\",\"linecolor\":\"white\",\"ticks\":\"\"},\"bgcolor\":\"#E5ECF6\",\"caxis\":{\"gridcolor\":\"white\",\"linecolor\":\"white\",\"ticks\":\"\"}},\"title\":{\"x\":0.05},\"xaxis\":{\"automargin\":true,\"gridcolor\":\"white\",\"linecolor\":\"white\",\"ticks\":\"\",\"title\":{\"standoff\":15},\"zerolinecolor\":\"white\",\"zerolinewidth\":2},\"yaxis\":{\"automargin\":true,\"gridcolor\":\"white\",\"linecolor\":\"white\",\"ticks\":\"\",\"title\":{\"standoff\":15},\"zerolinecolor\":\"white\",\"zerolinewidth\":2}}},\"title\":{\"text\":\"Geometry Optimization\"},\"xaxis\":{\"range\":[1,46],\"title\":{\"text\":\"Optimization Step\"}},\"yaxis\":{\"title\":{\"text\":\"Relative Energy [kcal/mol]\"},\"zeroline\":true}},                        {\"responsive\": true}                    ).then(function(){\n",
       "                            \n",
       "var gd = document.getElementById('9925b7ef-e176-4aa4-9dcd-d6ecac3a0948');\n",
       "var x = new MutationObserver(function (mutations, observer) {{\n",
       "        var display = window.getComputedStyle(gd).display;\n",
       "        if (!display || display === 'none') {{\n",
       "            console.log([gd, 'removed!']);\n",
       "            Plotly.purge(gd);\n",
       "            observer.disconnect();\n",
       "        }}\n",
       "}});\n",
       "\n",
       "// Listen for the removal of the full notebook cells\n",
       "var notebookContainer = gd.closest('#notebook-container');\n",
       "if (notebookContainer) {{\n",
       "    x.observe(notebookContainer, {childList: true});\n",
       "}}\n",
       "\n",
       "// Listen for the clearing of the current output cell\n",
       "var outputEl = gd.closest('.output');\n",
       "if (outputEl) {{\n",
       "    x.observe(outputEl, {childList: true});\n",
       "}}\n",
       "\n",
       "                        })                };                });            </script>        </div>"
      ]
     },
     "metadata": {},
     "output_type": "display_data"
    }
   ],
   "source": [
    "rr.show_history()"
   ]
  },
  {
   "cell_type": "markdown",
   "metadata": {},
   "source": [
    "## Extras"
   ]
  },
  {
   "cell_type": "markdown",
   "metadata": {},
   "source": [
    "## Load a hessian from a file\n"
   ]
  },
  {
   "cell_type": "code",
   "execution_count": 87,
   "metadata": {},
   "outputs": [],
   "source": [
    "#import numpy as np\n",
    "#h = np.loadtxt(\"./hessian_1.txt\", delimiter = ' ')\n",
    "#h.shape"
   ]
  },
  {
   "cell_type": "markdown",
   "metadata": {},
   "source": [
    "### Restart Optimization jobs"
   ]
  },
  {
   "cell_type": "code",
   "execution_count": null,
   "metadata": {},
   "outputs": [],
   "source": [
    "mol_list = []\n",
    "\n",
    "spec = 'pbe0-d3_def2-svp'\n",
    "\n",
    "for i in ds_opt.data.records: \n",
    "    #print(i)\n",
    "    mol_list.append(i)\n",
    "\n",
    "for i in  mol_list:\n",
    "    opt_rec = ds_opt.get_record(name=i,specification= spec)\n",
    "    if (opt_rec.status == 'ERROR'):    \n",
    "        id_u = opt_rec.id \n",
    "        print('yes', i, id_u)\n",
    "        c = client.modify_tasks(\"modify\", new_tag = 'tera',base_result = id_u)\n",
    "        #c = client.modify_tasks(\"restart\",base_result = id_u)\n",
    "        print(c)"
   ]
  },
  {
   "cell_type": "markdown",
   "metadata": {},
   "source": [
    "### Show gradient output"
   ]
  },
  {
   "cell_type": "code",
   "execution_count": 66,
   "metadata": {},
   "outputs": [
    {
     "name": "stdout",
     "output_type": "stream",
     "text": [
      "Startfile from command line: tc.in\n",
      "\n",
      "\n",
      "       ***********************************************************\n",
      "       *                    TeraChem v1.94V-2019.08-beta         *\n",
      "       *                 Hg Version: b27b21c3892d+               *\n",
      "       *                   Production Version                    *\n",
      "       *           Chemistry at the Speed of Graphics!           *\n",
      "       ***********************************************************\n",
      "       * This program may only be used in connection with        *\n",
      "       * a valid license from PetaChem, LLC. Use of this program *\n",
      "       * or results thereof indicates acceptance of all terms    *\n",
      "       * and conditions stated in the license and that a valid   *\n",
      "       * license agreement between the user and PetaChem, LLC    *\n",
      "       * exists. PetaChem, LLC does not warrant the correctness  *\n",
      "       * of results or their suitability for any purpose.        *\n",
      "       * Please email bugs, suggestions, and comments to         *\n",
      "       *                  help@petachem.com                      *\n",
      "       *                                                         *\n",
      "       ***********************************************************\n",
      "\n",
      "\n",
      "       ***********************************************************\n",
      "       *  Compiled by toddmtz      Thu Sep 17 13:09:59 PDT 2020  *\n",
      "       *  Supported architectures: sm_30 sm_50 sm_60 sm_70       *\n",
      "       *  Cuda compilation tools, release 10.1, V10.1.168        *\n",
      "       ***********************************************************\n",
      "\n",
      "\n",
      " Job started   Sun Jan 15 06:43:34 2023\n",
      " On i01 (available memory: 215305 MB)\n",
      "\n",
      "######################################### RUNTIME INFO ##########################################\n",
      "terachem tc.in \n",
      "\n",
      "NVRM version: NVIDIA UNIX x86_64 Kernel Module  470.57.02  Tue Jul 13 16:14:05 UTC 2021\n",
      "GCC version:  gcc versión 4.8.5 20150623 (Red Hat 4.8.5-36) (GCC) \n",
      "\n",
      "\tlinux-vdso.so.1 =>  (0x00007ffde2ef2000)\n",
      "\tlibcurl.so.4 => /lib64/libcurl.so.4 (0x00007f842adcc000)\n",
      "\tlibdftbplus.so => /opt/easybuild/software/Terachem/1.9.4/lib/libdftbplus.so (0x00007f842a89b000)\n",
      "\tlibfsockets.so => /opt/easybuild/software/Terachem/1.9.4/lib/libfsockets.so (0x00007f842a698000)\n",
      "\tlibxmlf90.so => /opt/easybuild/software/Terachem/1.9.4/lib/libxmlf90.so (0x00007f842a473000)\n",
      "\tlibgpubox.so.1 => /opt/easybuild/software/Terachem/1.9.4/lib/libgpubox.so.1 (0x00007f842a260000)\n",
      "\tlibtensorbox.so.1 => /opt/easybuild/software/Terachem/1.9.4/lib/libtensorbox.so.1 (0x00007f842a04a000)\n",
      "\tlibmoleculebox.so.1 => /opt/easybuild/software/Terachem/1.9.4/lib/libmoleculebox.so.1 (0x00007f8429e38000)\n",
      "\tlibintbox.so.1 => /opt/easybuild/software/Terachem/1.9.4/lib/libintbox.so.1 (0x00007f840bc03000)\n",
      "\tlibsqmbox.so.1 => /opt/easybuild/software/Terachem/1.9.4/lib/libsqmbox.so.1 (0x00007f840b6cc000)\n",
      "\tlibgridbox.so.1 => /opt/easybuild/software/Terachem/1.9.4/lib/libgridbox.so.1 (0x00007f840b1fa000)\n",
      "\tlibdftbox.so.1 => /opt/easybuild/software/Terachem/1.9.4/lib/libdftbox.so.1 (0x00007f840af18000)\n",
      "\tlibcibox.so.1 => /opt/easybuild/software/Terachem/1.9.4/lib/libcibox.so.1 (0x00007f840a8f1000)\n",
      "\tlibccbox.so.1 => /opt/easybuild/software/Terachem/1.9.4/lib/libccbox.so.1 (0x00007f840a5cc000)\n",
      "\tlibsimbox.so.1 => /opt/easybuild/software/Terachem/1.9.4/lib/libsimbox.so.1 (0x00007f840a3c6000)\n",
      "\tliboptbox.so.1 => /opt/easybuild/software/Terachem/1.9.4/lib/liboptbox.so.1 (0x00007f840a19c000)\n",
      "\tlibsandboxbox.so.1 => /opt/easybuild/software/Terachem/1.9.4/lib/libsandboxbox.so.1 (0x00007f8409f9a000)\n",
      "\tlibfragmentbox.so.1 => /opt/easybuild/software/Terachem/1.9.4/lib/libfragmentbox.so.1 (0x00007f8409d98000)\n",
      "\tlibcuda.so.1 => /lib64/libcuda.so.1 (0x00007f840863c000)\n",
      "\tlibcudart.so.10.1 => /opt/easybuild/software/Terachem/1.9.4/lib/libcudart.so.10.1 (0x00007f84083c0000)\n",
      "\tlibcublas.so.10 => /opt/easybuild/software/Terachem/1.9.4/lib/libcublas.so.10 (0x00007f8404648000)\n",
      "\tlibcufft.so.10 => /opt/easybuild/software/Terachem/1.9.4/lib/libcufft.so.10 (0x00007f83fc006000)\n",
      "\tlibcusparse.so.10 => /opt/easybuild/software/Terachem/1.9.4/lib/libcusparse.so.10 (0x00007f83f4995000)\n",
      "\tlibcrypto.so.10 => /lib64/libcrypto.so.10 (0x00007f83f4532000)\n",
      "\tlibssl.so.10 => /lib64/libssl.so.10 (0x00007f83f42c0000)\n",
      "\tlibstdc++.so.6 => /lib64/libstdc++.so.6 (0x00007f83f3fb7000)\n",
      "\tlibm.so.6 => /lib64/libm.so.6 (0x00007f83f3cb5000)\n",
      "\tlibcilkrts.so.5 => /opt/easybuild/software/Terachem/1.9.4/lib/libcilkrts.so.5 (0x00007f83f3a7a000)\n",
      "\tlibgcc_s.so.1 => /lib64/libgcc_s.so.1 (0x00007f83f3864000)\n",
      "\tlibpthread.so.0 => /lib64/libpthread.so.0 (0x00007f83f3648000)\n",
      "\tlibc.so.6 => /lib64/libc.so.6 (0x00007f83f3287000)\n",
      "\t/lib64/ld-linux-x86-64.so.2 (0x00007f842b035000)\n",
      "\tlibdl.so.2 => /lib64/libdl.so.2 (0x00007f83f3083000)\n",
      "\tlibidn.so.11 => /lib64/libidn.so.11 (0x00007f83f2e50000)\n",
      "\tlibssh2.so.1 => /lib64/libssh2.so.1 (0x00007f83f2c26000)\n",
      "\tlibssl3.so => /lib64/libssl3.so (0x00007f83f29da000)\n",
      "\tlibsmime3.so => /lib64/libsmime3.so (0x00007f83f27b3000)\n",
      "\tlibnss3.so => /lib64/libnss3.so (0x00007f83f2489000)\n",
      "\tlibnssutil3.so => /lib64/libnssutil3.so (0x00007f83f225c000)\n",
      "\tlibplds4.so => /lib64/libplds4.so (0x00007f83f2058000)\n",
      "\tlibplc4.so => /lib64/libplc4.so (0x00007f83f1e53000)\n",
      "\tlibnspr4.so => /lib64/libnspr4.so (0x00007f83f1c15000)\n",
      "\tlibgssapi_krb5.so.2 => /lib64/libgssapi_krb5.so.2 (0x00007f83f19c8000)\n",
      "\tlibkrb5.so.3 => /lib64/libkrb5.so.3 (0x00007f83f16df000)\n",
      "\tlibk5crypto.so.3 => /lib64/libk5crypto.so.3 (0x00007f83f14ac000)\n",
      "\tlibcom_err.so.2 => /lib64/libcom_err.so.2 (0x00007f83f12a8000)\n",
      "\tliblber-2.4.so.2 => /lib64/liblber-2.4.so.2 (0x00007f83f1099000)\n",
      "\tlibldap-2.4.so.2 => /lib64/libldap-2.4.so.2 (0x00007f83f0e46000)\n",
      "\tlibz.so.1 => /lib64/libz.so.1 (0x00007f83f0c30000)\n",
      "\tlibifport.so.5 => /opt/easybuild/software/Terachem/1.9.4/lib/libifport.so.5 (0x00007f83f0a01000)\n",
      "\tlibifcoremt.so.5 => /opt/easybuild/software/Terachem/1.9.4/lib/libifcoremt.so.5 (0x00007f83f0673000)\n",
      "\tlibimf.so => /opt/easybuild/software/Terachem/1.9.4/lib/libimf.so (0x00007f83f0187000)\n",
      "\tlibsvml.so => /opt/easybuild/software/Terachem/1.9.4/lib/libsvml.so (0x00007f83ef271000)\n",
      "\tlibiomp5.so => /opt/easybuild/software/Terachem/1.9.4/lib/libiomp5.so (0x00007f83eef2a000)\n",
      "\tlibintlc.so.5 => /opt/easybuild/software/Terachem/1.9.4/lib/libintlc.so.5 (0x00007f83eecc0000)\n",
      "\tlibrt.so.1 => /lib64/librt.so.1 (0x00007f83eeab8000)\n",
      "\tlibcublasLt.so.10 => /opt/easybuild/software/Terachem/1.9.4/lib/libcublasLt.so.10 (0x00007f83ec967000)\n",
      "\tlibkrb5support.so.0 => /lib64/libkrb5support.so.0 (0x00007f83ec757000)\n",
      "\tlibkeyutils.so.1 => /lib64/libkeyutils.so.1 (0x00007f83ec553000)\n",
      "\tlibresolv.so.2 => /lib64/libresolv.so.2 (0x00007f83ec339000)\n",
      "\tlibsasl2.so.3 => /lib64/libsasl2.so.3 (0x00007f83ec11c000)\n",
      "\tlibselinux.so.1 => /lib64/libselinux.so.1 (0x00007f83ebef5000)\n",
      "\tlibcrypt.so.1 => /lib64/libcrypt.so.1 (0x00007f83ebcbe000)\n",
      "\tlibpcre.so.1 => /lib64/libpcre.so.1 (0x00007f83eba5c000)\n",
      "\tlibfreebl3.so => /lib64/libfreebl3.so (0x00007f83eb859000)\n",
      "#################################################################################################\n",
      "\n",
      "Cannot find license.dat file in the TeraChem installation directory /opt/easybuild/software/Terachem/1.9.4\n",
      "\n",
      "\n",
      "TRYING THE NETWORK LICENSE...\n",
      "Connecting to license server 'license.petachem.com' port '8877'...\n",
      "Connected!\n",
      "Checking your license...\n",
      "\n",
      "**************************************************************\n",
      "  Greetings, Esteban Vohringer-Martinez! You have 6 licenses in total\n",
      "  IN USE: 0\n",
      "  AVAILABLE: 6\n",
      "**************************************************************\n",
      "\n",
      "Jobname: geometry\n",
      "Scratch directory: ./scr.geometry\n",
      "Random number seed: 1376816055\n",
      "\n",
      "XYZ coordinates geometry.xyz\n",
      "Molden File Output: ./scr.geometry/geometry.molden\n",
      "Using basis set: def2-svp\n",
      "dmrgstart not found\n",
      "Spin multiplicity: 1\n",
      "DIIS will use up to 10 vectors.\n",
      "WF convergence threshold: 3.00e-07\n",
      "Using DIIS (in Converger class) to converge WF with ADIIS+DIIS as backup\n",
      "ADIIS will switch to DIIS when the DIIS error drops below 1.00e-03\n",
      "Maximum number of SCF iterations: 100\n",
      "Incremental fock with rebuild every 8 iterations\n",
      "Will switch to conventional Fock if diffuse functions are detected\n",
      "X-matrix tolerance: 1.00e-04\n",
      "PRECISION: DYNAMIC\n",
      "DFT Functional requested: pbe0\n",
      "Method: PBE0  with dispersion correction\n",
      "  PBE exchange functional:              0.75 \n",
      "  Hartree-Fock exact exchange:          0.25 \n",
      "  PBE correlation functional:           1.0  \n",
      "Wavefunction: RESTRICTED\n",
      "\n",
      " DFT-D code reimplemented following the\n",
      " code by S.Grimme, University Bonn \n",
      " based on DFTD3 V3.2 Rev 0         \n",
      " \n",
      "Please cite DFT-D3 work done with this code as:\n",
      "S. Grimme, J. Antony, S. Ehrlich and H. Krieg,\n",
      "J. Chem. Phys. 132 (2010), 154104\n",
      "If used with BJ-damping cite also\n",
      "S. Grimme, S. Ehrlich and L. Goerigk,\n",
      "J. Comput. Chem. 32 (2011), 1456-1465\n",
      "For DFT-D2 the reference is\n",
      "S. Grimme, J. Comput. Chem., 27 (2006), 1787-1799\n",
      "DFT grid type: 2\n",
      "Using a single DFT grid.\n",
      "Initial guess generated by maximum overlap\n",
      "\n",
      "********************************************\n",
      "**** SINGLE POINT GRADIENT CALCULATIONS ****\n",
      "********************************************\n",
      "SCF:   Initial guess is taken from previous step\n",
      "\n",
      "using 1 out of 1 CUDA devices\n",
      "   Device 0: NVIDIA GeForce GTX 1080 Ti, 11178MB, CC 6.1 -- CPU THREAD 0\n",
      "-------------------------------------------------------------------\n",
      "Compiled with MAGMA support.  MAGMA parameters:\n",
      "    Matrices larger than 5000 square will be treated with MAGMA\n",
      "       (Change by setting the MagmaMinN environment variable)\n",
      "    Magma will use 1 out of 1 GPUs\n",
      "       (Change by setting the MagmaNGPUs environment variable)\n",
      "-------------------------------------------------------------------\n",
      " CPU Memory Available: 32229.88 MegaWords \n",
      " GPU Memory Available: 1141.31 MegaWords \n",
      " Maximum recommended basis set size: 12200 basis functions\n",
      " (limited by GPU memory)\n",
      "-------------------------------------------------------------------\n",
      "Using d-functions. Configuring GPUs accordingly.\n",
      "0: CUBLAS initialized, available GPU memory: 8273MB\n",
      "\n",
      "\n",
      "Basis set:       def2-svp\n",
      "Total atoms:     58\n",
      "Total charge:    0\n",
      "Total electrons: 246 (123-alpha, 123-beta)\n",
      "Number electrons modeled by ECPs: 0\n",
      "Total orbitals:  624\n",
      "Total AO shells: 275 (150 S-shells; 92 P-shells; 33 D-shells; 0 F-shells; 0 G-shells)\n",
      "Spin multiplicity: 1\n",
      "Nuclear repulsion energy (QM atoms): 3889.396576780885 a.u.\n",
      "\n",
      "DFTD Energy:    -0.0770442 hartree\n",
      "Setting up the DFT grid...\n",
      "time to set the grid = 0.19 s\n",
      "DFT grid points: 358126 (6174 points/atom)\n",
      "\n",
      "                      *** Start SCF Iterations ***\n",
      "\n",
      " Iter     DIIS Error       Energy change      Electrons        XC Energy           Energy        Time(s)\n",
      "----------------------------------------------------------------------------------------------------------\n",
      "Purifying guess...Purification run on GPU (single precision)  using TC2 purification.\n",
      "Density matrix purification finished after a total of 0 matrix multiplies\n",
      "THRESPDP set to 1.00e+00\n",
      "   1     0.1724566202   -1758.0457286462   246.0003745009  -164.9288002814   -1758.0457286462     1.95  \n",
      "   2     0.1537156438      -4.0005701736   246.0003984344  -174.1897178239   -1762.0462988198     1.82  \n",
      "   3     0.1432584712      -4.1738613243   246.0003920717  -171.0511640824   -1766.2201601441     1.82  \n",
      "   4     0.0617398708      -0.9366311564   246.0005130773  -170.0842254417   -1767.1567913005     1.79  \n",
      "   5     0.0132610718      -0.1488924630   246.0004723106  -170.5303944825   -1767.3056837635     1.77  \n",
      "   6     0.0043764146      -0.0110345331   246.0004841434  -170.5851674005   -1767.3167182966     1.70  \n",
      "   7     0.0009045892      -0.0025333549   246.0004790130  -170.5412154105   -1767.3192516515     1.67  \n",
      "THRESPDP set to 9.59e-07\n",
      "   8     0.0004238352      -0.0000291350   246.0004899237  -170.5427980213   -1767.3192807865     4.63  \n",
      "   9     0.0001837253      -0.0000263051   246.0004891428  -170.5456012342   -1767.3193070916     3.54  \n",
      "  10     0.0000540270      -0.0000020821   246.0004893201  -170.5447494437   -1767.3193091737     3.71  \n",
      "  11     0.0000228072      -0.0000002316   246.0004892788  -170.5449878565   -1767.3193094052     3.40  \n",
      "  12     0.0000101950      -0.0000000672   246.0004893194  -170.5449259812   -1767.3193094725     3.29  \n",
      "  13     0.0000032452      -0.0000000133   246.0004893179  -170.5449473030   -1767.3193094858     3.18  \n",
      "  14     0.0000013197      +0.0000000006   246.0004893183  -170.5449230272   -1767.3193094851     3.14  \n",
      "  15     0.0000003584      -0.0000000018   246.0004893188  -170.5449233534   -1767.3193094870     3.11  \n",
      "  16     0.0000001655      -0.0000000113   246.0004893185  -170.5449237632   -1767.3193094983     4.53  \n",
      "----------------------------------------------------------------------------------------------------------\n",
      "FINAL ENERGY: -1767.3193094983 a.u.\n",
      "DFTD Dispersion Correction: -0.0770441671 a.u.\n",
      "HOMO-LUMO GAP: 4.162 eV\n",
      "CENTER OF MASS: {-0.000496, -0.000258, 0.001817} ANGS\n",
      "DIPOLE MOMENT: {2.044284, -3.998555, 1.536508} (|D| = 4.746409) DEBYE\n",
      "\n",
      "Running Mulliken population analysis...\n",
      "\n",
      "Writing out molden info\n",
      "\n",
      "Gradient units are Hartree/Bohr\n",
      "---------------------------------------------------\n",
      "        dE/dX            dE/dY            dE/dZ\n",
      "    0.0023070675     0.0117333392     0.0081695343\n",
      "    0.0162311876     0.0231560557     0.0159188425\n",
      "   -0.0037268085     0.0333078653     0.0075915526\n",
      "   -0.0012532814     0.0013592321     0.0002650719\n",
      "   -0.0078444498    -0.0082773015    -0.0094569150\n",
      "   -0.0057901335     0.0461923351     0.0169538843\n",
      "   -0.0065431195     0.0226273587     0.0018721144\n",
      "    0.0052821932     0.0060425366     0.0045352226\n",
      "    0.0124011154     0.0240738502    -0.0049258121\n",
      "   -0.0081167303     0.0001995709     0.0147911377\n",
      "    0.0003158204     0.0025749253    -0.0009652808\n",
      "    0.0053574072    -0.0034912250     0.0022670417\n",
      "    0.0001341309    -0.0008096224     0.0000560372\n",
      "    0.0043594680     0.0008810368     0.0056708316\n",
      "    0.0040777024     0.0049303942     0.0009626507\n",
      "    0.0014697376    -0.0018459831    -0.0046188110\n",
      "    0.0049994393    -0.0061144429    -0.0013208756\n",
      "   -0.0001085760     0.0030416202     0.0025349786\n",
      "   -0.0044852035    -0.0004881023    -0.0042738901\n",
      "    0.0034273499    -0.0360306628    -0.0098691582\n",
      "   -0.0009488106    -0.0016515295    -0.0027883883\n",
      "    0.0060032506     0.0016523769    -0.0099284391\n",
      "   -0.0028805764    -0.0046525656    -0.0003330319\n",
      "   -0.0051623217    -0.0233652212     0.0021366402\n",
      "   -0.0077602605     0.0032055645    -0.0016463042\n",
      "   -0.0003086761    -0.0296392349    -0.0083910238\n",
      "    0.0000160760     0.0002309096    -0.0037979370\n",
      "    0.0082838670     0.0090417007     0.0091143029\n",
      "   -0.0053406012    -0.0040001464     0.0000912857\n",
      "   -0.0203078990    -0.0232051441    -0.0191755825\n",
      "   -0.0056348724     0.0043862331     0.0001335820\n",
      "    0.0077177272    -0.0504854858    -0.0162201439\n",
      "   -0.0006596990     0.0009465436     0.0019867598\n",
      "   -0.0010800787    -0.0078533857    -0.0045846645\n",
      "    0.0051431049     0.0109916951     0.0155852075\n",
      "   -0.0146167147    -0.0019310258     0.0038897936\n",
      "    0.0128396473    -0.0869011927    -0.0244960470\n",
      "    0.0111288961     0.0507520727     0.0328716396\n",
      "    0.0080318959     0.0158900711    -0.0130283527\n",
      "   -0.0151149082     0.0247184148    -0.0030080067\n",
      "   -0.0144570893    -0.0043532799     0.0031673984\n",
      "    0.0015368083    -0.0005164249    -0.0029020672\n",
      "    0.0006764830    -0.0173008386    -0.0287019216\n",
      "    0.0025145359    -0.0026737364    -0.0062521897\n",
      "   -0.0014724607    -0.0277213216     0.0043045931\n",
      "    0.0015668015    -0.0095342858     0.0118899136\n",
      "    0.0084785248     0.0074553811     0.0149875715\n",
      "   -0.0028985857     0.0026959591     0.0102637885\n",
      "   -0.0229702111    -0.0411174452     0.0022545007\n",
      "    0.0042590296     0.0608484706    -0.0773713674\n",
      "    0.0044687931     0.0329665526    -0.0086226572\n",
      "   -0.0045127486    -0.0000385804     0.0001919196\n",
      "    0.0119015052     0.0094052795     0.0120007880\n",
      "    0.0092377348     0.0052137507    -0.0117099567\n",
      "    0.0018071317     0.0263122446    -0.0026622959\n",
      "    0.0175411460    -0.0162548491     0.0414257334\n",
      "   -0.0084262883     0.0075559404     0.0199699628\n",
      "   -0.0110950948    -0.0441366968     0.0131967577\n",
      "---------------------------------------------------\n",
      "Net gradient: -6.214712e-07 -4.492215e-07 -8.137900e-08\n",
      "Net torque:   -2.836715e-03  9.232248e-03  1.317737e-03\n",
      "\n",
      "Total processing time: 57.37 sec \n",
      "\n",
      " Job finished: Sun Jan 15 06:44:39 2023\n",
      "\n",
      "\n"
     ]
    }
   ],
   "source": [
    "print(rr.get_trajectory()[0].get_stdout())"
   ]
  },
  {
   "cell_type": "markdown",
   "metadata": {},
   "source": [
    "### Show Optimization output"
   ]
  },
  {
   "cell_type": "code",
   "execution_count": 65,
   "metadata": {},
   "outputs": [
    {
     "name": "stdout",
     "output_type": "stream",
     "text": [
      "QCEngine selected.\n",
      "174 internal coordinates being used (instead of 174 Cartesians)\n",
      "Internal coordinate system (atoms numbered from 1):\n",
      "Distance 1-2\n",
      "Distance 1-6\n",
      "Distance 1-34\n",
      "Distance 2-3\n",
      "Distance 2-30\n",
      "Distance 3-4\n",
      "Distance 3-20\n",
      "Distance 4-5\n",
      "Distance 4-7\n",
      "Distance 5-6\n",
      "Distance 5-28\n",
      "Distance 6-32\n",
      "Distance 7-8\n",
      "Distance 7-26\n",
      "Distance 8-9\n",
      "Distance 8-35\n",
      "Distance 9-10\n",
      "Distance 9-23\n",
      "Distance 9-24\n",
      "Distance 10-11\n",
      "Distance 10-21\n",
      "Distance 10-22\n",
      "Distance 11-12\n",
      "Distance 11-35\n",
      "Distance 12-13\n",
      "Distance 12-25\n",
      "Distance 13-14\n",
      "Distance 13-18\n",
      "Distance 14-15\n",
      "Distance 14-19\n",
      "Distance 15-16\n",
      "Distance 15-29\n",
      "Distance 16-17\n",
      "Distance 16-33\n",
      "Distance 17-18\n",
      "Distance 17-31\n",
      "Distance 18-27\n",
      "Distance 27-35\n",
      "Distance 28-35\n",
      "Distance 35-36\n",
      "Distance 35-43\n",
      "Distance 36-37\n",
      "Distance 37-38\n",
      "Distance 37-39\n",
      "Distance 37-40\n",
      "Distance 41-45\n",
      "Distance 41-47\n",
      "Distance 42-46\n",
      "Distance 42-48\n",
      "Distance 43-47\n",
      "Distance 44-48\n",
      "Distance 45-48\n",
      "Distance 45-49\n",
      "Distance 45-51\n",
      "Distance 46-47\n",
      "Distance 46-50\n",
      "Distance 46-52\n",
      "Distance 49-53\n",
      "Distance 49-54\n",
      "Distance 49-55\n",
      "Distance 50-56\n",
      "Distance 50-57\n",
      "Distance 50-58\n",
      "Angle 2-1-34\n",
      "Angle 6-1-34\n",
      "Angle 1-2-30\n",
      "Angle 3-2-30\n",
      "Angle 2-3-20\n",
      "Angle 4-3-20\n",
      "Angle 3-4-7\n",
      "Angle 5-4-7\n",
      "Angle 4-5-28\n",
      "Angle 6-5-28\n",
      "Angle 1-6-32\n",
      "Angle 5-6-32\n",
      "Angle 4-7-26\n",
      "Angle 8-7-26\n",
      "Angle 7-8-35\n",
      "Angle 9-8-35\n",
      "Angle 8-9-10\n",
      "Angle 8-9-23\n",
      "Angle 8-9-24\n",
      "Angle 10-9-23\n",
      "Angle 10-9-24\n",
      "Angle 23-9-24\n",
      "Angle 9-10-11\n",
      "Angle 9-10-21\n",
      "Angle 9-10-22\n",
      "Angle 11-10-21\n",
      "Angle 11-10-22\n",
      "Angle 21-10-22\n",
      "Angle 10-11-35\n",
      "Angle 12-11-35\n",
      "Angle 11-12-25\n",
      "Angle 13-12-25\n",
      "Angle 12-13-18\n",
      "Angle 14-13-18\n",
      "Angle 13-14-19\n",
      "Angle 15-14-19\n",
      "Angle 14-15-29\n",
      "Angle 16-15-29\n",
      "Angle 15-16-33\n",
      "Angle 17-16-33\n",
      "Angle 16-17-31\n",
      "Angle 18-17-31\n",
      "Angle 13-18-27\n",
      "Angle 17-18-27\n",
      "Angle 18-27-35\n",
      "Angle 5-28-35\n",
      "Angle 28-35-36\n",
      "Angle 28-35-43\n",
      "Angle 36-35-43\n",
      "Angle 35-36-37\n",
      "Angle 36-37-38\n",
      "Angle 36-37-39\n",
      "Angle 36-37-40\n",
      "Angle 38-37-39\n",
      "Angle 38-37-40\n",
      "Angle 39-37-40\n",
      "Angle 45-41-47\n",
      "Angle 46-42-48\n",
      "Angle 35-43-47\n",
      "Angle 41-45-48\n",
      "Angle 41-45-49\n",
      "Angle 41-45-51\n",
      "Angle 48-45-49\n",
      "Angle 48-45-51\n",
      "Angle 49-45-51\n",
      "Angle 42-46-47\n",
      "Angle 42-46-50\n",
      "Angle 42-46-52\n",
      "Angle 47-46-50\n",
      "Angle 47-46-52\n",
      "Angle 50-46-52\n",
      "Angle 41-47-46\n",
      "Angle 43-47-46\n",
      "Angle 42-48-45\n",
      "Angle 44-48-45\n",
      "Angle 45-49-53\n",
      "Angle 45-49-54\n",
      "Angle 45-49-55\n",
      "Angle 53-49-54\n",
      "Angle 53-49-55\n",
      "Angle 54-49-55\n",
      "Angle 46-50-56\n",
      "Angle 46-50-57\n",
      "Angle 46-50-58\n",
      "Angle 56-50-57\n",
      "Angle 56-50-58\n",
      "Angle 57-50-58\n",
      "LinearAngleX 8-35-43\n",
      "LinearAngleY 8-35-43\n",
      "LinearAngleX 11-35-28\n",
      "LinearAngleY 11-35-28\n",
      "LinearAngleX 27-35-36\n",
      "LinearAngleY 27-35-36\n",
      "Out-of-Plane 1-2-6-34\n",
      "Out-of-Plane 2-1-3-30\n",
      "Out-of-Plane 3-2-4-20\n",
      "Out-of-Plane 4-3-5-7\n",
      "Out-of-Plane 5-4-6-28\n",
      "Out-of-Plane 6-1-5-32\n",
      "Out-of-Plane 7-4-8-26\n",
      "Out-of-Plane 8-7-9-35\n",
      "Out-of-Plane 11-10-12-35\n",
      "Out-of-Plane 12-11-13-25\n",
      "Out-of-Plane 13-12-14-18\n",
      "Out-of-Plane 14-13-15-19\n",
      "Out-of-Plane 15-14-16-29\n",
      "Out-of-Plane 16-15-17-33\n",
      "Out-of-Plane 17-16-18-31\n",
      "Out-of-Plane 18-13-17-27\n",
      "Out-of-Plane 35-8-11-28\n",
      "Out-of-Plane 35-8-11-43\n",
      "Out-of-Plane 35-8-27-36\n",
      "Out-of-Plane 35-8-27-43\n",
      "Out-of-Plane 35-8-28-43\n",
      "Out-of-Plane 35-8-36-43\n",
      "Out-of-Plane 35-11-27-28\n",
      "Out-of-Plane 35-11-27-36\n",
      "Out-of-Plane 35-11-36-28\n",
      "Out-of-Plane 35-11-43-28\n",
      "Out-of-Plane 35-27-28-36\n",
      "Out-of-Plane 35-27-43-36\n",
      "Out-of-Plane 47-41-43-46\n",
      "Out-of-Plane 48-42-44-45\n",
      "Dihedral 6-1-2-3\n",
      "Dihedral 6-1-2-30\n",
      "Dihedral 34-1-2-3\n",
      "Dihedral 34-1-2-30\n",
      "Dihedral 2-1-6-5\n",
      "Dihedral 2-1-6-32\n",
      "Dihedral 34-1-6-5\n",
      "Dihedral 34-1-6-32\n",
      "Dihedral 1-2-3-4\n",
      "Dihedral 1-2-3-20\n",
      "Dihedral 30-2-3-4\n",
      "Dihedral 30-2-3-20\n",
      "Dihedral 2-3-4-5\n",
      "Dihedral 2-3-4-7\n",
      "Dihedral 20-3-4-5\n",
      "Dihedral 20-3-4-7\n",
      "Dihedral 3-4-5-6\n",
      "Dihedral 3-4-5-28\n",
      "Dihedral 7-4-5-6\n",
      "Dihedral 7-4-5-28\n",
      "Dihedral 3-4-7-8\n",
      "Dihedral 3-4-7-26\n",
      "Dihedral 5-4-7-8\n",
      "Dihedral 5-4-7-26\n",
      "Dihedral 4-5-6-1\n",
      "Dihedral 4-5-6-32\n",
      "Dihedral 28-5-6-1\n",
      "Dihedral 28-5-6-32\n",
      "Dihedral 4-5-28-35\n",
      "Dihedral 6-5-28-35\n",
      "Dihedral 4-7-8-9\n",
      "Dihedral 4-7-8-35\n",
      "Dihedral 26-7-8-9\n",
      "Dihedral 26-7-8-35\n",
      "Dihedral 7-8-9-10\n",
      "Dihedral 7-8-9-23\n",
      "Dihedral 7-8-9-24\n",
      "Dihedral 35-8-9-10\n",
      "Dihedral 35-8-9-23\n",
      "Dihedral 35-8-9-24\n",
      "Dihedral 7-8-35-11\n",
      "Dihedral 7-8-35-27\n",
      "Dihedral 7-8-35-28\n",
      "Dihedral 7-8-35-36\n",
      "Dihedral 9-8-35-11\n",
      "Dihedral 9-8-35-27\n",
      "Dihedral 9-8-35-28\n",
      "Dihedral 9-8-35-36\n",
      "Dihedral 7-8-43-47\n",
      "Dihedral 9-8-43-47\n",
      "Dihedral 11-35-43-47\n",
      "Dihedral 27-35-43-47\n",
      "Dihedral 28-35-43-47\n",
      "Dihedral 36-35-43-47\n",
      "Dihedral 8-9-10-11\n",
      "Dihedral 8-9-10-21\n",
      "Dihedral 8-9-10-22\n",
      "Dihedral 23-9-10-11\n",
      "Dihedral 23-9-10-21\n",
      "Dihedral 23-9-10-22\n",
      "Dihedral 24-9-10-11\n",
      "Dihedral 24-9-10-21\n",
      "Dihedral 24-9-10-22\n",
      "Dihedral 9-10-11-12\n",
      "Dihedral 9-10-11-35\n",
      "Dihedral 21-10-11-12\n",
      "Dihedral 21-10-11-35\n",
      "Dihedral 22-10-11-12\n",
      "Dihedral 22-10-11-35\n",
      "Dihedral 10-11-12-13\n",
      "Dihedral 10-11-12-25\n",
      "Dihedral 35-11-12-13\n",
      "Dihedral 35-11-12-25\n",
      "Dihedral 10-11-35-8\n",
      "Dihedral 10-11-35-27\n",
      "Dihedral 10-11-35-36\n",
      "Dihedral 10-11-35-43\n",
      "Dihedral 12-11-35-8\n",
      "Dihedral 12-11-35-27\n",
      "Dihedral 12-11-35-36\n",
      "Dihedral 12-11-35-43\n",
      "Dihedral 10-11-28-5\n",
      "Dihedral 12-11-28-5\n",
      "Dihedral 5-28-35-8\n",
      "Dihedral 5-28-35-27\n",
      "Dihedral 5-28-35-36\n",
      "Dihedral 5-28-35-43\n",
      "Dihedral 11-12-13-14\n",
      "Dihedral 11-12-13-18\n",
      "Dihedral 25-12-13-14\n",
      "Dihedral 25-12-13-18\n",
      "Dihedral 12-13-14-15\n",
      "Dihedral 12-13-14-19\n",
      "Dihedral 18-13-14-15\n",
      "Dihedral 18-13-14-19\n",
      "Dihedral 12-13-18-17\n",
      "Dihedral 12-13-18-27\n",
      "Dihedral 14-13-18-17\n",
      "Dihedral 14-13-18-27\n",
      "Dihedral 13-14-15-16\n",
      "Dihedral 13-14-15-29\n",
      "Dihedral 19-14-15-16\n",
      "Dihedral 19-14-15-29\n",
      "Dihedral 14-15-16-17\n",
      "Dihedral 14-15-16-33\n",
      "Dihedral 29-15-16-17\n",
      "Dihedral 29-15-16-33\n",
      "Dihedral 15-16-17-18\n",
      "Dihedral 15-16-17-31\n",
      "Dihedral 33-16-17-18\n",
      "Dihedral 33-16-17-31\n",
      "Dihedral 16-17-18-13\n",
      "Dihedral 16-17-18-27\n",
      "Dihedral 31-17-18-13\n",
      "Dihedral 31-17-18-27\n",
      "Dihedral 13-18-27-35\n",
      "Dihedral 17-18-27-35\n",
      "Dihedral 18-27-35-8\n",
      "Dihedral 18-27-35-11\n",
      "Dihedral 18-27-35-28\n",
      "Dihedral 18-27-35-43\n",
      "Dihedral 18-27-36-37\n",
      "Dihedral 8-35-36-37\n",
      "Dihedral 11-35-36-37\n",
      "Dihedral 28-35-36-37\n",
      "Dihedral 43-35-36-37\n",
      "Dihedral 35-36-37-38\n",
      "Dihedral 35-36-37-39\n",
      "Dihedral 35-36-37-40\n",
      "Dihedral 47-41-45-48\n",
      "Dihedral 47-41-45-49\n",
      "Dihedral 47-41-45-51\n",
      "Dihedral 45-41-47-43\n",
      "Dihedral 45-41-47-46\n",
      "Dihedral 48-42-46-47\n",
      "Dihedral 48-42-46-50\n",
      "Dihedral 48-42-46-52\n",
      "Dihedral 46-42-48-44\n",
      "Dihedral 46-42-48-45\n",
      "Dihedral 35-43-47-41\n",
      "Dihedral 35-43-47-46\n",
      "Dihedral 41-45-48-42\n",
      "Dihedral 41-45-48-44\n",
      "Dihedral 49-45-48-42\n",
      "Dihedral 49-45-48-44\n",
      "Dihedral 51-45-48-42\n",
      "Dihedral 51-45-48-44\n",
      "Dihedral 41-45-49-53\n",
      "Dihedral 41-45-49-54\n",
      "Dihedral 41-45-49-55\n",
      "Dihedral 48-45-49-53\n",
      "Dihedral 48-45-49-54\n",
      "Dihedral 48-45-49-55\n",
      "Dihedral 51-45-49-53\n",
      "Dihedral 51-45-49-54\n",
      "Dihedral 51-45-49-55\n",
      "Dihedral 42-46-47-41\n",
      "Dihedral 42-46-47-43\n",
      "Dihedral 50-46-47-41\n",
      "Dihedral 50-46-47-43\n",
      "Dihedral 52-46-47-41\n",
      "Dihedral 52-46-47-43\n",
      "Dihedral 42-46-50-56\n",
      "Dihedral 42-46-50-57\n",
      "Dihedral 42-46-50-58\n",
      "Dihedral 47-46-50-56\n",
      "Dihedral 47-46-50-57\n",
      "Dihedral 47-46-50-58\n",
      "Dihedral 52-46-50-56\n",
      "Dihedral 52-46-50-57\n",
      "Dihedral 52-46-50-58\n",
      "Translation-X 1-58\n",
      "Translation-Y 1-58\n",
      "Translation-Z 1-58\n",
      "Rotation-A 1-58\n",
      "Rotation-B 1-58\n",
      "Rotation-C 1-58\n",
      "<class 'geometric.internal.Distance'> : 63\n",
      "<class 'geometric.internal.Angle'> : 87\n",
      "<class 'geometric.internal.LinearAngle'> : 6\n",
      "<class 'geometric.internal.OutOfPlane'> : 30\n",
      "<class 'geometric.internal.Dihedral'> : 171\n",
      "<class 'geometric.internal.TranslationX'> : 1\n",
      "<class 'geometric.internal.TranslationY'> : 1\n",
      "<class 'geometric.internal.TranslationZ'> : 1\n",
      "<class 'geometric.internal.RotationA'> : 1\n",
      "<class 'geometric.internal.RotationB'> : 1\n",
      "<class 'geometric.internal.RotationC'> : 1\n",
      "Using convergence criteria set: convergence_set gau_tight\n",
      "> ===== Optimization Info: ====\n",
      "> Job type: Energy minimization\n",
      "> Maximum number of optimization cycles: 300\n",
      "> Initial / maximum trust radius (Angstrom): 0.100 / 0.300\n",
      "> Convergence Criteria:\n",
      "> Will converge when all 5 criteria are reached:\n",
      ">  |Delta-E| < 1.00e-06\n",
      ">  RMS-Grad  < 1.00e-05\n",
      ">  Max-Grad  < 1.50e-05\n",
      ">  RMS-Disp  < 4.00e-05\n",
      ">  Max-Disp  < 6.00e-05\n",
      "> === End Optimization Info ===\n",
      "Step    0 : Gradient = 2.977e-02/9.852e-02 (rms/max) Energy = -1767.3193094983\n",
      "Hessian Eigenvalues: 2.30000e-02 2.30000e-02 2.30000e-02 ... 6.99018e-01 8.92514e-01 1.10107e+00\n",
      "Step    1 : Displace = \u001b[0m1.081e-01\u001b[0m/\u001b[0m2.954e-01\u001b[0m (rms/max) Trust = 1.000e-01 (=) Grad = \u001b[0m4.484e-03\u001b[0m/\u001b[0m1.540e-02\u001b[0m (rms/max) E (change) = -1767.3576774359 (\u001b[0m-3.837e-02\u001b[0m) Quality = \u001b[0m1.016\u001b[0m\n",
      "Hessian Eigenvalues: 2.27529e-02 2.30000e-02 2.30000e-02 ... 6.99083e-01 8.92904e-01 1.10075e+00\n",
      "Step    2 : Displace = \u001b[0m1.428e-01\u001b[0m/\u001b[0m3.415e-01\u001b[0m (rms/max) Trust = 1.414e-01 (\u001b[92m+\u001b[0m) Grad = \u001b[0m4.539e-03\u001b[0m/\u001b[0m1.581e-02\u001b[0m (rms/max) E (change) = -1767.3581474528 (\u001b[0m-4.700e-04\u001b[0m) Quality = \u001b[0m0.154\u001b[0m\n",
      "Hessian Eigenvalues: 2.17397e-02 2.30000e-02 2.30000e-02 ... 7.10030e-01 9.00532e-01 1.10024e+00\n",
      "Step    3 : Displace = \u001b[0m7.611e-02\u001b[0m/\u001b[0m1.645e-01\u001b[0m (rms/max) Trust = 7.071e-02 (\u001b[91m-\u001b[0m) Grad = \u001b[0m2.143e-03\u001b[0m/\u001b[0m7.706e-03\u001b[0m (rms/max) E (change) = -1767.3602909125 (\u001b[0m-2.143e-03\u001b[0m) Quality = \u001b[0m0.874\u001b[0m\n",
      "Hessian Eigenvalues: 2.14373e-02 2.29988e-02 2.30000e-02 ... 7.40362e-01 9.09732e-01 1.10032e+00\n",
      "Step    4 : Displace = \u001b[0m5.364e-02\u001b[0m/\u001b[0m1.256e-01\u001b[0m (rms/max) Trust = 1.000e-01 (\u001b[92m+\u001b[0m) Grad = \u001b[0m2.240e-03\u001b[0m/\u001b[0m7.174e-03\u001b[0m (rms/max) E (change) = -1767.3603614067 (\u001b[0m-7.049e-05\u001b[0m) Quality = \u001b[0m0.106\u001b[0m\n",
      "Hessian Eigenvalues: 1.99712e-02 2.29547e-02 2.30000e-02 ... 7.20018e-01 9.06698e-01 1.10054e+00\n",
      "Step    5 : Displace = \u001b[0m2.539e-02\u001b[0m/\u001b[0m5.469e-02\u001b[0m (rms/max) Trust = 2.682e-02 (\u001b[91m-\u001b[0m) Grad = \u001b[0m9.169e-04\u001b[0m/\u001b[0m4.161e-03\u001b[0m (rms/max) E (change) = -1767.3608862480 (\u001b[0m-5.248e-04\u001b[0m) Quality = \u001b[0m1.071\u001b[0m\n",
      "Hessian Eigenvalues: 1.86354e-02 2.29136e-02 2.29976e-02 ... 7.31449e-01 9.06564e-01 1.10074e+00\n",
      "Step    6 : Displace = \u001b[0m1.772e-02\u001b[0m/\u001b[0m3.765e-02\u001b[0m (rms/max) Trust = 3.793e-02 (\u001b[92m+\u001b[0m) Grad = \u001b[0m8.446e-04\u001b[0m/\u001b[0m2.333e-03\u001b[0m (rms/max) E (change) = -1767.3609751136 (\u001b[0m-8.887e-05\u001b[0m) Quality = \u001b[0m0.592\u001b[0m\n",
      "Hessian Eigenvalues: 1.27017e-02 2.27837e-02 2.29956e-02 ... 7.35879e-01 9.07809e-01 1.10077e+00\n",
      "Step    7 : Displace = \u001b[0m1.975e-02\u001b[0m/\u001b[0m4.231e-02\u001b[0m (rms/max) Trust = 3.793e-02 (=) Grad = \u001b[0m5.847e-04\u001b[0m/\u001b[0m1.705e-03\u001b[0m (rms/max) E (change) = -1767.3610990777 (\u001b[0m-1.240e-04\u001b[0m) Quality = \u001b[0m1.106\u001b[0m\n",
      "Hessian Eigenvalues: 8.72507e-03 2.27093e-02 2.29967e-02 ... 7.81726e-01 9.09134e-01 1.10078e+00\n",
      "Step    8 : Displace = \u001b[0m1.421e-02\u001b[0m/\u001b[0m2.632e-02\u001b[0m (rms/max) Trust = 5.364e-02 (\u001b[92m+\u001b[0m) Grad = \u001b[0m6.698e-04\u001b[0m/\u001b[0m2.939e-03\u001b[0m (rms/max) E (change) = -1767.3611390940 (\u001b[0m-4.002e-05\u001b[0m) Quality = \u001b[0m0.403\u001b[0m\n",
      "Hessian Eigenvalues: 7.28469e-03 2.23615e-02 2.29930e-02 ... 7.71708e-01 9.06336e-01 1.10094e+00\n",
      "Step    9 : Displace = \u001b[0m1.068e-02\u001b[0m/\u001b[0m2.412e-02\u001b[0m (rms/max) Trust = 5.364e-02 (=) Grad = \u001b[0m3.429e-04\u001b[0m/\u001b[0m1.216e-03\u001b[0m (rms/max) E (change) = -1767.3612016064 (\u001b[0m-6.251e-05\u001b[0m) Quality = \u001b[0m1.164\u001b[0m\n",
      "Hessian Eigenvalues: 6.80371e-03 2.04909e-02 2.29382e-02 ... 7.88211e-01 9.06168e-01 1.10103e+00\n",
      "Step   10 : Displace = \u001b[0m7.521e-03\u001b[0m/\u001b[0m2.127e-02\u001b[0m (rms/max) Trust = 7.586e-02 (\u001b[92m+\u001b[0m) Grad = \u001b[0m4.684e-04\u001b[0m/\u001b[0m1.796e-03\u001b[0m (rms/max) E (change) = -1767.3612164362 (\u001b[0m-1.483e-05\u001b[0m) Quality = \u001b[0m0.439\u001b[0m\n",
      "Hessian Eigenvalues: 5.41571e-03 1.63183e-02 2.28663e-02 ... 7.85590e-01 9.08770e-01 1.10122e+00\n",
      "Step   11 : Displace = \u001b[0m7.792e-03\u001b[0m/\u001b[0m2.519e-02\u001b[0m (rms/max) Trust = 7.586e-02 (=) Grad = \u001b[0m2.664e-04\u001b[0m/\u001b[0m9.012e-04\u001b[0m (rms/max) E (change) = -1767.3612562107 (\u001b[0m-3.977e-05\u001b[0m) Quality = \u001b[0m1.337\u001b[0m\n",
      "Hessian Eigenvalues: 4.06320e-03 1.37639e-02 2.27823e-02 ... 8.08848e-01 9.04538e-01 1.10112e+00\n",
      "Step   12 : Displace = \u001b[0m1.119e-02\u001b[0m/\u001b[0m3.853e-02\u001b[0m (rms/max) Trust = 1.073e-01 (\u001b[92m+\u001b[0m) Grad = \u001b[0m3.369e-04\u001b[0m/\u001b[0m9.265e-04\u001b[0m (rms/max) E (change) = -1767.3612792253 (\u001b[0m-2.301e-05\u001b[0m) Quality = \u001b[0m0.891\u001b[0m\n",
      "Hessian Eigenvalues: 2.65088e-03 1.14431e-02 2.25852e-02 ... 8.21472e-01 9.27208e-01 1.10266e+00\n",
      "Step   13 : Displace = \u001b[0m1.107e-02\u001b[0m/\u001b[0m3.438e-02\u001b[0m (rms/max) Trust = 1.517e-01 (\u001b[92m+\u001b[0m) Grad = \u001b[0m3.630e-04\u001b[0m/\u001b[0m1.140e-03\u001b[0m (rms/max) E (change) = -1767.3612978339 (\u001b[0m-1.861e-05\u001b[0m) Quality = \u001b[0m0.791\u001b[0m\n",
      "Hessian Eigenvalues: 2.50741e-03 1.02388e-02 2.20998e-02 ... 8.05322e-01 9.09190e-01 1.10250e+00\n",
      "Step   14 : Displace = \u001b[0m4.490e-03\u001b[0m/\u001b[0m9.271e-03\u001b[0m (rms/max) Trust = 2.146e-01 (\u001b[92m+\u001b[0m) Grad = \u001b[0m2.795e-04\u001b[0m/\u001b[0m8.614e-04\u001b[0m (rms/max) E (change) = -1767.3613136648 (\u001b[0m-1.583e-05\u001b[0m) Quality = \u001b[0m1.054\u001b[0m\n",
      "Hessian Eigenvalues: 2.45117e-03 8.17324e-03 1.85966e-02 ... 8.04300e-01 9.05109e-01 1.10239e+00\n",
      "Step   15 : Displace = \u001b[0m6.448e-03\u001b[0m/\u001b[0m1.474e-02\u001b[0m (rms/max) Trust = 3.000e-01 (\u001b[92m+\u001b[0m) Grad = \u001b[0m2.056e-04\u001b[0m/\u001b[0m4.840e-04\u001b[0m (rms/max) E (change) = -1767.3613318349 (\u001b[0m-1.817e-05\u001b[0m) Quality = \u001b[0m1.114\u001b[0m\n",
      "Hessian Eigenvalues: 2.18508e-03 6.44471e-03 1.61595e-02 ... 8.21369e-01 9.07783e-01 1.10390e+00\n",
      "Step   16 : Displace = \u001b[0m5.380e-03\u001b[0m/\u001b[0m1.252e-02\u001b[0m (rms/max) Trust = 3.000e-01 (=) Grad = \u001b[0m2.245e-04\u001b[0m/\u001b[0m5.335e-04\u001b[0m (rms/max) E (change) = -1767.3613411229 (\u001b[0m-9.288e-06\u001b[0m) Quality = \u001b[0m0.965\u001b[0m\n",
      "Hessian Eigenvalues: 1.60163e-03 5.54067e-03 1.45957e-02 ... 8.06369e-01 9.10553e-01 1.10459e+00\n",
      "Step   17 : Displace = \u001b[0m6.284e-03\u001b[0m/\u001b[0m1.759e-02\u001b[0m (rms/max) Trust = 3.000e-01 (=) Grad = \u001b[0m1.660e-04\u001b[0m/\u001b[0m6.505e-04\u001b[0m (rms/max) E (change) = -1767.3613477166 (\u001b[0m-6.594e-06\u001b[0m) Quality = \u001b[0m0.699\u001b[0m\n",
      "Hessian Eigenvalues: 1.74992e-03 5.43746e-03 1.34951e-02 ... 8.09386e-01 9.10027e-01 1.10508e+00\n",
      "Step   18 : Displace = \u001b[0m2.660e-03\u001b[0m/\u001b[0m6.886e-03\u001b[0m (rms/max) Trust = 3.000e-01 (=) Grad = \u001b[0m1.265e-04\u001b[0m/\u001b[0m4.238e-04\u001b[0m (rms/max) E (change) = -1767.3613519955 (\u001b[0m-4.279e-06\u001b[0m) Quality = \u001b[0m1.108\u001b[0m\n",
      "Hessian Eigenvalues: 1.71733e-03 5.27790e-03 9.71300e-03 ... 8.31040e-01 9.11692e-01 1.10478e+00\n",
      "Step   19 : Displace = \u001b[0m5.766e-03\u001b[0m/\u001b[0m1.582e-02\u001b[0m (rms/max) Trust = 3.000e-01 (=) Grad = \u001b[0m1.340e-04\u001b[0m/\u001b[0m3.379e-04\u001b[0m (rms/max) E (change) = -1767.3613543739 (\u001b[0m-2.378e-06\u001b[0m) Quality = \u001b[0m0.633\u001b[0m\n",
      "Hessian Eigenvalues: 1.83997e-03 4.47104e-03 7.58835e-03 ... 8.27976e-01 9.11599e-01 1.11290e+00\n",
      "Step   20 : Displace = \u001b[0m2.499e-03\u001b[0m/\u001b[0m6.567e-03\u001b[0m (rms/max) Trust = 3.000e-01 (=) Grad = \u001b[0m8.022e-05\u001b[0m/\u001b[0m2.251e-04\u001b[0m (rms/max) E (change) = -1767.3613578384 (\u001b[0m-3.464e-06\u001b[0m) Quality = \u001b[0m1.396\u001b[0m\n",
      "Hessian Eigenvalues: 1.45513e-03 3.58698e-03 7.06363e-03 ... 8.17575e-01 9.12947e-01 1.10935e+00\n",
      "Step   21 : Displace = \u001b[0m5.285e-03\u001b[0m/\u001b[0m1.587e-02\u001b[0m (rms/max) Trust = 3.000e-01 (=) Grad = \u001b[0m1.182e-04\u001b[0m/\u001b[0m3.090e-04\u001b[0m (rms/max) E (change) = -1767.3613594884 (\u001b[0m-1.650e-06\u001b[0m) Quality = \u001b[0m0.645\u001b[0m\n",
      "Hessian Eigenvalues: 1.07448e-03 3.17020e-03 6.74668e-03 ... 8.20585e-01 9.19285e-01 1.11412e+00\n",
      "Step   22 : Displace = \u001b[0m4.627e-03\u001b[0m/\u001b[0m1.316e-02\u001b[0m (rms/max) Trust = 3.000e-01 (=) Grad = \u001b[0m8.790e-05\u001b[0m/\u001b[0m2.510e-04\u001b[0m (rms/max) E (change) = -1767.3613609574 (\u001b[0m-1.469e-06\u001b[0m) Quality = \u001b[0m0.674\u001b[0m\n",
      "Hessian Eigenvalues: 1.24876e-03 3.05322e-03 6.49747e-03 ... 8.29623e-01 9.13157e-01 1.11054e+00\n",
      "Step   23 : Displace = \u001b[0m1.758e-03\u001b[0m/\u001b[0m4.190e-03\u001b[0m (rms/max) Trust = 3.000e-01 (=) Grad = \u001b[0m4.607e-05\u001b[0m/\u001b[0m1.820e-04\u001b[0m (rms/max) E (change) = -1767.3613620431 (\u001b[0m-1.086e-06\u001b[0m) Quality = \u001b[0m1.228\u001b[0m\n",
      "Hessian Eigenvalues: 1.29969e-03 2.94390e-03 6.11583e-03 ... 8.16563e-01 9.13985e-01 1.10961e+00\n",
      "Step   24 : Displace = \u001b[0m1.488e-03\u001b[0m/\u001b[0m3.897e-03\u001b[0m (rms/max) Trust = 3.000e-01 (=) Grad = \u001b[0m2.997e-05\u001b[0m/\u001b[0m7.259e-05\u001b[0m (rms/max) E (change) = -1767.3613627511 (\u001b[92m-7.080e-07\u001b[0m) Quality = \u001b[0m1.176\u001b[0m\n",
      "Hessian Eigenvalues: 1.33392e-03 2.63555e-03 5.38707e-03 ... 8.55319e-01 9.22883e-01 1.11104e+00\n",
      "Step   25 : Displace = \u001b[0m3.358e-03\u001b[0m/\u001b[0m9.432e-03\u001b[0m (rms/max) Trust = 3.000e-01 (=) Grad = \u001b[0m3.549e-05\u001b[0m/\u001b[0m1.039e-04\u001b[0m (rms/max) E (change) = -1767.3613633653 (\u001b[92m-6.142e-07\u001b[0m) Quality = \u001b[0m1.373\u001b[0m\n",
      "Hessian Eigenvalues: 1.02284e-03 2.43964e-03 5.11508e-03 ... 8.26783e-01 9.27735e-01 1.11077e+00\n",
      "Step   26 : Displace = \u001b[0m2.894e-03\u001b[0m/\u001b[0m8.463e-03\u001b[0m (rms/max) Trust = 3.000e-01 (=) Grad = \u001b[0m3.196e-05\u001b[0m/\u001b[0m1.583e-04\u001b[0m (rms/max) E (change) = -1767.3613638043 (\u001b[92m-4.390e-07\u001b[0m) Quality = \u001b[0m1.406\u001b[0m\n",
      "Hessian Eigenvalues: 9.47608e-04 2.37702e-03 4.77596e-03 ... 8.20783e-01 9.27976e-01 1.11075e+00\n",
      "Step   27 : Displace = \u001b[0m2.559e-03\u001b[0m/\u001b[0m6.657e-03\u001b[0m (rms/max) Trust = 3.000e-01 (=) Grad = \u001b[0m3.000e-05\u001b[0m/\u001b[0m1.473e-04\u001b[0m (rms/max) E (change) = -1767.3613641636 (\u001b[92m-3.593e-07\u001b[0m) Quality = \u001b[0m1.463\u001b[0m\n",
      "Hessian Eigenvalues: 9.40023e-04 2.30007e-03 4.13996e-03 ... 8.25196e-01 9.31280e-01 1.11075e+00\n",
      "Step   28 : Displace = \u001b[0m2.126e-03\u001b[0m/\u001b[0m4.431e-03\u001b[0m (rms/max) Trust = 3.000e-01 (=) Grad = \u001b[0m2.320e-05\u001b[0m/\u001b[0m7.711e-05\u001b[0m (rms/max) E (change) = -1767.3613644377 (\u001b[92m-2.741e-07\u001b[0m) Quality = \u001b[0m1.393\u001b[0m\n",
      "Hessian Eigenvalues: 9.97574e-04 2.20192e-03 3.53923e-03 ... 8.28258e-01 9.29970e-01 1.11074e+00\n",
      "Step   29 : Displace = \u001b[0m1.062e-03\u001b[0m/\u001b[0m2.696e-03\u001b[0m (rms/max) Trust = 3.000e-01 (=) Grad = \u001b[0m1.361e-05\u001b[0m/\u001b[0m3.421e-05\u001b[0m (rms/max) E (change) = -1767.3613645774 (\u001b[92m-1.397e-07\u001b[0m) Quality = \u001b[0m1.329\u001b[0m\n",
      "Hessian Eigenvalues: 1.01064e-03 2.19661e-03 3.21038e-03 ... 8.22044e-01 9.29708e-01 1.11077e+00\n",
      "Step   30 : Displace = \u001b[0m5.340e-04\u001b[0m/\u001b[0m1.362e-03\u001b[0m (rms/max) Trust = 3.000e-01 (=) Grad = \u001b[0m1.031e-05\u001b[0m/\u001b[0m4.430e-05\u001b[0m (rms/max) E (change) = -1767.3613646499 (\u001b[92m-7.250e-08\u001b[0m) Quality = \u001b[0m1.402\u001b[0m\n",
      "Hessian Eigenvalues: 1.01258e-03 2.22961e-03 2.99712e-03 ... 8.20845e-01 9.30817e-01 1.11078e+00\n",
      "Step   31 : Displace = \u001b[0m4.143e-04\u001b[0m/\u001b[0m1.354e-03\u001b[0m (rms/max) Trust = 3.000e-01 (=) Grad = \u001b[0m1.205e-05\u001b[0m/\u001b[0m4.932e-05\u001b[0m (rms/max) E (change) = -1767.3613647059 (\u001b[92m-5.600e-08\u001b[0m) Quality = \u001b[0m1.428\u001b[0m\n",
      "Hessian Eigenvalues: 1.00804e-03 2.23809e-03 2.79120e-03 ... 8.36426e-01 9.32536e-01 1.11082e+00\n",
      "Step   32 : Displace = \u001b[0m4.307e-04\u001b[0m/\u001b[0m1.144e-03\u001b[0m (rms/max) Trust = 3.000e-01 (=) Grad = \u001b[0m1.187e-05\u001b[0m/\u001b[0m3.632e-05\u001b[0m (rms/max) E (change) = -1767.3613647571 (\u001b[92m-5.120e-08\u001b[0m) Quality = \u001b[0m1.442\u001b[0m\n",
      "Hessian Eigenvalues: 9.56736e-04 2.23729e-03 2.57767e-03 ... 8.24946e-01 9.30084e-01 1.11092e+00\n",
      "Step   33 : Displace = \u001b[0m4.826e-04\u001b[0m/\u001b[0m1.135e-03\u001b[0m (rms/max) Trust = 3.000e-01 (=) Grad = \u001b[92m7.597e-06\u001b[0m/\u001b[0m2.026e-05\u001b[0m (rms/max) E (change) = -1767.3613647950 (\u001b[92m-3.790e-08\u001b[0m) Quality = \u001b[0m1.494\u001b[0m\n",
      "Hessian Eigenvalues: 9.31761e-04 2.23074e-03 2.48448e-03 ... 8.21974e-01 9.28894e-01 1.11074e+00\n",
      "Step   34 : Displace = \u001b[0m2.001e-04\u001b[0m/\u001b[0m5.043e-04\u001b[0m (rms/max) Trust = 3.000e-01 (=) Grad = \u001b[92m4.966e-06\u001b[0m/\u001b[0m1.866e-05\u001b[0m (rms/max) E (change) = -1767.3613648122 (\u001b[92m-1.720e-08\u001b[0m) Quality = \u001b[0m1.481\u001b[0m\n",
      "Hessian Eigenvalues: 9.63670e-04 2.18955e-03 2.38507e-03 ... 8.25225e-01 9.28652e-01 1.11074e+00\n",
      "Step   35 : Displace = \u001b[0m1.173e-04\u001b[0m/\u001b[0m3.435e-04\u001b[0m (rms/max) Trust = 3.000e-01 (=) Grad = \u001b[92m4.757e-06\u001b[0m/\u001b[92m1.474e-05\u001b[0m (rms/max) E (change) = -1767.3613648232 (\u001b[92m-1.100e-08\u001b[0m) Quality = \u001b[0m1.415\u001b[0m\n",
      "Hessian Eigenvalues: 9.78983e-04 2.08705e-03 2.31859e-03 ... 8.30273e-01 9.29272e-01 1.11108e+00\n",
      "Step   36 : Displace = \u001b[0m1.713e-04\u001b[0m/\u001b[0m4.888e-04\u001b[0m (rms/max) Trust = 3.000e-01 (=) Grad = \u001b[92m4.346e-06\u001b[0m/\u001b[92m1.191e-05\u001b[0m (rms/max) E (change) = -1767.3613648318 (\u001b[92m-8.600e-09\u001b[0m) Quality = \u001b[0m1.489\u001b[0m\n",
      "Hessian Eigenvalues: 9.58292e-04 1.98571e-03 2.29884e-03 ... 8.24022e-01 9.29365e-01 1.11094e+00\n",
      "Step   37 : Displace = \u001b[0m2.137e-04\u001b[0m/\u001b[0m6.109e-04\u001b[0m (rms/max) Trust = 3.000e-01 (=) Grad = \u001b[92m3.291e-06\u001b[0m/\u001b[92m1.003e-05\u001b[0m (rms/max) E (change) = -1767.3613648391 (\u001b[92m-7.300e-09\u001b[0m) Quality = \u001b[0m1.726\u001b[0m\n",
      "Hessian Eigenvalues: 9.48323e-04 1.91475e-03 2.29291e-03 ... 8.23343e-01 9.28794e-01 1.11070e+00\n",
      "Step   38 : Displace = \u001b[0m1.725e-04\u001b[0m/\u001b[0m4.371e-04\u001b[0m (rms/max) Trust = 3.000e-01 (=) Grad = \u001b[92m2.766e-06\u001b[0m/\u001b[92m9.810e-06\u001b[0m (rms/max) E (change) = -1767.3613648427 (\u001b[92m-3.600e-09\u001b[0m) Quality = \u001b[0m1.219\u001b[0m\n",
      "Hessian Eigenvalues: 9.54244e-04 1.85969e-03 2.29323e-03 ... 8.27493e-01 9.28519e-01 1.11087e+00\n",
      "Step   39 : Displace = \u001b[0m1.339e-04\u001b[0m/\u001b[0m2.783e-04\u001b[0m (rms/max) Trust = 3.000e-01 (=) Grad = \u001b[92m2.848e-06\u001b[0m/\u001b[92m1.108e-05\u001b[0m (rms/max) E (change) = -1767.3613648441 (\u001b[92m-1.400e-09\u001b[0m) Quality = \u001b[0m0.616\u001b[0m\n",
      "Hessian Eigenvalues: 9.65292e-04 1.80882e-03 2.28792e-03 ... 8.27003e-01 9.28507e-01 1.11110e+00\n",
      "Step   40 : Displace = \u001b[0m8.788e-05\u001b[0m/\u001b[0m2.346e-04\u001b[0m (rms/max) Trust = 3.000e-01 (=) Grad = \u001b[92m2.422e-06\u001b[0m/\u001b[92m8.200e-06\u001b[0m (rms/max) E (change) = -1767.3613648496 (\u001b[92m-5.500e-09\u001b[0m) Quality = \u001b[0m3.322\u001b[0m\n",
      "Hessian Eigenvalues: 9.65430e-04 1.77428e-03 2.29149e-03 ... 8.23894e-01 9.28533e-01 1.11089e+00\n",
      "Step   41 : Displace = \u001b[0m5.289e-05\u001b[0m/\u001b[0m1.648e-04\u001b[0m (rms/max) Trust = 3.000e-01 (=) Grad = \u001b[92m1.460e-06\u001b[0m/\u001b[92m4.171e-06\u001b[0m (rms/max) E (change) = -1767.3613648515 (\u001b[92m-1.900e-09\u001b[0m) Quality = \u001b[0m1.842\u001b[0m\n",
      "Hessian Eigenvalues: 9.65781e-04 1.75804e-03 2.29085e-03 ... 8.23940e-01 9.28671e-01 1.11074e+00\n",
      "Step   42 : Displace = \u001b[92m3.756e-05\u001b[0m/\u001b[0m1.071e-04\u001b[0m (rms/max) Trust = 3.000e-01 (=) Grad = \u001b[92m8.938e-07\u001b[0m/\u001b[92m2.823e-06\u001b[0m (rms/max) E (change) = -1767.3613648536 (\u001b[92m-2.100e-09\u001b[0m) Quality = \u001b[0m3.735\u001b[0m\n",
      "Hessian Eigenvalues: 9.63221e-04 1.73146e-03 2.29120e-03 ... 8.25778e-01 9.28727e-01 1.11084e+00\n",
      "Step   43 : Displace = \u001b[92m3.780e-05\u001b[0m/\u001b[0m1.004e-04\u001b[0m (rms/max) Trust = 3.000e-01 (=) Grad = \u001b[92m8.181e-07\u001b[0m/\u001b[92m2.789e-06\u001b[0m (rms/max) E (change) = -1767.3613648545 (\u001b[92m-8.999e-10\u001b[0m) Quality = \u001b[0m3.091\u001b[0m\n",
      "Hessian Eigenvalues: 9.48824e-04 1.73105e-03 2.28920e-03 ... 8.24647e-01 9.28346e-01 1.11101e+00\n",
      "Step   44 : Displace = \u001b[92m3.215e-05\u001b[0m/\u001b[0m7.057e-05\u001b[0m (rms/max) Trust = 3.000e-01 (=) Grad = \u001b[92m6.255e-07\u001b[0m/\u001b[92m2.068e-06\u001b[0m (rms/max) E (change) = -1767.3613648510 (\u001b[92m+3.500e-09\u001b[0m) Quality = \u001b[91m-23.985\u001b[0m\n",
      "\u001b[93mNot rejecting step - RMS displacement close to tmin = 4.000e-05\u001b[0m\n",
      "Hessian Eigenvalues: 9.40428e-04 1.72362e-03 2.28409e-03 ... 8.24487e-01 9.27529e-01 1.11078e+00\n",
      "Step   45 : Displace = \u001b[92m2.128e-05\u001b[0m/\u001b[92m4.202e-05\u001b[0m (rms/max) Trust = 4.000e-05 (\u001b[91m-\u001b[0m) Grad = \u001b[92m3.824e-07\u001b[0m/\u001b[92m1.159e-06\u001b[0m (rms/max) E (change) = -1767.3613648544 (\u001b[92m-3.400e-09\u001b[0m) Quality = \u001b[0m41.498\u001b[0m\n",
      "Hessian Eigenvalues: 9.40428e-04 1.72362e-03 2.28409e-03 ... 8.24487e-01 9.27529e-01 1.11078e+00\n",
      "Converged! =D\n",
      "\n"
     ]
    }
   ],
   "source": [
    "print(rr.get_stdout())"
   ]
  },
  {
   "cell_type": "markdown",
   "metadata": {},
   "source": [
    "### Visualize optimization trayectory (Molden)"
   ]
  },
  {
   "cell_type": "code",
   "execution_count": 123,
   "metadata": {},
   "outputs": [],
   "source": [
    "from pathlib import Path\n",
    "\n",
    "tr_mols = rr.get_molecular_trajectory()\n",
    "tr_grads = rr.get_trajectory()\n",
    "\n",
    "molden_str = ''\n",
    "for i in range(len(tr_mols)):\n",
    "    enr = tr_grads[i].dict()['properties']['return_energy']\n",
    "    molden_str += tr_mols[i].to_string(dtype='xyz').replace(\"0 1 \"+tr_mols[i].get_molecular_formula(), str(enr))\n",
    "\n",
    "opt_file = Path(\"./opt_trj_\"+'ts1_01_i1'+'.dat')\n",
    "\n",
    "with opt_file.open(\"w\", encoding =\"utf-8\") as f:\n",
    "    f.write(molden_str)"
   ]
  },
  {
   "cell_type": "code",
   "execution_count": 102,
   "metadata": {},
   "outputs": [
    {
     "data": {
      "text/plain": [
       "'177'"
      ]
     },
     "execution_count": 102,
     "metadata": {},
     "output_type": "execute_result"
    }
   ],
   "source": [
    "#Delte Entry \n",
    "\n",
    "#del ds_opt_min.data.records['ts1_02_i1']\n",
    "#ds_opt_min.save()"
   ]
  },
  {
   "cell_type": "code",
   "execution_count": null,
   "metadata": {},
   "outputs": [],
   "source": []
  }
 ],
 "metadata": {
  "kernelspec": {
   "display_name": "Python 3 (ipykernel)",
   "language": "python",
   "name": "python3"
  },
  "language_info": {
   "codemirror_mode": {
    "name": "ipython",
    "version": 3
   },
   "file_extension": ".py",
   "mimetype": "text/x-python",
   "name": "python",
   "nbconvert_exporter": "python",
   "pygments_lexer": "ipython3",
   "version": "3.7.12"
  }
 },
 "nbformat": 4,
 "nbformat_minor": 4
}
