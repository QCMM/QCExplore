{
 "cells": [
  {
   "cell_type": "markdown",
   "metadata": {},
   "source": [
    "<html>\n",
    "<div style=\"width:100%\">\n",
    "  <div style=\"width:90%; float:left; background:white; margin:10px\">\n",
    "    <img style =\"width:100%\"src =\"https://raw.githubusercontent.com/publicunpublic/QCMM_Jupyter/main/full.svg\">\n",
    "    <div style=\"margin-top:2.5%;position:absolute;background-color:#0e4be5;width:6%;height:0.3%\"></div>\n",
    "  </div>\n",
    "  </div>\n"
   ]
  },
  {
   "cell_type": "markdown",
   "metadata": {},
   "source": [
    "<html>\n",
    "<center>\n",
    "<br>\n",
    "<h1 style=\"color:#E6610F;\"> Check Normal Mode of Transition State and verify Nature of TS </h1>\n",
    "<br><br>\n",
    "</center>"
   ]
  },
  {
   "cell_type": "code",
   "execution_count": 6,
   "metadata": {},
   "outputs": [],
   "source": [
    "import qcportal as ptl\n",
    "import pandas as pd\n",
    "import numpy as np\n",
    "from typing import Union\n",
    "import qcelemental as qcel"
   ]
  },
  {
   "cell_type": "markdown",
   "metadata": {},
   "source": [
    "## Define Variables"
   ]
  },
  {
   "cell_type": "code",
   "execution_count": 9,
   "metadata": {},
   "outputs": [],
   "source": [
    "client_address = \"152.74.10.245:7778\"\n",
    "ts_opt_spec = 'b3lyp-d3_def2-svp'\n",
    "ts_collection = 'salen_d-lac_ts_from_neb'\n",
    "dft_method = 'b3lyp'\n",
    "dft_basis = 'def2-svp'\n",
    "entry_name = 'ts1_01'\n",
    "username = 'svogt'\n",
    "password = \"7kyRT-Mrow3jH0Lg6b9YIhEjAcvU9EpFBb9ouMClU5g\""
   ]
  },
  {
   "cell_type": "code",
   "execution_count": 10,
   "metadata": {},
   "outputs": [
    {
     "data": {
      "text/html": [
       "\n",
       "<h3>FractalClient</h3>\n",
       "<ul>\n",
       "  <li><b>Server:   &nbsp; </b>Catalisis Server</li>\n",
       "  <li><b>Address:  &nbsp; </b>https://152.74.10.245:7778/</li>\n",
       "  <li><b>Username: &nbsp; </b>svogt</li>\n",
       "</ul>\n"
      ],
      "text/plain": [
       "FractalClient(server_name='Catalisis Server', address='https://152.74.10.245:7778/', username='svogt')"
      ]
     },
     "execution_count": 10,
     "metadata": {},
     "output_type": "execute_result"
    }
   ],
   "source": [
    "client = ptl.FractalClient(address=client_address, username = username, password = password, verify=False)\n",
    "client "
   ]
  },
  {
   "cell_type": "markdown",
   "metadata": {},
   "source": [
    "## A) Load Modified Psi4 function for NM analysis"
   ]
  },
  {
   "cell_type": "code",
   "execution_count": 11,
   "metadata": {},
   "outputs": [],
   "source": [
    "def vibanal_wfn(hess: np.ndarray = None, irrep: Union[int, str] = None, molecule=None, energy=None, project_trans: bool = True, project_rot: bool = True, molden=False,name=None, lt=None):\n",
    "    \"\"\"Function to perform analysis of a hessian or hessian block, specifically...\n",
    "    calling for and printing vibrational and thermochemical analysis, setting thermochemical variables,\n",
    "    and writing the vibrec and normal mode files.\n",
    "    Parameters\n",
    "    ----------\n",
    "    wfn\n",
    "        The wavefunction which had its Hessian computed.\n",
    "    hess\n",
    "        Hessian to analyze, if not the hessian in wfn.\n",
    "        (3*nat, 3*nat) non-mass-weighted Hessian in atomic units, [Eh/a0/a0].\n",
    "    irrep\n",
    "        The irrep for which frequencies are calculated. Thermochemical analysis is skipped if this is given,\n",
    "        as only one symmetry block of the hessian has been computed.\n",
    "    molecule : :py:class:`~psi4.core.Molecule` or qcdb.Molecule, optional\n",
    "        The molecule to pull information from, if not the molecule in wfn. Must at least have similar\n",
    "        geometry to the molecule in wfn.\n",
    "    project_trans\n",
    "        Should translations be projected in the harmonic analysis?\n",
    "    project_rot\n",
    "        Should rotations be projected in the harmonic analysis?\n",
    "    Returns\n",
    "\n",
    "    -------\n",
    "    vibinfo : dict\n",
    "        A dictionary of vibrational information. See :py:func:`~psi4.driver.qcdb.vib.harmonic_analysis`\n",
    "    \"\"\"\n",
    "    from psi4 import geometry, set_memory\n",
    "    import psi4.core as core\n",
    "    from psi4.driver import qcdb\n",
    "    \n",
    "    if hess is None:\n",
    "        print(\"no hessian\")\n",
    "        \n",
    "    else:\n",
    "        nmwhess = hess\n",
    "        \n",
    "    set_memory('500 MB')\n",
    "    \n",
    "    \n",
    "    print(\"About to start\")\n",
    "    m=molecule.to_string('xyz')\n",
    "    mol = geometry(m)\n",
    "    geom = np.asarray(mol.geometry())\n",
    "    symbols = [mol.symbol(at) for at in range(mol.natom())]\n",
    "    vibrec = {'molecule': mol.to_dict(np_out=False), 'hessian': nmwhess.tolist()}\n",
    "\n",
    "    m = np.asarray([mol.mass(at) for at in range(mol.natom())])\n",
    "    irrep_labels = mol.irrep_labels()\n",
    "    \n",
    "    print(qcdb.vib.__file__)\n",
    "    print(\"About to do harmonic analyis...\")\n",
    "    vibinfo, vibtext = qcdb.vib.harmonic_analysis(\n",
    "        nmwhess, geom, m, None, irrep_labels, dipder=None, project_trans=project_trans, project_rot=project_rot)\n",
    "\n",
    "    print(\"Finished harmonic analysis\")\n",
    "   \n",
    "\n",
    "    if core.has_option_changed('THERMO', 'ROTATIONAL_SYMMETRY_NUMBER'):\n",
    "        rsn = core.get_option('THERMO', 'ROTATIONAL_SYMMETRY_NUMBER')\n",
    "    else:\n",
    "        rsn = mol.rotational_symmetry_number()\n",
    "\n",
    "    if irrep is None:\n",
    "        therminfo, thermtext = qcdb.vib.thermo(\n",
    "            vibinfo,\n",
    "            T=core.get_option(\"THERMO\", \"T\"),  # 298.15 [K]\n",
    "            P=core.get_option(\"THERMO\", \"P\"),  # 101325. [Pa]\n",
    "            multiplicity=mol.multiplicity(),\n",
    "            molecular_mass=np.sum(m),\n",
    "            sigma=rsn,\n",
    "            rotor_type=mol.rotor_type(),\n",
    "            rot_const=np.asarray(mol.rotational_constants()),\n",
    "            E0=energy) \n",
    "\n",
    "        core.set_variable(\"ZPVE\", therminfo['ZPE_corr'].data)  # P::e THERMO\n",
    "        core.set_variable(\"THERMAL ENERGY CORRECTION\", therminfo['E_corr'].data)  # P::e THERMO\n",
    "        core.set_variable(\"ENTHALPY CORRECTION\", therminfo['H_corr'].data)  # P::e THERMO\n",
    "        core.set_variable(\"GIBBS FREE ENERGY CORRECTION\", therminfo['G_corr'].data)  # P::e THERMO\n",
    "\n",
    "        core.set_variable(\"ZERO K ENTHALPY\", therminfo['ZPE_tot'].data)  # P::e THERMO\n",
    "        core.set_variable(\"THERMAL ENERGY\", therminfo['E_tot'].data)  # P::e THERMO\n",
    "        core.set_variable(\"ENTHALPY\", therminfo['H_tot'].data)  # P::e THERMO\n",
    "        core.set_variable(\"GIBBS FREE ENERGY\", therminfo['G_tot'].data)  # P::e THERMO\n",
    "\n",
    "    else:\n",
    "        core.print_out('  Thermochemical analysis skipped for partial frequency calculation.\\n')\n",
    "\n",
    "    \n",
    "    if molden:\n",
    "        filename = name+\"_\"+lt+ \".molden_normal_modes\"\n",
    "        with open(filename, 'w') as handle:\n",
    "            handle.write(qcdb.vib.print_molden_vibs(vibinfo, symbols, geom, standalone=True))\n",
    "\n",
    "    return vibinfo, therminfo, symbols, geom"
   ]
  },
  {
   "cell_type": "markdown",
   "metadata": {},
   "source": [
    "## B) Load  Optimized Transition states from Dataset"
   ]
  },
  {
   "cell_type": "code",
   "execution_count": 12,
   "metadata": {},
   "outputs": [
    {
     "name": "stdout",
     "output_type": "stream",
     "text": [
      "RecordStatusEnum.complete Optimization finished!\n"
     ]
    }
   ],
   "source": [
    "ds_opt = client.get_collection(\"OptimizationDataset\", ts_collection)\n",
    "\n",
    "rr = ds_opt.get_record(entry_name, specification = ts_opt_spec)\n",
    "\n",
    "if rr.status == (\"ERROR\" or \"INCOMPLETE\"):\n",
    "    print(rr.status ,\"Optimization not done yet, please be a little more patient\")\n",
    "\n",
    "else:\n",
    "    print(rr.status, \"Optimization finished!\")\n"
   ]
  },
  {
   "cell_type": "code",
   "execution_count": 13,
   "metadata": {},
   "outputs": [
    {
     "name": "stdout",
     "output_type": "stream",
     "text": [
      "Optimized molecule ID: 30064\n",
      "Initial molecule ID: 30054\n"
     ]
    }
   ],
   "source": [
    "# Get the optimized TS ID\n",
    "\n",
    "mol_opt_ts = rr.get_final_molecule()\n",
    "ts_id = mol_opt_ts.id\n",
    "mol_opt_ts_init = rr.get_initial_molecule()\n",
    "ts_id_init = mol_opt_ts_init.id\n",
    "print(\"Optimized molecule ID:\", ts_id)\n",
    "print(\"Initial molecule ID:\", ts_id_init)"
   ]
  },
  {
   "cell_type": "markdown",
   "metadata": {},
   "source": [
    "## C) Get the hessian matrix for the respective transition states from the server"
   ]
  },
  {
   "cell_type": "code",
   "execution_count": 14,
   "metadata": {},
   "outputs": [],
   "source": [
    "record = client.query_results(driver='hessian', \n",
    "                              molecule=ts_id, \n",
    "                              method=dft_method, \n",
    "                              basis=dft_basis \n",
    "                              )"
   ]
  },
  {
   "cell_type": "code",
   "execution_count": 15,
   "metadata": {},
   "outputs": [
    {
     "data": {
      "text/plain": [
       "[ResultRecord(id='38954', status='COMPLETE')]"
      ]
     },
     "execution_count": 15,
     "metadata": {},
     "output_type": "execute_result"
    }
   ],
   "source": [
    "record"
   ]
  },
  {
   "cell_type": "markdown",
   "metadata": {},
   "source": [
    "## D)  Do harmonic analysis for the hessian matrix \n",
    "\n",
    "You can visualize the NM in the .molden_normal_modes file"
   ]
  },
  {
   "cell_type": "code",
   "execution_count": 17,
   "metadata": {},
   "outputs": [
    {
     "name": "stdout",
     "output_type": "stream",
     "text": [
      "About to start\n",
      "  Memory set to 476.837 MiB by Python driver.\n",
      "\n",
      "/home/svogt/.anaconda/envs/qcportal/lib/python3.7/site-packages/psi4/driver/qcdb/vib.py\n",
      "About to do harmonic analyis...\n",
      "Finished harmonic analysis\n",
      "Warning: thermodynamics relations excluded imaginary frequencies: ['169.0061i']\n",
      "Warning: used thermodynamics relations inappropriate for low-frequency modes: ['18.0691' '23.9443' '39.6489' '51.5915' '59.4108' '67.6772' '72.1567'\n",
      " '82.1494' '104.3671' '115.1663' '119.2267' '139.3989' '152.5566'\n",
      " '162.7541' '169.6487' '193.0081' '214.0929' '218.6423' '223.3994'\n",
      " '232.1711' '239.1127' '253.4529' '260.5176' '271.9467' '276.6946'\n",
      " '304.2322' '309.3069' '317.8659' '352.0669' '355.4503' '362.8523'\n",
      " '373.5442' '385.3100' '399.5407' '404.4310' '416.8776' '427.8118'\n",
      " '442.7413' '447.5931' '475.7286' '483.7059' '503.0203' '505.2721'\n",
      " '513.6687' '535.0686' '545.6932' '565.0643' '565.9659' '574.5115'\n",
      " '589.5387' '616.9860' '623.9872']\n"
     ]
    }
   ],
   "source": [
    "vib_info = {}\n",
    "hess_mat = record[0].dict()['return_result']\n",
    "en = record[0].dict()['properties']['return_energy']\n",
    "\n",
    "vib_info = vibanal_wfn(hess=hess_mat, molecule=mol_opt_ts, name=entry_name, energy=en, lt=ts_opt_spec, molden=True)"
   ]
  },
  {
   "cell_type": "markdown",
   "metadata": {},
   "source": [
    "## E)  Get Intermadiate candidates from TS normal mode"
   ]
  },
  {
   "cell_type": "code",
   "execution_count": 20,
   "metadata": {},
   "outputs": [],
   "source": [
    "import math\n",
    "\n",
    "nm_num = 0  # Number of the normal mode (Imaginary mode is 0)\n",
    "vib_range = 1.8 # The range of the vibration\n",
    "\n",
    "vib, therm, symbols, geom = vib_info\n",
    "nat = int(len(vib['q'].data[:, nm_num]) / 3)\n",
    "nm = vib['q'].data[:, nm_num].reshape(nat, 3)#[at].real\n",
    "\n",
    "\n",
    "\n",
    "disp_list = np.arange(-vib_range, vib_range, 0.1)\n",
    "\n",
    "close_reac = vib_range - 0.1\n",
    "close_int  = -vib_range\n",
    "\n",
    "\n",
    "# Saving the extremes as molecule objects\n",
    "vib_animation = \"\"\n",
    "for d in disp_list:\n",
    "    disp = (geom - d*nm) \n",
    "    \n",
    "    ## Creating molecule from displacements\n",
    "    mol = qcel.models.Molecule(\n",
    "    symbols=symbols,\n",
    "    geometry = disp,\n",
    "    )\n",
    "    \n",
    "    ## Saving reactant and product candidates \n",
    "    vib_animation += mol.to_string(\"xyz\")\n",
    "    if math.isclose(close_int,d):\n",
    "        int_cand  = mol\n",
    "    if math.isclose(close_reac,d):\n",
    "        reac_cand = mol\n",
    "\n",
    "    # Saving the \n",
    "    #filename = \"animts2_\"+entry_name+\"_\"+ts_opt_spec+ \".dat\"\n",
    "    #with open(filename, 'w') as handle:\n",
    "    #    handle.write(vib_animation)"
   ]
  },
  {
   "cell_type": "markdown",
   "metadata": {},
   "source": [
    "## F) Visualize Intermediate initial structures "
   ]
  },
  {
   "cell_type": "code",
   "execution_count": 22,
   "metadata": {},
   "outputs": [
    {
     "data": {
      "application/vnd.jupyter.widget-view+json": {
       "model_id": "669c035792ab400194765035c898cf35",
       "version_major": 2,
       "version_minor": 0
      },
      "text/plain": [
       "NGLWidget()"
      ]
     },
     "metadata": {},
     "output_type": "display_data"
    }
   ],
   "source": [
    "reac_cand"
   ]
  },
  {
   "cell_type": "code",
   "execution_count": 23,
   "metadata": {},
   "outputs": [
    {
     "data": {
      "application/vnd.jupyter.widget-view+json": {
       "model_id": "0e9396fed2f14c5c926c55980939a7f3",
       "version_major": 2,
       "version_minor": 0
      },
      "text/plain": [
       "NGLWidget()"
      ]
     },
     "metadata": {},
     "output_type": "display_data"
    }
   ],
   "source": [
    "mol_opt_ts"
   ]
  },
  {
   "cell_type": "code",
   "execution_count": 21,
   "metadata": {},
   "outputs": [
    {
     "data": {
      "application/vnd.jupyter.widget-view+json": {
       "model_id": "b334eaffb5fe42a4a75c99b7bd4ceaac",
       "version_major": 2,
       "version_minor": 0
      },
      "text/plain": []
     },
     "metadata": {},
     "output_type": "display_data"
    },
    {
     "data": {
      "application/vnd.jupyter.widget-view+json": {
       "model_id": "da1b55fc968349eaaf9bfd272f7132d9",
       "version_major": 2,
       "version_minor": 0
      },
      "text/plain": [
       "NGLWidget()"
      ]
     },
     "metadata": {},
     "output_type": "display_data"
    }
   ],
   "source": [
    "int_cand"
   ]
  },
  {
   "cell_type": "markdown",
   "metadata": {},
   "source": [
    "## G)  Optimize intermediate states "
   ]
  },
  {
   "cell_type": "code",
   "execution_count": 97,
   "metadata": {},
   "outputs": [],
   "source": [
    "#ds = ptl.collections.OptimizationDataset(\"salen_d-lac_rpi\", client=client)\n",
    "#ds.save()"
   ]
  },
  {
   "cell_type": "code",
   "execution_count": 21,
   "metadata": {},
   "outputs": [],
   "source": [
    "ds_opt_rpi = client.get_collection(\"OptimizationDataset\", \"salen_d-lac_rpi\")"
   ]
  },
  {
   "cell_type": "code",
   "execution_count": 24,
   "metadata": {},
   "outputs": [],
   "source": [
    "ds_opt_rpi.add_entry(entry_name+'_r', reac_cand)\n",
    "ds_opt_rpi.add_entry(entry_name+'_i1', int_cand)"
   ]
  },
  {
   "cell_type": "code",
   "execution_count": 53,
   "metadata": {},
   "outputs": [
    {
     "data": {
      "text/plain": [
       "'123'"
      ]
     },
     "execution_count": 53,
     "metadata": {},
     "output_type": "execute_result"
    }
   ],
   "source": [
    "kw = ptl.models.KeywordSet(**{\"values\": {\"dftd\": \"d3\", \"convthre\" : '3.0e-7', \"threall\" : '1.0e-13', 'dftgrid' : 2, \"scf\" : \"diis+a\"}})\n",
    "kw_id = client.add_keywords([kw])[0]\n",
    "\n",
    "\n",
    "add_spec = {'name':\"b3lyp-d3_def2-svp\",\n",
    "        'description': 'Geometric + TERACHEM/b3lyp-d3/def2-svp.',\n",
    "        'optimization_spec': {'program': 'geometric', 'keywords': {\"converge\" : [\"set\" , \"gau_tight\"]}},\n",
    "        'qc_spec': {'driver': 'gradient',\n",
    "        'method': \"b3lyp\",\n",
    "        'basis': 'def2-svp',\n",
    "        'keywords': kw_id,\n",
    "        'program': 'terachem'}}\n",
    "ds_opt_rpi.add_specification(**add_spec,overwrite=True)\n",
    "ds_opt_rpi.save()"
   ]
  },
  {
   "cell_type": "markdown",
   "metadata": {},
   "source": [
    "## G)  Check Optimization "
   ]
  },
  {
   "cell_type": "code",
   "execution_count": 25,
   "metadata": {},
   "outputs": [
    {
     "name": "stdout",
     "output_type": "stream",
     "text": [
      "2\n"
     ]
    }
   ],
   "source": [
    "c = ds_opt_rpi.compute('b3lyp-d3_def2-svp', tag='tera')\n",
    "print(c)"
   ]
  },
  {
   "cell_type": "code",
   "execution_count": 26,
   "metadata": {},
   "outputs": [
    {
     "data": {
      "text/html": [
       "<div>\n",
       "<style scoped>\n",
       "    .dataframe tbody tr th:only-of-type {\n",
       "        vertical-align: middle;\n",
       "    }\n",
       "\n",
       "    .dataframe tbody tr th {\n",
       "        vertical-align: top;\n",
       "    }\n",
       "\n",
       "    .dataframe thead th {\n",
       "        text-align: right;\n",
       "    }\n",
       "</style>\n",
       "<table border=\"1\" class=\"dataframe\">\n",
       "  <thead>\n",
       "    <tr style=\"text-align: right;\">\n",
       "      <th></th>\n",
       "      <th>b3lyp-d3_def2-svp</th>\n",
       "    </tr>\n",
       "  </thead>\n",
       "  <tbody>\n",
       "    <tr>\n",
       "      <th>ts1_04_r</th>\n",
       "      <td>COMPLETE</td>\n",
       "    </tr>\n",
       "    <tr>\n",
       "      <th>ts1_04_i1</th>\n",
       "      <td>COMPLETE</td>\n",
       "    </tr>\n",
       "    <tr>\n",
       "      <th>ts1_02_r</th>\n",
       "      <td>COMPLETE</td>\n",
       "    </tr>\n",
       "    <tr>\n",
       "      <th>ts1_02_i1</th>\n",
       "      <td>COMPLETE</td>\n",
       "    </tr>\n",
       "    <tr>\n",
       "      <th>ts1_03_r</th>\n",
       "      <td>COMPLETE</td>\n",
       "    </tr>\n",
       "    <tr>\n",
       "      <th>ts1_03_i1</th>\n",
       "      <td>COMPLETE</td>\n",
       "    </tr>\n",
       "    <tr>\n",
       "      <th>ts2_02_r</th>\n",
       "      <td>COMPLETE</td>\n",
       "    </tr>\n",
       "    <tr>\n",
       "      <th>ts2_02_i1</th>\n",
       "      <td>COMPLETE</td>\n",
       "    </tr>\n",
       "    <tr>\n",
       "      <th>ts1_01_r</th>\n",
       "      <td>COMPLETE</td>\n",
       "    </tr>\n",
       "    <tr>\n",
       "      <th>ts1_01_i1</th>\n",
       "      <td>COMPLETE</td>\n",
       "    </tr>\n",
       "  </tbody>\n",
       "</table>\n",
       "</div>"
      ],
      "text/plain": [
       "          b3lyp-d3_def2-svp\n",
       "ts1_04_r           COMPLETE\n",
       "ts1_04_i1          COMPLETE\n",
       "ts1_02_r           COMPLETE\n",
       "ts1_02_i1          COMPLETE\n",
       "ts1_03_r           COMPLETE\n",
       "ts1_03_i1          COMPLETE\n",
       "ts2_02_r           COMPLETE\n",
       "ts2_02_i1          COMPLETE\n",
       "ts1_01_r           COMPLETE\n",
       "ts1_01_i1          COMPLETE"
      ]
     },
     "execution_count": 26,
     "metadata": {},
     "output_type": "execute_result"
    }
   ],
   "source": [
    "ds_opt_rpi = client.get_collection(\"OptimizationDataset\", \"salen_d-lac_rpi\")\n",
    "ds_opt_rpi.status(collapse=False)"
   ]
  },
  {
   "cell_type": "code",
   "execution_count": 29,
   "metadata": {},
   "outputs": [
    {
     "data": {
      "application/vnd.jupyter.widget-view+json": {
       "model_id": "4110a583aa6b406f9950eebbc7d526df",
       "version_major": 2,
       "version_minor": 0
      },
      "text/plain": [
       "NGLWidget()"
      ]
     },
     "metadata": {},
     "output_type": "display_data"
    }
   ],
   "source": [
    "rr = ds_opt_rpi.get_record(name='ts1_01_r', specification = \"b3lyp-d3_def2-svp\")\n",
    "mol = rr.get_final_molecule()\n",
    "#print(mol.pretty_print())\n",
    "mol"
   ]
  },
  {
   "cell_type": "markdown",
   "metadata": {},
   "source": [
    "## Extras"
   ]
  },
  {
   "cell_type": "markdown",
   "metadata": {},
   "source": [
    "## Load a hessian from a file\n"
   ]
  },
  {
   "cell_type": "code",
   "execution_count": 87,
   "metadata": {},
   "outputs": [],
   "source": [
    "#import numpy as np\n",
    "#h = np.loadtxt(\"./hessian_1.txt\", delimiter = ' ')\n",
    "#h.shape"
   ]
  },
  {
   "cell_type": "markdown",
   "metadata": {},
   "source": [
    "### Restart Optimization jobs"
   ]
  },
  {
   "cell_type": "code",
   "execution_count": null,
   "metadata": {},
   "outputs": [],
   "source": [
    "mol_list = []\n",
    "\n",
    "spec = 'pbe0-d3_def2-svp'\n",
    "\n",
    "for i in ds_opt.data.records: \n",
    "    #print(i)\n",
    "    mol_list.append(i)\n",
    "\n",
    "for i in  mol_list:\n",
    "    opt_rec = ds_opt.get_record(name=i,specification= spec)\n",
    "    if (opt_rec.status == 'ERROR'):    \n",
    "        id_u = opt_rec.id \n",
    "        print('yes', i, id_u)\n",
    "        c = client.modify_tasks(\"modify\", new_tag = 'refinement_tera',base_result = id_u)\n",
    "        #c = client.modify_tasks(\"restart\",base_result = id_u)\n",
    "        print(c)"
   ]
  }
 ],
 "metadata": {
  "kernelspec": {
   "display_name": "Python 3 (ipykernel)",
   "language": "python",
   "name": "python3"
  },
  "language_info": {
   "codemirror_mode": {
    "name": "ipython",
    "version": 3
   },
   "file_extension": ".py",
   "mimetype": "text/x-python",
   "name": "python",
   "nbconvert_exporter": "python",
   "pygments_lexer": "ipython3",
   "version": "3.7.12"
  }
 },
 "nbformat": 4,
 "nbformat_minor": 4
}
