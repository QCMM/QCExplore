{
 "cells": [
  {
   "cell_type": "markdown",
   "metadata": {},
   "source": [
    "<html>\n",
    "<div style=\"width:100%\">\n",
    "  <div style=\"width:90%; float:left; background:white; margin:10px\">\n",
    "    <img style =\"width:100%\"src =\"https://raw.githubusercontent.com/publicunpublic/QCMM_Jupyter/main/full.svg\">\n",
    "    <div style=\"margin-top:2.5%;position:absolute;background-color:#0e4be5;width:6%;height:0.3%\"></div>\n",
    "  </div>\n",
    "  </div>\n"
   ]
  },
  {
   "cell_type": "markdown",
   "metadata": {},
   "source": [
    "<html>\n",
    "<center>\n",
    "<br>\n",
    "<h1 style=\"color:#E6610F;\"> Save XYZ Coords for Terachem NEB </h1>\n",
    "<br><br>\n",
    "</center>"
   ]
  },
  {
   "cell_type": "code",
   "execution_count": 2,
   "metadata": {},
   "outputs": [],
   "source": [
    "import qcportal as ptl\n",
    "import numpy as np\n",
    "import qcelemental as qcel\n",
    "from pathlib import Path"
   ]
  },
  {
   "cell_type": "markdown",
   "metadata": {},
   "source": [
    "## Define Variables"
   ]
  },
  {
   "cell_type": "code",
   "execution_count": 23,
   "metadata": {},
   "outputs": [],
   "source": [
    "client_address = \"152.74.10.245:7778\"\n",
    "username = None\n",
    "password = None\n",
    "int1_collection_name = \"salen-OMe+d-lactide\"\n",
    "int2_collection_name = \"salen_d-lac_ts_from_neb\"\n",
    "entry_name_int1 = 'salen-OMe+d-lactide_0002'\n",
    "entry_name_int2 = 'ts1_01'\n",
    "\n",
    "\n",
    "opt_model_chem = \"b3lyp-d3_def2-svp\""
   ]
  },
  {
   "cell_type": "code",
   "execution_count": 19,
   "metadata": {},
   "outputs": [],
   "source": [
    "client = ptl.FractalClient(address=\"152.74.10.245:7778\", username = username, password = password, verify=False)"
   ]
  },
  {
   "cell_type": "markdown",
   "metadata": {},
   "source": [
    "##  A)  Load Molecule  for int1 "
   ]
  },
  {
   "cell_type": "code",
   "execution_count": 20,
   "metadata": {},
   "outputs": [
    {
     "data": {
      "text/html": [
       "<div>\n",
       "<style scoped>\n",
       "    .dataframe tbody tr th:only-of-type {\n",
       "        vertical-align: middle;\n",
       "    }\n",
       "\n",
       "    .dataframe tbody tr th {\n",
       "        vertical-align: top;\n",
       "    }\n",
       "\n",
       "    .dataframe thead th {\n",
       "        text-align: right;\n",
       "    }\n",
       "</style>\n",
       "<table border=\"1\" class=\"dataframe\">\n",
       "  <thead>\n",
       "    <tr style=\"text-align: right;\">\n",
       "      <th></th>\n",
       "      <th>pbe0-d3_def2-svp</th>\n",
       "    </tr>\n",
       "  </thead>\n",
       "  <tbody>\n",
       "    <tr>\n",
       "      <th>salen-OMe+d-lactide_0002</th>\n",
       "      <td>INCOMPLETE</td>\n",
       "    </tr>\n",
       "    <tr>\n",
       "      <th>salen-OMe+d-lactide_0003</th>\n",
       "      <td>INCOMPLETE</td>\n",
       "    </tr>\n",
       "    <tr>\n",
       "      <th>salen-OMe+d-lactide_0004</th>\n",
       "      <td>INCOMPLETE</td>\n",
       "    </tr>\n",
       "    <tr>\n",
       "      <th>salen-OMe+d-lactide_0005</th>\n",
       "      <td>INCOMPLETE</td>\n",
       "    </tr>\n",
       "    <tr>\n",
       "      <th>salen-OMe+d-lactide_0006</th>\n",
       "      <td>INCOMPLETE</td>\n",
       "    </tr>\n",
       "    <tr>\n",
       "      <th>salen-OMe+d-lactide_0007</th>\n",
       "      <td>INCOMPLETE</td>\n",
       "    </tr>\n",
       "    <tr>\n",
       "      <th>salen-OMe+d-lactide_0009</th>\n",
       "      <td>INCOMPLETE</td>\n",
       "    </tr>\n",
       "    <tr>\n",
       "      <th>salen-OMe+d-lactide_0010</th>\n",
       "      <td>INCOMPLETE</td>\n",
       "    </tr>\n",
       "    <tr>\n",
       "      <th>salen-OMe+d-lactide_0011</th>\n",
       "      <td>INCOMPLETE</td>\n",
       "    </tr>\n",
       "    <tr>\n",
       "      <th>salen-OMe+d-lactide_0012</th>\n",
       "      <td>INCOMPLETE</td>\n",
       "    </tr>\n",
       "    <tr>\n",
       "      <th>salen-OMe+d-lactide_0014</th>\n",
       "      <td>INCOMPLETE</td>\n",
       "    </tr>\n",
       "    <tr>\n",
       "      <th>salen-OMe+d-lactide_0016</th>\n",
       "      <td>INCOMPLETE</td>\n",
       "    </tr>\n",
       "    <tr>\n",
       "      <th>salen-OMe+d-lactide_0018</th>\n",
       "      <td>INCOMPLETE</td>\n",
       "    </tr>\n",
       "    <tr>\n",
       "      <th>salen-OMe+d-lactide_0020</th>\n",
       "      <td>INCOMPLETE</td>\n",
       "    </tr>\n",
       "    <tr>\n",
       "      <th>salen-OMe+d-lactide_0021</th>\n",
       "      <td>INCOMPLETE</td>\n",
       "    </tr>\n",
       "    <tr>\n",
       "      <th>salen-OMe+d-lactide_0022</th>\n",
       "      <td>INCOMPLETE</td>\n",
       "    </tr>\n",
       "    <tr>\n",
       "      <th>salen-OMe+d-lactide_0023</th>\n",
       "      <td>INCOMPLETE</td>\n",
       "    </tr>\n",
       "    <tr>\n",
       "      <th>salen-OMe+d-lactide_0024</th>\n",
       "      <td>INCOMPLETE</td>\n",
       "    </tr>\n",
       "    <tr>\n",
       "      <th>salen-OMe+d-lactide_0025</th>\n",
       "      <td>INCOMPLETE</td>\n",
       "    </tr>\n",
       "    <tr>\n",
       "      <th>salen-OMe+d-lactide_0026</th>\n",
       "      <td>INCOMPLETE</td>\n",
       "    </tr>\n",
       "  </tbody>\n",
       "</table>\n",
       "</div>"
      ],
      "text/plain": [
       "                         pbe0-d3_def2-svp\n",
       "salen-OMe+d-lactide_0002       INCOMPLETE\n",
       "salen-OMe+d-lactide_0003       INCOMPLETE\n",
       "salen-OMe+d-lactide_0004       INCOMPLETE\n",
       "salen-OMe+d-lactide_0005       INCOMPLETE\n",
       "salen-OMe+d-lactide_0006       INCOMPLETE\n",
       "salen-OMe+d-lactide_0007       INCOMPLETE\n",
       "salen-OMe+d-lactide_0009       INCOMPLETE\n",
       "salen-OMe+d-lactide_0010       INCOMPLETE\n",
       "salen-OMe+d-lactide_0011       INCOMPLETE\n",
       "salen-OMe+d-lactide_0012       INCOMPLETE\n",
       "salen-OMe+d-lactide_0014       INCOMPLETE\n",
       "salen-OMe+d-lactide_0016       INCOMPLETE\n",
       "salen-OMe+d-lactide_0018       INCOMPLETE\n",
       "salen-OMe+d-lactide_0020       INCOMPLETE\n",
       "salen-OMe+d-lactide_0021       INCOMPLETE\n",
       "salen-OMe+d-lactide_0022       INCOMPLETE\n",
       "salen-OMe+d-lactide_0023       INCOMPLETE\n",
       "salen-OMe+d-lactide_0024       INCOMPLETE\n",
       "salen-OMe+d-lactide_0025       INCOMPLETE\n",
       "salen-OMe+d-lactide_0026       INCOMPLETE"
      ]
     },
     "execution_count": 20,
     "metadata": {},
     "output_type": "execute_result"
    }
   ],
   "source": [
    "ds_opt_1 = client.get_collection(\"OptimizationDataset\", int1_collection_name)\n",
    "ds_opt_1.status(collapse = False)"
   ]
  },
  {
   "cell_type": "code",
   "execution_count": null,
   "metadata": {},
   "outputs": [],
   "source": [
    "rr_int1 = ds_opt_1.get_record(entry_name_int1, specification = opt_model_chem)\n",
    "mol1 = rr_int1.get_final_molecule()\n",
    "mol1"
   ]
  },
  {
   "cell_type": "markdown",
   "metadata": {},
   "source": [
    "##  B)  Load Molecule for int2 "
   ]
  },
  {
   "cell_type": "code",
   "execution_count": 25,
   "metadata": {},
   "outputs": [
    {
     "data": {
      "text/html": [
       "<div>\n",
       "<style scoped>\n",
       "    .dataframe tbody tr th:only-of-type {\n",
       "        vertical-align: middle;\n",
       "    }\n",
       "\n",
       "    .dataframe tbody tr th {\n",
       "        vertical-align: top;\n",
       "    }\n",
       "\n",
       "    .dataframe thead th {\n",
       "        text-align: right;\n",
       "    }\n",
       "</style>\n",
       "<table border=\"1\" class=\"dataframe\">\n",
       "  <thead>\n",
       "    <tr style=\"text-align: right;\">\n",
       "      <th></th>\n",
       "      <th>b3lyp-d3bj_def2-svp</th>\n",
       "      <th>b3lyp-d3_def2-svp</th>\n",
       "    </tr>\n",
       "  </thead>\n",
       "  <tbody>\n",
       "    <tr>\n",
       "      <th>ts1_02</th>\n",
       "      <td>None</td>\n",
       "      <td>COMPLETE</td>\n",
       "    </tr>\n",
       "    <tr>\n",
       "      <th>ts1_02_G2</th>\n",
       "      <td>None</td>\n",
       "      <td>COMPLETE</td>\n",
       "    </tr>\n",
       "    <tr>\n",
       "      <th>ts1_02_G1</th>\n",
       "      <td>None</td>\n",
       "      <td>COMPLETE</td>\n",
       "    </tr>\n",
       "    <tr>\n",
       "      <th>ts1_03</th>\n",
       "      <td>None</td>\n",
       "      <td>COMPLETE</td>\n",
       "    </tr>\n",
       "    <tr>\n",
       "      <th>ts1_04</th>\n",
       "      <td>None</td>\n",
       "      <td>COMPLETE</td>\n",
       "    </tr>\n",
       "    <tr>\n",
       "      <th>ts2_02</th>\n",
       "      <td>None</td>\n",
       "      <td>COMPLETE</td>\n",
       "    </tr>\n",
       "    <tr>\n",
       "      <th>ts1_01</th>\n",
       "      <td>None</td>\n",
       "      <td>COMPLETE</td>\n",
       "    </tr>\n",
       "  </tbody>\n",
       "</table>\n",
       "</div>"
      ],
      "text/plain": [
       "          b3lyp-d3bj_def2-svp b3lyp-d3_def2-svp\n",
       "ts1_02                   None          COMPLETE\n",
       "ts1_02_G2                None          COMPLETE\n",
       "ts1_02_G1                None          COMPLETE\n",
       "ts1_03                   None          COMPLETE\n",
       "ts1_04                   None          COMPLETE\n",
       "ts2_02                   None          COMPLETE\n",
       "ts1_01                   None          COMPLETE"
      ]
     },
     "execution_count": 25,
     "metadata": {},
     "output_type": "execute_result"
    }
   ],
   "source": [
    "ds_opt_2 = client.get_collection(\"OptimizationDataset\", int2_collection_name)\n",
    "ds_opt_2.status(collapse = False)"
   ]
  },
  {
   "cell_type": "code",
   "execution_count": 26,
   "metadata": {},
   "outputs": [
    {
     "data": {
      "application/vnd.jupyter.widget-view+json": {
       "model_id": "be96be3aa1ea42dba758778d65a5f9c2",
       "version_major": 2,
       "version_minor": 0
      },
      "text/plain": []
     },
     "metadata": {},
     "output_type": "display_data"
    },
    {
     "data": {
      "application/vnd.jupyter.widget-view+json": {
       "model_id": "d186dc88fc5f4f0184b59c70726c113c",
       "version_major": 2,
       "version_minor": 0
      },
      "text/plain": [
       "NGLWidget()"
      ]
     },
     "metadata": {},
     "output_type": "display_data"
    }
   ],
   "source": [
    "rr_int2 = ds_opt_2.get_record(entry_name_int2, specification = opt_model_chem)\n",
    "mol2 = rr_int2.get_final_molecule()\n",
    "mol2"
   ]
  },
  {
   "cell_type": "markdown",
   "metadata": {},
   "source": [
    "##  B)  Generate XYZ File for Terachem NEB"
   ]
  },
  {
   "cell_type": "code",
   "execution_count": 32,
   "metadata": {},
   "outputs": [
    {
     "name": "stdout",
     "output_type": "stream",
     "text": [
      "58\n",
      "0 1 AlC23H25N2O7\n",
      "C                     5.404078741565     1.119255393301     0.328656905011\n",
      "C                     5.978795968462     0.893595491062    -0.941093329580\n",
      "C                     5.181197588091     0.387306328558    -1.950960582186\n",
      "C                     3.811579683576     0.093402737885    -1.736290183260\n",
      "C                     3.224656386136     0.326583467211    -0.446792034757\n",
      "C                     4.068590618387     0.846235215396     0.572170124955\n",
      "C                     3.041528572060    -0.422103319985    -2.831546832596\n",
      "N                     1.792940569052    -0.762205339683    -2.788927376049\n",
      "C                     1.144178487911    -1.248720512274    -4.007017740860\n",
      "C                    -0.363208211993    -0.955035082275    -3.902615653612\n",
      "N                    -0.708776995412    -1.331785719860    -2.547776671695\n",
      "C                    -1.572327208872    -2.254093896633    -2.287171701066\n",
      "C                    -1.666553511651    -2.914650902238    -1.011254751295\n",
      "C                    -2.775560375262    -3.746925703815    -0.730208072028\n",
      "C                    -2.828482784727    -4.512708426255     0.421726469796\n",
      "C                    -1.727869053214    -4.487929675962     1.304860947326\n",
      "C                    -0.614010188862    -3.706341491565     1.043822863389\n",
      "C                    -0.549175857856    -2.873365008809    -0.105372409383\n",
      "H                    -3.601950663319    -3.774710551812    -1.447755166767\n",
      "H                     5.603113529820     0.203808964577    -2.944338856229\n",
      "H                    -0.929156445310    -1.525115676226    -4.659129234194\n",
      "H                    -0.545614726087     0.121163996332    -4.035900196813\n",
      "H                     1.283840052025    -2.342978390820    -4.073041556559\n",
      "H                     1.582692472380    -0.791568583041    -4.910042195684\n",
      "H                    -2.231379685189    -2.618267367053    -3.095094201674\n",
      "H                     3.581703325202    -0.526277756412    -3.788211173812\n",
      "O                     0.502345956542    -2.132088164182    -0.309490928276\n",
      "O                     1.974024321402     0.099469036907    -0.190420011910\n",
      "H                    -3.696934000452    -5.138891039924     0.636395982906\n",
      "H                     7.032991717228     1.114709301508    -1.119518431677\n",
      "H                     0.242590399790    -3.686386900615     1.720901893070\n",
      "H                     3.621003972597     1.016388947564     1.553621240145\n",
      "H                    -1.751446237599    -5.100079363573     2.211334930341\n",
      "H                     6.024445967782     1.518269940293     1.136670090712\n",
      "Al                    0.555701570227    -0.505938652426    -1.188110674430\n",
      "O                    -0.803631980146     0.277693138391    -0.158046440858\n",
      "C                    -1.354890227899     0.003712046648     1.094551959114\n",
      "H                    -0.688696205860    -0.653075409089     1.679726659875\n",
      "H                    -1.489587831437     0.935268229764     1.681964575671\n",
      "H                    -2.340382271394    -0.493711273101     1.012244130250\n",
      "C                    -2.625422137739     3.903567422436    -1.139504739215\n",
      "O                    -1.329659188596     4.060504068680    -0.808794984574\n",
      "C                    -0.611436686212     2.894338092721    -0.339348643321\n",
      "C                    -0.792657604537     1.754132603289    -1.351481175037\n",
      "O                    -2.005568755920     1.720196791788    -1.931914385603\n",
      "C                    -3.058610884050     2.438415951719    -1.271594631102\n",
      "C                    -4.328545877798     2.272179015278    -2.076636801157\n",
      "C                     0.837364227259     3.265483561456    -0.132507417044\n",
      "O                     0.163573602118     1.281147950999    -2.018634366950\n",
      "O                    -3.346936626041     4.842249941937    -1.334892649768\n",
      "H                    -3.190087840944     2.017913052307    -0.257032921497\n",
      "H                    -1.065625759524     2.592793343436     0.615981859449\n",
      "H                    -4.602030709893     1.208662002260    -2.130279170968\n",
      "H                    -4.185220972808     2.661471347100    -3.094984311949\n",
      "H                    -5.142827167019     2.837742058741    -1.603964102805\n",
      "H                     0.910277667697     4.100243636554     0.578943634121\n",
      "H                     1.374499229197     2.391275272705     0.258307678885\n",
      "H                     1.297445959974     3.555185987349    -1.087463578936\n",
      "58\n",
      "0 1 AlC23H25N2O7\n",
      "C                     5.404078741565     1.119255393301     0.328656905011\n",
      "C                     5.978795968462     0.893595491062    -0.941093329580\n",
      "C                     5.181197588091     0.387306328558    -1.950960582186\n",
      "C                     3.811579683576     0.093402737885    -1.736290183260\n",
      "C                     3.224656386136     0.326583467211    -0.446792034757\n",
      "C                     4.068590618387     0.846235215396     0.572170124955\n",
      "C                     3.041528572060    -0.422103319985    -2.831546832596\n",
      "N                     1.792940569052    -0.762205339683    -2.788927376049\n",
      "C                     1.144178487911    -1.248720512274    -4.007017740860\n",
      "C                    -0.363208211993    -0.955035082275    -3.902615653612\n",
      "N                    -0.708776995412    -1.331785719860    -2.547776671695\n",
      "C                    -1.572327208872    -2.254093896633    -2.287171701066\n",
      "C                    -1.666553511651    -2.914650902238    -1.011254751295\n",
      "C                    -2.775560375262    -3.746925703815    -0.730208072028\n",
      "C                    -2.828482784727    -4.512708426255     0.421726469796\n",
      "C                    -1.727869053214    -4.487929675962     1.304860947326\n",
      "C                    -0.614010188862    -3.706341491565     1.043822863389\n",
      "C                    -0.549175857856    -2.873365008809    -0.105372409383\n",
      "H                    -3.601950663319    -3.774710551812    -1.447755166767\n",
      "H                     5.603113529820     0.203808964577    -2.944338856229\n",
      "H                    -0.929156445310    -1.525115676226    -4.659129234194\n",
      "H                    -0.545614726087     0.121163996332    -4.035900196813\n",
      "H                     1.283840052025    -2.342978390820    -4.073041556559\n",
      "H                     1.582692472380    -0.791568583041    -4.910042195684\n",
      "H                    -2.231379685189    -2.618267367053    -3.095094201674\n",
      "H                     3.581703325202    -0.526277756412    -3.788211173812\n",
      "O                     0.502345956542    -2.132088164182    -0.309490928276\n",
      "O                     1.974024321402     0.099469036907    -0.190420011910\n",
      "H                    -3.696934000452    -5.138891039924     0.636395982906\n",
      "H                     7.032991717228     1.114709301508    -1.119518431677\n",
      "H                     0.242590399790    -3.686386900615     1.720901893070\n",
      "H                     3.621003972597     1.016388947564     1.553621240145\n",
      "H                    -1.751446237599    -5.100079363573     2.211334930341\n",
      "H                     6.024445967782     1.518269940293     1.136670090712\n",
      "Al                    0.555701570227    -0.505938652426    -1.188110674430\n",
      "O                    -0.803631980146     0.277693138391    -0.158046440858\n",
      "C                    -1.354890227899     0.003712046648     1.094551959114\n",
      "H                    -0.688696205860    -0.653075409089     1.679726659875\n",
      "H                    -1.489587831437     0.935268229764     1.681964575671\n",
      "H                    -2.340382271394    -0.493711273101     1.012244130250\n",
      "C                    -2.625422137739     3.903567422436    -1.139504739215\n",
      "O                    -1.329659188596     4.060504068680    -0.808794984574\n",
      "C                    -0.611436686212     2.894338092721    -0.339348643321\n",
      "C                    -0.792657604537     1.754132603289    -1.351481175037\n",
      "O                    -2.005568755920     1.720196791788    -1.931914385603\n",
      "C                    -3.058610884050     2.438415951719    -1.271594631102\n",
      "C                    -4.328545877798     2.272179015278    -2.076636801157\n",
      "C                     0.837364227259     3.265483561456    -0.132507417044\n",
      "O                     0.163573602118     1.281147950999    -2.018634366950\n",
      "O                    -3.346936626041     4.842249941937    -1.334892649768\n",
      "H                    -3.190087840944     2.017913052307    -0.257032921497\n",
      "H                    -1.065625759524     2.592793343436     0.615981859449\n",
      "H                    -4.602030709893     1.208662002260    -2.130279170968\n",
      "H                    -4.185220972808     2.661471347100    -3.094984311949\n",
      "H                    -5.142827167019     2.837742058741    -1.603964102805\n",
      "H                     0.910277667697     4.100243636554     0.578943634121\n",
      "H                     1.374499229197     2.391275272705     0.258307678885\n",
      "H                     1.297445959974     3.555185987349    -1.087463578936\n",
      "\n"
     ]
    }
   ],
   "source": [
    "xyz_str = mol2.to_string(dtype='xyz') + mol2.to_string(dtype='xyz') \n",
    "print(xyz_str)\n",
    "\n",
    "filename = 'coords.dat'\n",
    "with open(filename, 'w') as handle:\n",
    "    handle.write(xyz_str)"
   ]
  },
  {
   "cell_type": "code",
   "execution_count": null,
   "metadata": {},
   "outputs": [],
   "source": []
  }
 ],
 "metadata": {
  "kernelspec": {
   "display_name": "Python 3 (ipykernel)",
   "language": "python",
   "name": "python3"
  },
  "language_info": {
   "codemirror_mode": {
    "name": "ipython",
    "version": 3
   },
   "file_extension": ".py",
   "mimetype": "text/x-python",
   "name": "python",
   "nbconvert_exporter": "python",
   "pygments_lexer": "ipython3",
   "version": "3.7.12"
  }
 },
 "nbformat": 4,
 "nbformat_minor": 4
}
