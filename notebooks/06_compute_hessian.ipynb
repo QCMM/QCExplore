{
 "cells": [
  {
   "cell_type": "markdown",
   "metadata": {},
   "source": [
    "<html>\n",
    "<div style=\"width:100%\">\n",
    "  <div style=\"width:90%; float:left; background:white; margin:10px\">\n",
    "    <img style =\"width:100%\"src =\"https://raw.githubusercontent.com/publicunpublic/QCMM_Jupyter/main/full.svg\">\n",
    "    <div style=\"margin-top:2.5%;position:absolute;background-color:#0e4be5;width:6%;height:0.3%\"></div>\n",
    "  </div>\n",
    "  </div>\n"
   ]
  },
  {
   "cell_type": "markdown",
   "metadata": {},
   "source": [
    "<html>\n",
    "<center>\n",
    "<br>\n",
    "<h1 style=\"color:#E6610F;\"> Compute Hessian Matrix for Optimized TS </h1>\n",
    "<br><br>\n",
    "</center>"
   ]
  },
  {
   "cell_type": "code",
   "execution_count": 1,
   "metadata": {},
   "outputs": [],
   "source": [
    "import qcportal as ptl"
   ]
  },
  {
   "cell_type": "markdown",
   "metadata": {},
   "source": [
    "## Define Variables:"
   ]
  },
  {
   "cell_type": "code",
   "execution_count": 2,
   "metadata": {},
   "outputs": [],
   "source": [
    "ts_entry_name = 'ts1_02'\n",
    "username = None\n",
    "password = None\n",
    "ts_col_name = \"salen-OMe_d-lac_ts\"\n",
    "opt_model_chem = 'pbe0-d3_def2-svp'"
   ]
  },
  {
   "cell_type": "code",
   "execution_count": 3,
   "metadata": {},
   "outputs": [],
   "source": [
    "client = ptl.FractalClient(address=\"152.74.10.245:7778\", username = username, password = password, verify=False)"
   ]
  },
  {
   "cell_type": "markdown",
   "metadata": {},
   "source": [
    "## A) Get Optimized Molecule ID "
   ]
  },
  {
   "cell_type": "code",
   "execution_count": 4,
   "metadata": {},
   "outputs": [
    {
     "data": {
      "text/html": [
       "<div>\n",
       "<style scoped>\n",
       "    .dataframe tbody tr th:only-of-type {\n",
       "        vertical-align: middle;\n",
       "    }\n",
       "\n",
       "    .dataframe tbody tr th {\n",
       "        vertical-align: top;\n",
       "    }\n",
       "\n",
       "    .dataframe thead th {\n",
       "        text-align: right;\n",
       "    }\n",
       "</style>\n",
       "<table border=\"1\" class=\"dataframe\">\n",
       "  <thead>\n",
       "    <tr style=\"text-align: right;\">\n",
       "      <th></th>\n",
       "      <th>pbe0-d3_def2-svp</th>\n",
       "    </tr>\n",
       "  </thead>\n",
       "  <tbody>\n",
       "    <tr>\n",
       "      <th>ts1_01</th>\n",
       "      <td>COMPLETE</td>\n",
       "    </tr>\n",
       "    <tr>\n",
       "      <th>ts1_03</th>\n",
       "      <td>COMPLETE</td>\n",
       "    </tr>\n",
       "    <tr>\n",
       "      <th>ts1_02</th>\n",
       "      <td>ERROR</td>\n",
       "    </tr>\n",
       "    <tr>\n",
       "      <th>ts1_04</th>\n",
       "      <td>INCOMPLETE</td>\n",
       "    </tr>\n",
       "  </tbody>\n",
       "</table>\n",
       "</div>"
      ],
      "text/plain": [
       "       pbe0-d3_def2-svp\n",
       "ts1_01         COMPLETE\n",
       "ts1_03         COMPLETE\n",
       "ts1_02            ERROR\n",
       "ts1_04       INCOMPLETE"
      ]
     },
     "execution_count": 4,
     "metadata": {},
     "output_type": "execute_result"
    }
   ],
   "source": [
    "ds_opt = client.get_collection(\"OptimizationDataset\", ts_col_name)\n",
    "ds_opt.status(collapse = False)"
   ]
  },
  {
   "cell_type": "code",
   "execution_count": 72,
   "metadata": {},
   "outputs": [
    {
     "data": {
      "application/vnd.jupyter.widget-view+json": {
       "model_id": "e72fa1d869a943cdbc87e7d34253bf2d",
       "version_major": 2,
       "version_minor": 0
      },
      "text/plain": [
       "NGLWidget()"
      ]
     },
     "metadata": {},
     "output_type": "display_data"
    }
   ],
   "source": [
    "rr = ds_opt.get_record(ts_entry_name, specification = opt_model_chem)\n",
    "mol_opt_ts = rr.get_final_molecule()\n",
    "mol_opt_ts"
   ]
  },
  {
   "cell_type": "code",
   "execution_count": 73,
   "metadata": {},
   "outputs": [
    {
     "data": {
      "text/plain": [
       "'44569'"
      ]
     },
     "execution_count": 73,
     "metadata": {},
     "output_type": "execute_result"
    }
   ],
   "source": [
    "ts_id = mol_opt_ts.id\n",
    "ts_id"
   ]
  },
  {
   "cell_type": "markdown",
   "metadata": {},
   "source": [
    "## B) Check RMSD within dataset"
   ]
  },
  {
   "cell_type": "code",
   "execution_count": 48,
   "metadata": {},
   "outputs": [
    {
     "name": "stdout",
     "output_type": "stream",
     "text": [
      "ts1_03: pbe0-d3_def2-svp pbe0-d3_def2-svp 1.5790646885908388\n",
      "ts1_03: pbe0-d3_def2-svp pbe0-d3_def2-svp 0.0\n"
     ]
    }
   ],
   "source": [
    "recs = ds_opt.data.records\n",
    "for nmol2 in recs.keys():\n",
    "    rr2 = ds_opt.get_record(nmol2, specification=opt_model_chem)\n",
    "    if rr.status == 'COMPLETE' and rr2.status == \"COMPLETE\":\n",
    "        mol2 = rr2.get_final_molecule()\n",
    "        rmsd_val = mol2.align(mol_opt_ts, atoms_map = True, run_mirror=True )[1]['rmsd']\n",
    "        print(nmol1 + ': ' + opt_model_chem + ' ' + opt_model_chem + ' ' + str(rmsd_val))"
   ]
  },
  {
   "cell_type": "markdown",
   "metadata": {},
   "source": [
    "## C) Send Hessian Computation "
   ]
  },
  {
   "cell_type": "code",
   "execution_count": 74,
   "metadata": {},
   "outputs": [
    {
     "data": {
      "text/plain": [
       "TaskQueuePOSTResponse(meta=ResponsePOSTMeta(errors=[], success=True, error_description='False', n_inserted=1, duplicates=[], validation_errors=[]), data=<ComputeResponse(nsubmitted=1 nexisting=0)>)"
      ]
     },
     "execution_count": 74,
     "metadata": {},
     "output_type": "execute_result"
    }
   ],
   "source": [
    "#Send the computation to the client\n",
    "\n",
    "manager_tag = 'tera'\n",
    "\n",
    "kw = ptl.models.KeywordSet(id = 1, **{\"values\": {\"dftd\": \"d3\", \"dftgrid\" : 2, \"convthre\" : \"3.0e-7\", \"threall\": \"1.0e-13\", \"scf\" : \"diis+a\"}})\n",
    "kw_id = client.add_keywords([kw])[0]\n",
    "\n",
    "method, basis = opt_model_chem.split('_')\n",
    "\n",
    "if \"d3\" in method:\n",
    "    method = method.split('-')[0]\n",
    "\n",
    "rc = client.add_compute(program = \"terachem\", \n",
    "                       method = method, \n",
    "                       basis = basis, \n",
    "                       driver = \"hessian\", \n",
    "                       molecule = ts_id, \n",
    "                       tag= manager_tag,\n",
    "                       keywords = kw_id,\n",
    "                       full_return = True)\n",
    "rc"
   ]
  },
  {
   "cell_type": "markdown",
   "metadata": {},
   "source": [
    "## C) Check Hessian Computation \n",
    "\n",
    "You need to run the above line first to check the state of the computation. If you already ran it once it won't run it again, just get the job id. "
   ]
  },
  {
   "cell_type": "code",
   "execution_count": 75,
   "metadata": {},
   "outputs": [
    {
     "data": {
      "text/plain": [
       "<RecordStatusEnum.incomplete: 'INCOMPLETE'>"
      ]
     },
     "execution_count": 75,
     "metadata": {},
     "output_type": "execute_result"
    }
   ],
   "source": [
    "#  Check Hessian job status\n",
    "cr = rc.data\n",
    "ids = cr.dict()['ids']\n",
    "rr_h = client.query_results(ids)[0]\n",
    "rr_h.dict()['status']"
   ]
  },
  {
   "cell_type": "code",
   "execution_count": null,
   "metadata": {},
   "outputs": [],
   "source": []
  }
 ],
 "metadata": {
  "kernelspec": {
   "display_name": "Python 3 (ipykernel)",
   "language": "python",
   "name": "python3"
  },
  "language_info": {
   "codemirror_mode": {
    "name": "ipython",
    "version": 3
   },
   "file_extension": ".py",
   "mimetype": "text/x-python",
   "name": "python",
   "nbconvert_exporter": "python",
   "pygments_lexer": "ipython3",
   "version": "3.7.12"
  }
 },
 "nbformat": 4,
 "nbformat_minor": 4
}
