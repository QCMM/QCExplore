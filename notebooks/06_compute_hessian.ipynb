{
 "cells": [
  {
   "cell_type": "markdown",
   "metadata": {},
   "source": [
    "<html>\n",
    "<div style=\"width:100%\">\n",
    "  <div style=\"width:90%; float:left; background:white; margin:10px\">\n",
    "    <img style =\"width:100%\"src =\"https://raw.githubusercontent.com/publicunpublic/QCMM_Jupyter/main/full.svg\">\n",
    "    <div style=\"margin-top:2.5%;position:absolute;background-color:#0e4be5;width:6%;height:0.3%\"></div>\n",
    "  </div>\n",
    "  </div>\n"
   ]
  },
  {
   "cell_type": "markdown",
   "metadata": {},
   "source": [
    "<html>\n",
    "<center>\n",
    "<br>\n",
    "<h1 style=\"color:#E6610F;\"> Compute Hessian Matrix for Optimized TS </h1>\n",
    "<br><br>\n",
    "</center>"
   ]
  },
  {
   "cell_type": "code",
   "execution_count": 5,
   "metadata": {},
   "outputs": [],
   "source": [
    "import qcportal as ptl"
   ]
  },
  {
   "cell_type": "markdown",
   "metadata": {},
   "source": [
    "## Define Variables:"
   ]
  },
  {
   "cell_type": "code",
   "execution_count": 13,
   "metadata": {},
   "outputs": [],
   "source": [
    "ts_entry_name = 'ts1_02'\n",
    "username = None\n",
    "password = None\n",
    "ts_from_neb_col_name = \"salen_d-lac_ts_from_neb\"\n",
    "opt_model_chem = 'b3lyp-d3_def2-svp'"
   ]
  },
  {
   "cell_type": "code",
   "execution_count": 9,
   "metadata": {},
   "outputs": [],
   "source": [
    "client = ptl.FractalClient(address=\"152.74.10.245:7778\", username = username, password = password, verify=False)"
   ]
  },
  {
   "cell_type": "markdown",
   "metadata": {},
   "source": [
    "## A) Get Optimized Molecule ID "
   ]
  },
  {
   "cell_type": "code",
   "execution_count": 10,
   "metadata": {},
   "outputs": [
    {
     "data": {
      "text/html": [
       "<div>\n",
       "<style scoped>\n",
       "    .dataframe tbody tr th:only-of-type {\n",
       "        vertical-align: middle;\n",
       "    }\n",
       "\n",
       "    .dataframe tbody tr th {\n",
       "        vertical-align: top;\n",
       "    }\n",
       "\n",
       "    .dataframe thead th {\n",
       "        text-align: right;\n",
       "    }\n",
       "</style>\n",
       "<table border=\"1\" class=\"dataframe\">\n",
       "  <thead>\n",
       "    <tr style=\"text-align: right;\">\n",
       "      <th></th>\n",
       "      <th>b3lyp-d3bj_def2-svp</th>\n",
       "      <th>b3lyp-d3_def2-svp</th>\n",
       "    </tr>\n",
       "  </thead>\n",
       "  <tbody>\n",
       "    <tr>\n",
       "      <th>ts1_02</th>\n",
       "      <td>None</td>\n",
       "      <td>COMPLETE</td>\n",
       "    </tr>\n",
       "    <tr>\n",
       "      <th>ts1_02_G2</th>\n",
       "      <td>None</td>\n",
       "      <td>COMPLETE</td>\n",
       "    </tr>\n",
       "    <tr>\n",
       "      <th>ts1_02_G1</th>\n",
       "      <td>None</td>\n",
       "      <td>COMPLETE</td>\n",
       "    </tr>\n",
       "    <tr>\n",
       "      <th>ts1_03</th>\n",
       "      <td>None</td>\n",
       "      <td>COMPLETE</td>\n",
       "    </tr>\n",
       "    <tr>\n",
       "      <th>ts1_04</th>\n",
       "      <td>None</td>\n",
       "      <td>COMPLETE</td>\n",
       "    </tr>\n",
       "    <tr>\n",
       "      <th>ts2_02</th>\n",
       "      <td>None</td>\n",
       "      <td>COMPLETE</td>\n",
       "    </tr>\n",
       "    <tr>\n",
       "      <th>ts1_01</th>\n",
       "      <td>None</td>\n",
       "      <td>COMPLETE</td>\n",
       "    </tr>\n",
       "  </tbody>\n",
       "</table>\n",
       "</div>"
      ],
      "text/plain": [
       "          b3lyp-d3bj_def2-svp b3lyp-d3_def2-svp\n",
       "ts1_02                   None          COMPLETE\n",
       "ts1_02_G2                None          COMPLETE\n",
       "ts1_02_G1                None          COMPLETE\n",
       "ts1_03                   None          COMPLETE\n",
       "ts1_04                   None          COMPLETE\n",
       "ts2_02                   None          COMPLETE\n",
       "ts1_01                   None          COMPLETE"
      ]
     },
     "execution_count": 10,
     "metadata": {},
     "output_type": "execute_result"
    }
   ],
   "source": [
    "ds_opt = client.get_collection(\"OptimizationDataset\", \"salen_d-lac_ts_from_neb\")\n",
    "ds_opt.status(collapse = False)"
   ]
  },
  {
   "cell_type": "code",
   "execution_count": 14,
   "metadata": {},
   "outputs": [
    {
     "data": {
      "application/vnd.jupyter.widget-view+json": {
       "model_id": "9d21405007cf4787b6fe22f76f823075",
       "version_major": 2,
       "version_minor": 0
      },
      "text/plain": [
       "NGLWidget()"
      ]
     },
     "metadata": {},
     "output_type": "display_data"
    }
   ],
   "source": [
    "rr = ds_opt.get_record(\"ts1_01\", specification = opt_model_chem)\n",
    "mol_opt_ts = rr.get_final_molecule()\n",
    "mol_opt_ts"
   ]
  },
  {
   "cell_type": "code",
   "execution_count": 12,
   "metadata": {},
   "outputs": [
    {
     "data": {
      "text/plain": [
       "'30064'"
      ]
     },
     "execution_count": 12,
     "metadata": {},
     "output_type": "execute_result"
    }
   ],
   "source": [
    "ts_id = mol_opt_ts.id\n",
    "ts_id"
   ]
  },
  {
   "cell_type": "markdown",
   "metadata": {},
   "source": [
    "## A) Send Hessian Computation "
   ]
  },
  {
   "cell_type": "code",
   "execution_count": 15,
   "metadata": {},
   "outputs": [
    {
     "data": {
      "text/plain": [
       "TaskQueuePOSTResponse(meta=ResponsePOSTMeta(errors=[], success=True, error_description='False', n_inserted=1, duplicates=[], validation_errors=[]), data=<ComputeResponse(nsubmitted=0 nexisting=1)>)"
      ]
     },
     "execution_count": 15,
     "metadata": {},
     "output_type": "execute_result"
    }
   ],
   "source": [
    "#Send the computation to the client\n",
    "\n",
    "manager_tag = 'tera'\n",
    "\n",
    "kw = ptl.models.KeywordSet(id = 1, **{\"values\": {\"dftd\": \"d3\", \"dftgrid\" : 2, \"convthre\" : \"3.0e-7\", \"threall\": \"1.0e-13\", \"scf\" : \"diis+a\"}})\n",
    "kw_id = client.add_keywords([kw])[0]\n",
    "\n",
    "method, basis = opt_model_chem.split('_')\n",
    "\n",
    "rc = client.add_compute(program = \"terachem\", \n",
    "                       method = method.split('-')[0], \n",
    "                       basis = basis, \n",
    "                       driver = \"hessian\", \n",
    "                       molecule = ts_id, \n",
    "                       tag= manager_tag,\n",
    "                       keywords = kw_id,\n",
    "                       full_return = True)\n",
    "rc"
   ]
  },
  {
   "cell_type": "markdown",
   "metadata": {},
   "source": [
    "## C) Check Hessian Computation \n",
    "\n",
    "You need to run the above line first to check the state of the computation. If you already ran it once it won't run it again, just get the job id. "
   ]
  },
  {
   "cell_type": "code",
   "execution_count": 17,
   "metadata": {},
   "outputs": [
    {
     "data": {
      "text/plain": [
       "<RecordStatusEnum.complete: 'COMPLETE'>"
      ]
     },
     "execution_count": 17,
     "metadata": {},
     "output_type": "execute_result"
    }
   ],
   "source": [
    "#  Check Hessian job status\n",
    "cr = rc.data\n",
    "ids = cr.dict()['ids']\n",
    "rr_h = client.query_results(ids)[0]\n",
    "rr_h.dict()['status']"
   ]
  }
 ],
 "metadata": {
  "kernelspec": {
   "display_name": "Python 3 (ipykernel)",
   "language": "python",
   "name": "python3"
  },
  "language_info": {
   "codemirror_mode": {
    "name": "ipython",
    "version": 3
   },
   "file_extension": ".py",
   "mimetype": "text/x-python",
   "name": "python",
   "nbconvert_exporter": "python",
   "pygments_lexer": "ipython3",
   "version": "3.7.12"
  }
 },
 "nbformat": 4,
 "nbformat_minor": 4
}
