{
 "cells": [
  {
   "cell_type": "markdown",
   "id": "33b25463",
   "metadata": {},
   "source": [
    "<html>\n",
    "<div style=\"width:100%\">\n",
    "  <div style=\"width:90%; float:left; background:white; margin:10px\">\n",
    "    <img style =\"width:100%\"src =\"https://raw.githubusercontent.com/publicunpublic/QCMM_Jupyter/main/full.svg\">\n",
    "    <div style=\"margin-top:2.5%;position:absolute;background-color:#00000;width:6%;height:0.3%\"></div>\n",
    "  </div>\n",
    "  </div>\n"
   ]
  },
  {
   "cell_type": "markdown",
   "id": "5c7a5394",
   "metadata": {},
   "source": [
    "<html>\n",
    "<center>\n",
    "<br>\n",
    "<h1 style=\"color:#E6610F;\"> Analyze molecules from site sampling </h1>\n",
    "<br><br>\n",
    "</center>"
   ]
  },
  {
   "cell_type": "code",
   "execution_count": 2,
   "id": "de74d4d0",
   "metadata": {},
   "outputs": [],
   "source": [
    "import qcportal as ptl"
   ]
  },
  {
   "cell_type": "code",
   "execution_count": 1,
   "id": "c73d843e",
   "metadata": {},
   "outputs": [],
   "source": [
    "client_address = \"152.74.10.245:7778\"\n",
    "username = None \n",
    "password = None \n",
    "sampling_collection_name = 'salen-OMe+d-lactide' #\"h2co_W22_11_0070+hnc\""
   ]
  },
  {
   "cell_type": "code",
   "execution_count": 22,
   "id": "324ac92e",
   "metadata": {},
   "outputs": [],
   "source": [
    "client = ptl.FractalClient(address=client_address, username = username, password = password, verify=False)"
   ]
  },
  {
   "cell_type": "markdown",
   "id": "a8cc50c2",
   "metadata": {},
   "source": [
    "##  A) List structures in the scan collection"
   ]
  },
  {
   "cell_type": "code",
   "execution_count": 23,
   "id": "7549a123",
   "metadata": {},
   "outputs": [
    {
     "data": {
      "text/html": [
       "<div>\n",
       "<style scoped>\n",
       "    .dataframe tbody tr th:only-of-type {\n",
       "        vertical-align: middle;\n",
       "    }\n",
       "\n",
       "    .dataframe tbody tr th {\n",
       "        vertical-align: top;\n",
       "    }\n",
       "\n",
       "    .dataframe thead th {\n",
       "        text-align: right;\n",
       "    }\n",
       "</style>\n",
       "<table border=\"1\" class=\"dataframe\">\n",
       "  <thead>\n",
       "    <tr style=\"text-align: right;\">\n",
       "      <th></th>\n",
       "      <th>pbe0-d3_def2-svp</th>\n",
       "    </tr>\n",
       "  </thead>\n",
       "  <tbody>\n",
       "    <tr>\n",
       "      <th>salen-OMe+d-lactide_0002</th>\n",
       "      <td>COMPLETE</td>\n",
       "    </tr>\n",
       "    <tr>\n",
       "      <th>salen-OMe+d-lactide_0003</th>\n",
       "      <td>COMPLETE</td>\n",
       "    </tr>\n",
       "    <tr>\n",
       "      <th>salen-OMe+d-lactide_0004</th>\n",
       "      <td>COMPLETE</td>\n",
       "    </tr>\n",
       "    <tr>\n",
       "      <th>salen-OMe+d-lactide_0005</th>\n",
       "      <td>COMPLETE</td>\n",
       "    </tr>\n",
       "    <tr>\n",
       "      <th>salen-OMe+d-lactide_0006</th>\n",
       "      <td>COMPLETE</td>\n",
       "    </tr>\n",
       "    <tr>\n",
       "      <th>salen-OMe+d-lactide_0007</th>\n",
       "      <td>COMPLETE</td>\n",
       "    </tr>\n",
       "    <tr>\n",
       "      <th>salen-OMe+d-lactide_0009</th>\n",
       "      <td>COMPLETE</td>\n",
       "    </tr>\n",
       "    <tr>\n",
       "      <th>salen-OMe+d-lactide_0010</th>\n",
       "      <td>COMPLETE</td>\n",
       "    </tr>\n",
       "    <tr>\n",
       "      <th>salen-OMe+d-lactide_0011</th>\n",
       "      <td>COMPLETE</td>\n",
       "    </tr>\n",
       "    <tr>\n",
       "      <th>salen-OMe+d-lactide_0012</th>\n",
       "      <td>COMPLETE</td>\n",
       "    </tr>\n",
       "    <tr>\n",
       "      <th>salen-OMe+d-lactide_0014</th>\n",
       "      <td>COMPLETE</td>\n",
       "    </tr>\n",
       "    <tr>\n",
       "      <th>salen-OMe+d-lactide_0016</th>\n",
       "      <td>COMPLETE</td>\n",
       "    </tr>\n",
       "    <tr>\n",
       "      <th>salen-OMe+d-lactide_0018</th>\n",
       "      <td>COMPLETE</td>\n",
       "    </tr>\n",
       "    <tr>\n",
       "      <th>salen-OMe+d-lactide_0020</th>\n",
       "      <td>COMPLETE</td>\n",
       "    </tr>\n",
       "    <tr>\n",
       "      <th>salen-OMe+d-lactide_0021</th>\n",
       "      <td>COMPLETE</td>\n",
       "    </tr>\n",
       "    <tr>\n",
       "      <th>salen-OMe+d-lactide_0022</th>\n",
       "      <td>COMPLETE</td>\n",
       "    </tr>\n",
       "    <tr>\n",
       "      <th>salen-OMe+d-lactide_0023</th>\n",
       "      <td>COMPLETE</td>\n",
       "    </tr>\n",
       "    <tr>\n",
       "      <th>salen-OMe+d-lactide_0024</th>\n",
       "      <td>COMPLETE</td>\n",
       "    </tr>\n",
       "    <tr>\n",
       "      <th>salen-OMe+d-lactide_0025</th>\n",
       "      <td>COMPLETE</td>\n",
       "    </tr>\n",
       "    <tr>\n",
       "      <th>salen-OMe+d-lactide_0026</th>\n",
       "      <td>COMPLETE</td>\n",
       "    </tr>\n",
       "  </tbody>\n",
       "</table>\n",
       "</div>"
      ],
      "text/plain": [
       "                         pbe0-d3_def2-svp\n",
       "salen-OMe+d-lactide_0002         COMPLETE\n",
       "salen-OMe+d-lactide_0003         COMPLETE\n",
       "salen-OMe+d-lactide_0004         COMPLETE\n",
       "salen-OMe+d-lactide_0005         COMPLETE\n",
       "salen-OMe+d-lactide_0006         COMPLETE\n",
       "salen-OMe+d-lactide_0007         COMPLETE\n",
       "salen-OMe+d-lactide_0009         COMPLETE\n",
       "salen-OMe+d-lactide_0010         COMPLETE\n",
       "salen-OMe+d-lactide_0011         COMPLETE\n",
       "salen-OMe+d-lactide_0012         COMPLETE\n",
       "salen-OMe+d-lactide_0014         COMPLETE\n",
       "salen-OMe+d-lactide_0016         COMPLETE\n",
       "salen-OMe+d-lactide_0018         COMPLETE\n",
       "salen-OMe+d-lactide_0020         COMPLETE\n",
       "salen-OMe+d-lactide_0021         COMPLETE\n",
       "salen-OMe+d-lactide_0022         COMPLETE\n",
       "salen-OMe+d-lactide_0023         COMPLETE\n",
       "salen-OMe+d-lactide_0024         COMPLETE\n",
       "salen-OMe+d-lactide_0025         COMPLETE\n",
       "salen-OMe+d-lactide_0026         COMPLETE"
      ]
     },
     "execution_count": 23,
     "metadata": {},
     "output_type": "execute_result"
    }
   ],
   "source": [
    "ds_opt  = client.get_collection(\"OptimizationDataset\", sampling_collection_name)\n",
    "ds_opt.status(collapse = False)"
   ]
  },
  {
   "cell_type": "markdown",
   "id": "301383be",
   "metadata": {},
   "source": [
    "##  B)  Visualize the molecules"
   ]
  },
  {
   "cell_type": "code",
   "execution_count": 44,
   "id": "87391ee3",
   "metadata": {
    "scrolled": true
   },
   "outputs": [
    {
     "data": {
      "application/vnd.jupyter.widget-view+json": {
       "model_id": "cfd94f524d9b4f0ca2d5dc61f2a7f946",
       "version_major": 2,
       "version_minor": 0
      },
      "text/plain": [
       "NGLWidget()"
      ]
     },
     "metadata": {},
     "output_type": "display_data"
    }
   ],
   "source": [
    "entry_name = sampling_collection_name +\"_0025\"\n",
    "model_chem = \"pbe0-d3_def2-svp\"\n",
    "\n",
    "rr = ds_opt.get_record(entry_name, specification = model_chem)\n",
    "mol = rr.get_final_molecule()\n",
    "mol"
   ]
  },
  {
   "cell_type": "markdown",
   "id": "a135bae2",
   "metadata": {},
   "source": [
    "## C)  Retrive molecule ID  (For QCScan)"
   ]
  },
  {
   "cell_type": "code",
   "execution_count": 45,
   "id": "1c86ab5c",
   "metadata": {},
   "outputs": [
    {
     "data": {
      "text/plain": [
       "'39083'"
      ]
     },
     "execution_count": 45,
     "metadata": {},
     "output_type": "execute_result"
    }
   ],
   "source": [
    "mol.id"
   ]
  },
  {
   "cell_type": "markdown",
   "id": "c568ec8c",
   "metadata": {},
   "source": [
    "# Extras"
   ]
  },
  {
   "cell_type": "markdown",
   "id": "eed89f36",
   "metadata": {},
   "source": [
    "### 1) Optimize at different level of theory "
   ]
  },
  {
   "cell_type": "code",
   "execution_count": null,
   "id": "b9e1af64",
   "metadata": {},
   "outputs": [],
   "source": [
    "#kw = ptl.models.KeywordSet(**{\"values\": {\"dftd\": \"d3\", \"convthre\" : '3.0e-7', \"threall\" : '1.0e-13', 'dftgrid' : 2, \"scf\" : \"diis+a\"}})\n",
    "#kw_id = client.add_keywords([kw])[0]\n",
    "kw_id = None\n",
    "\n",
    "add_spec = {'name':\"pbe0-d3bj_def2-svp\",\n",
    "        'description': 'Geometric + Psi4/pbe0-d3bj/def2-svp.',\n",
    "        'optimization_spec': {'program': 'geometric', 'keywords': None },\n",
    "        'qc_spec': {'driver': 'gradient',\n",
    "        'method': \"pbe0-d3bj\",\n",
    "        'basis': 'def2-svp',\n",
    "        'keywords': kw_id,\n",
    "        'program': 'psi4'}}\n",
    "ds_opt.add_specification(**add_spec,overwrite=True)\n",
    "ds_opt.save()"
   ]
  },
  {
   "cell_type": "code",
   "execution_count": null,
   "id": "a9f1bd1b",
   "metadata": {},
   "outputs": [],
   "source": [
    "cr = ds_opt.compute(specification = 'b3lyp-d3_def2-svp', tag='refinement')\n",
    "cr"
   ]
  },
  {
   "cell_type": "code",
   "execution_count": 28,
   "id": "7ef9bec9",
   "metadata": {},
   "outputs": [],
   "source": [
    "kw = ptl.models.KeywordSet(**{\"values\": {\"dftd\": \"d3\", \"convthre\" : '3.0e-7', \"threall\" : '1.0e-13', 'dftgrid' : 2, \"scf\" : \"diis+a\"}})\n",
    "kw_id = client.add_keywords([kw])[0]\n",
    "\n",
    "add_ref_spec = {'name': 'pbe0-d3_def2-svp',\n",
    "        'description': 'Geometric + TeraChem/pbe0-d3/def2-svp',\n",
    "                'optimization_spec': {'program': 'geometric', 'keywords': {'converge' : [\"set\" , \"gau_tight\"], 'maxiter': 200}},\n",
    "        'qc_spec': {'driver': 'gradient',\n",
    "        'method': 'pbe0',\n",
    "        'basis': 'def2-svp',\n",
    "        'keywords': kw_id,\n",
    "        'program': 'terachem'}}\n",
    "\n",
    "ds_opt = client.get_collection(\"OptimizationDataset\", sampling_collection_name)\n",
    "ds_opt.add_specification(**add_ref_spec,overwrite=True)"
   ]
  },
  {
   "cell_type": "code",
   "execution_count": 29,
   "id": "dc959560",
   "metadata": {},
   "outputs": [
    {
     "data": {
      "text/plain": [
       "0"
      ]
     },
     "execution_count": 29,
     "metadata": {},
     "output_type": "execute_result"
    }
   ],
   "source": [
    "cr = ds_opt.compute(specification = 'pbe0-d3_def2-svp', tag='refinement_tera')\n",
    "cr"
   ]
  },
  {
   "cell_type": "markdown",
   "id": "31439f9d",
   "metadata": {},
   "source": [
    "### 2) Restart Optimization Jobs "
   ]
  },
  {
   "cell_type": "code",
   "execution_count": null,
   "id": "d149786c",
   "metadata": {},
   "outputs": [],
   "source": [
    "mol_list = []\n",
    "\n",
    "spec = 'pbe0-d3_def2-svp'\n",
    "\n",
    "for i in ds_opt.data.records: \n",
    "    #print(i)\n",
    "    mol_list.append(i)\n",
    "\n",
    "for i in  mol_list:\n",
    "    opt_rec = ds_opt.get_record(name=i,specification= spec)\n",
    "    if (opt_rec.status == 'ERROR'):    \n",
    "        id_u = opt_rec.id \n",
    "        print('yes', i, id_u)\n",
    "        c = client.modify_tasks(\"modify\", new_tag = 'refinement_tera',base_result = id_u)\n",
    "        #c = client.modify_tasks(\"restart\",base_result = id_u)\n",
    "        print(c)"
   ]
  },
  {
   "cell_type": "markdown",
   "id": "06ec7631",
   "metadata": {},
   "source": [
    "### 3) Call errors from record"
   ]
  },
  {
   "cell_type": "code",
   "execution_count": null,
   "id": "86f498d1",
   "metadata": {},
   "outputs": [],
   "source": [
    "print(rr.get_error().dict()['error_message'])"
   ]
  },
  {
   "cell_type": "markdown",
   "id": "23964d9b",
   "metadata": {},
   "source": [
    "### 3) Delete Specification"
   ]
  },
  {
   "cell_type": "code",
   "execution_count": 66,
   "id": "6c3d8481",
   "metadata": {},
   "outputs": [],
   "source": [
    "#Delete Specification\n",
    "\n",
    "#del ds_opt.data.specs['pbe0-d3bj_def2-svp']\n",
    "#ds_opt.save()"
   ]
  },
  {
   "cell_type": "markdown",
   "id": "38320c15",
   "metadata": {},
   "source": [
    "### 4) Visualize Optimization for Molden"
   ]
  },
  {
   "cell_type": "code",
   "execution_count": 16,
   "id": "da7528bb",
   "metadata": {},
   "outputs": [],
   "source": [
    "from pathlib import Path\n",
    "\n",
    "tr_mols = rr.get_molecular_trajectory()\n",
    "tr_grads = rr.get_trajectory()\n",
    "\n",
    "molden_str = ''\n",
    "for i in range(len(tr_mols)):\n",
    "    enr = tr_grads[i].dict()['properties']['return_energy']\n",
    "    molden_str += tr_mols[i].to_string(dtype='xyz').replace(\"0 1 \"+tr_mols[i].get_molecular_formula(), str(enr))\n",
    "\n",
    "opt_file = Path(\"./opt_trj_\"+entry_name)\n",
    "\n",
    "with opt_file.open(\"w\", encoding =\"utf-8\") as f:\n",
    "    f.write(molden_str)"
   ]
  }
 ],
 "metadata": {
  "kernelspec": {
   "display_name": "Python 3 (ipykernel)",
   "language": "python",
   "name": "python3"
  },
  "language_info": {
   "codemirror_mode": {
    "name": "ipython",
    "version": 3
   },
   "file_extension": ".py",
   "mimetype": "text/x-python",
   "name": "python",
   "nbconvert_exporter": "python",
   "pygments_lexer": "ipython3",
   "version": "3.7.12"
  }
 },
 "nbformat": 4,
 "nbformat_minor": 5
}
