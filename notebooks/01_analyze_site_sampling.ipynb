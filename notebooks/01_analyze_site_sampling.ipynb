{
 "cells": [
  {
   "cell_type": "markdown",
   "id": "33b25463",
   "metadata": {},
   "source": [
    "<html>\n",
    "<div style=\"width:100%\">\n",
    "  <div style=\"width:90%; float:left; background:white; margin:10px\">\n",
    "    <img style =\"width:100%\"src =\"https://raw.githubusercontent.com/publicunpublic/QCMM_Jupyter/main/full.svg\">\n",
    "    <div style=\"margin-top:2.5%;position:absolute;background-color:#00000;width:6%;height:0.3%\"></div>\n",
    "  </div>\n",
    "  </div>\n"
   ]
  },
  {
   "cell_type": "markdown",
   "id": "5c7a5394",
   "metadata": {},
   "source": [
    "<html>\n",
    "<center>\n",
    "<br>\n",
    "<h1 style=\"color:#E6610F;\"> Analyze molecules from site sampling </h1>\n",
    "<br><br>\n",
    "</center>"
   ]
  },
  {
   "cell_type": "code",
   "execution_count": 1,
   "id": "de74d4d0",
   "metadata": {},
   "outputs": [],
   "source": [
    "import qcportal as ptl"
   ]
  },
  {
   "cell_type": "code",
   "execution_count": 2,
   "id": "c73d843e",
   "metadata": {},
   "outputs": [],
   "source": [
    "client_address = \"152.74.10.245:7778\"\n",
    "username = None #'svogt'\n",
    "password = None #\"7kyRT-Mrow3jH0Lg6b9YIhEjAcvU9EpFBb9ouMClU5g\"\n",
    "sampling_collection_name = 'salen-OMe+l-lactide' #\"h2co_W22_11_0070+hnc\""
   ]
  },
  {
   "cell_type": "code",
   "execution_count": 4,
   "id": "324ac92e",
   "metadata": {},
   "outputs": [],
   "source": [
    "client = ptl.FractalClient(address=client_address, username = username, password = password, verify=False)"
   ]
  },
  {
   "cell_type": "markdown",
   "id": "a8cc50c2",
   "metadata": {},
   "source": [
    "##  A) List structures in the scan collection"
   ]
  },
  {
   "cell_type": "code",
   "execution_count": 8,
   "id": "7549a123",
   "metadata": {},
   "outputs": [
    {
     "data": {
      "text/html": [
       "<div>\n",
       "<style scoped>\n",
       "    .dataframe tbody tr th:only-of-type {\n",
       "        vertical-align: middle;\n",
       "    }\n",
       "\n",
       "    .dataframe tbody tr th {\n",
       "        vertical-align: top;\n",
       "    }\n",
       "\n",
       "    .dataframe thead th {\n",
       "        text-align: right;\n",
       "    }\n",
       "</style>\n",
       "<table border=\"1\" class=\"dataframe\">\n",
       "  <thead>\n",
       "    <tr style=\"text-align: right;\">\n",
       "      <th></th>\n",
       "      <th>pbe0-d3_def2-svp</th>\n",
       "    </tr>\n",
       "  </thead>\n",
       "  <tbody>\n",
       "    <tr>\n",
       "      <th>salen-OMe+l-lactide_0003</th>\n",
       "      <td>COMPLETE</td>\n",
       "    </tr>\n",
       "    <tr>\n",
       "      <th>salen-OMe+l-lactide_0004</th>\n",
       "      <td>COMPLETE</td>\n",
       "    </tr>\n",
       "    <tr>\n",
       "      <th>salen-OMe+l-lactide_0005</th>\n",
       "      <td>COMPLETE</td>\n",
       "    </tr>\n",
       "    <tr>\n",
       "      <th>salen-OMe+l-lactide_0006</th>\n",
       "      <td>COMPLETE</td>\n",
       "    </tr>\n",
       "    <tr>\n",
       "      <th>salen-OMe+l-lactide_0007</th>\n",
       "      <td>COMPLETE</td>\n",
       "    </tr>\n",
       "    <tr>\n",
       "      <th>salen-OMe+l-lactide_0009</th>\n",
       "      <td>COMPLETE</td>\n",
       "    </tr>\n",
       "    <tr>\n",
       "      <th>salen-OMe+l-lactide_0011</th>\n",
       "      <td>COMPLETE</td>\n",
       "    </tr>\n",
       "    <tr>\n",
       "      <th>salen-OMe+l-lactide_0012</th>\n",
       "      <td>COMPLETE</td>\n",
       "    </tr>\n",
       "    <tr>\n",
       "      <th>salen-OMe+l-lactide_0013</th>\n",
       "      <td>COMPLETE</td>\n",
       "    </tr>\n",
       "    <tr>\n",
       "      <th>salen-OMe+l-lactide_0014</th>\n",
       "      <td>ERROR</td>\n",
       "    </tr>\n",
       "    <tr>\n",
       "      <th>salen-OMe+l-lactide_0015</th>\n",
       "      <td>COMPLETE</td>\n",
       "    </tr>\n",
       "    <tr>\n",
       "      <th>salen-OMe+l-lactide_0016</th>\n",
       "      <td>COMPLETE</td>\n",
       "    </tr>\n",
       "    <tr>\n",
       "      <th>salen-OMe+l-lactide_0017</th>\n",
       "      <td>COMPLETE</td>\n",
       "    </tr>\n",
       "    <tr>\n",
       "      <th>salen-OMe+l-lactide_0020</th>\n",
       "      <td>COMPLETE</td>\n",
       "    </tr>\n",
       "    <tr>\n",
       "      <th>salen-OMe+l-lactide_0021</th>\n",
       "      <td>ERROR</td>\n",
       "    </tr>\n",
       "    <tr>\n",
       "      <th>salen-OMe+l-lactide_0022</th>\n",
       "      <td>COMPLETE</td>\n",
       "    </tr>\n",
       "    <tr>\n",
       "      <th>salen-OMe+l-lactide_0023</th>\n",
       "      <td>COMPLETE</td>\n",
       "    </tr>\n",
       "  </tbody>\n",
       "</table>\n",
       "</div>"
      ],
      "text/plain": [
       "                         pbe0-d3_def2-svp\n",
       "salen-OMe+l-lactide_0003         COMPLETE\n",
       "salen-OMe+l-lactide_0004         COMPLETE\n",
       "salen-OMe+l-lactide_0005         COMPLETE\n",
       "salen-OMe+l-lactide_0006         COMPLETE\n",
       "salen-OMe+l-lactide_0007         COMPLETE\n",
       "salen-OMe+l-lactide_0009         COMPLETE\n",
       "salen-OMe+l-lactide_0011         COMPLETE\n",
       "salen-OMe+l-lactide_0012         COMPLETE\n",
       "salen-OMe+l-lactide_0013         COMPLETE\n",
       "salen-OMe+l-lactide_0014            ERROR\n",
       "salen-OMe+l-lactide_0015         COMPLETE\n",
       "salen-OMe+l-lactide_0016         COMPLETE\n",
       "salen-OMe+l-lactide_0017         COMPLETE\n",
       "salen-OMe+l-lactide_0020         COMPLETE\n",
       "salen-OMe+l-lactide_0021            ERROR\n",
       "salen-OMe+l-lactide_0022         COMPLETE\n",
       "salen-OMe+l-lactide_0023         COMPLETE"
      ]
     },
     "execution_count": 8,
     "metadata": {},
     "output_type": "execute_result"
    }
   ],
   "source": [
    "ds_opt  = client.get_collection(\"OptimizationDataset\", sampling_collection_name)\n",
    "ds_opt.status(collapse = False)"
   ]
  },
  {
   "cell_type": "markdown",
   "id": "301383be",
   "metadata": {},
   "source": [
    "##  B)  Visualize the molecules"
   ]
  },
  {
   "cell_type": "code",
   "execution_count": 11,
   "id": "87391ee3",
   "metadata": {
    "scrolled": true
   },
   "outputs": [
    {
     "ename": "AttributeError",
     "evalue": "'super' object has no attribute '_ipython_display_'",
     "output_type": "error",
     "traceback": [
      "\u001b[0;31m---------------------------------------------------------------------------\u001b[0m",
      "\u001b[0;31mAttributeError\u001b[0m                            Traceback (most recent call last)",
      "\u001b[0;32m~/.anaconda/envs/qcexplore/lib/python3.7/site-packages/IPython/core/formatters.py\u001b[0m in \u001b[0;36m__call__\u001b[0;34m(self, obj)\u001b[0m\n\u001b[1;32m    916\u001b[0m             \u001b[0mmethod\u001b[0m \u001b[0;34m=\u001b[0m \u001b[0mget_real_method\u001b[0m\u001b[0;34m(\u001b[0m\u001b[0mobj\u001b[0m\u001b[0;34m,\u001b[0m \u001b[0mself\u001b[0m\u001b[0;34m.\u001b[0m\u001b[0mprint_method\u001b[0m\u001b[0;34m)\u001b[0m\u001b[0;34m\u001b[0m\u001b[0;34m\u001b[0m\u001b[0m\n\u001b[1;32m    917\u001b[0m             \u001b[0;32mif\u001b[0m \u001b[0mmethod\u001b[0m \u001b[0;32mis\u001b[0m \u001b[0;32mnot\u001b[0m \u001b[0;32mNone\u001b[0m\u001b[0;34m:\u001b[0m\u001b[0;34m\u001b[0m\u001b[0;34m\u001b[0m\u001b[0m\n\u001b[0;32m--> 918\u001b[0;31m                 \u001b[0mmethod\u001b[0m\u001b[0;34m(\u001b[0m\u001b[0;34m)\u001b[0m\u001b[0;34m\u001b[0m\u001b[0;34m\u001b[0m\u001b[0m\n\u001b[0m\u001b[1;32m    919\u001b[0m                 \u001b[0;32mreturn\u001b[0m \u001b[0;32mTrue\u001b[0m\u001b[0;34m\u001b[0m\u001b[0;34m\u001b[0m\u001b[0m\n\u001b[1;32m    920\u001b[0m \u001b[0;34m\u001b[0m\u001b[0m\n",
      "\u001b[0;32m~/.anaconda/envs/qcexplore/lib/python3.7/site-packages/qcelemental/models/molecule.py\u001b[0m in \u001b[0;36m_ipython_display_\u001b[0;34m(self, **kwargs)\u001b[0m\n\u001b[1;32m   1054\u001b[0m     \u001b[0;32mdef\u001b[0m \u001b[0m_ipython_display_\u001b[0m\u001b[0;34m(\u001b[0m\u001b[0mself\u001b[0m\u001b[0;34m,\u001b[0m \u001b[0;34m**\u001b[0m\u001b[0mkwargs\u001b[0m\u001b[0;34m)\u001b[0m \u001b[0;34m->\u001b[0m \u001b[0;32mNone\u001b[0m\u001b[0;34m:\u001b[0m\u001b[0;34m\u001b[0m\u001b[0;34m\u001b[0m\u001b[0m\n\u001b[1;32m   1055\u001b[0m         \u001b[0;32mtry\u001b[0m\u001b[0;34m:\u001b[0m\u001b[0;34m\u001b[0m\u001b[0;34m\u001b[0m\u001b[0m\n\u001b[0;32m-> 1056\u001b[0;31m             \u001b[0mself\u001b[0m\u001b[0;34m.\u001b[0m\u001b[0mshow\u001b[0m\u001b[0;34m(\u001b[0m\u001b[0;34m)\u001b[0m\u001b[0;34m.\u001b[0m\u001b[0m_ipython_display_\u001b[0m\u001b[0;34m(\u001b[0m\u001b[0;34m**\u001b[0m\u001b[0mkwargs\u001b[0m\u001b[0;34m)\u001b[0m\u001b[0;34m\u001b[0m\u001b[0;34m\u001b[0m\u001b[0m\n\u001b[0m\u001b[1;32m   1057\u001b[0m         \u001b[0;32mexcept\u001b[0m \u001b[0mModuleNotFoundError\u001b[0m\u001b[0;34m:\u001b[0m\u001b[0;34m\u001b[0m\u001b[0;34m\u001b[0m\u001b[0m\n\u001b[1;32m   1058\u001b[0m             \u001b[0;32mfrom\u001b[0m \u001b[0mIPython\u001b[0m\u001b[0;34m.\u001b[0m\u001b[0mdisplay\u001b[0m \u001b[0;32mimport\u001b[0m \u001b[0mdisplay\u001b[0m\u001b[0;34m\u001b[0m\u001b[0;34m\u001b[0m\u001b[0m\n",
      "\u001b[0;32m~/.anaconda/envs/qcexplore/lib/python3.7/site-packages/qcelemental/models/molecule.py\u001b[0m in \u001b[0;36mshow\u001b[0;34m(self, ngl_kwargs)\u001b[0m\n\u001b[1;32m    498\u001b[0m             )  # pragma: no cover\n\u001b[1;32m    499\u001b[0m \u001b[0;34m\u001b[0m\u001b[0m\n\u001b[0;32m--> 500\u001b[0;31m         \u001b[0;32mimport\u001b[0m \u001b[0mnglview\u001b[0m \u001b[0;32mas\u001b[0m \u001b[0mnv\u001b[0m  \u001b[0;31m# type: ignore\u001b[0m\u001b[0;34m\u001b[0m\u001b[0;34m\u001b[0m\u001b[0m\n\u001b[0m\u001b[1;32m    501\u001b[0m \u001b[0;34m\u001b[0m\u001b[0m\n\u001b[1;32m    502\u001b[0m         \u001b[0;32mif\u001b[0m \u001b[0mngl_kwargs\u001b[0m \u001b[0;32mis\u001b[0m \u001b[0;32mNone\u001b[0m\u001b[0;34m:\u001b[0m\u001b[0;34m\u001b[0m\u001b[0;34m\u001b[0m\u001b[0m\n",
      "\u001b[0;32m~/.anaconda/envs/qcexplore/lib/python3.7/site-packages/nglview/__init__.py\u001b[0m in \u001b[0;36m<module>\u001b[0;34m\u001b[0m\n\u001b[1;32m      2\u001b[0m \u001b[0;34m\u001b[0m\u001b[0m\n\u001b[1;32m      3\u001b[0m \u001b[0;31m# for doc\u001b[0m\u001b[0;34m\u001b[0m\u001b[0;34m\u001b[0m\u001b[0;34m\u001b[0m\u001b[0m\n\u001b[0;32m----> 4\u001b[0;31m \u001b[0;32mfrom\u001b[0m \u001b[0;34m.\u001b[0m \u001b[0;32mimport\u001b[0m \u001b[0madaptor\u001b[0m\u001b[0;34m,\u001b[0m \u001b[0mdatafiles\u001b[0m\u001b[0;34m,\u001b[0m \u001b[0mshow\u001b[0m\u001b[0;34m,\u001b[0m \u001b[0mwidget\u001b[0m\u001b[0;34m\u001b[0m\u001b[0;34m\u001b[0m\u001b[0m\n\u001b[0m\u001b[1;32m      5\u001b[0m \u001b[0;32mfrom\u001b[0m \u001b[0;34m.\u001b[0m\u001b[0m_version\u001b[0m \u001b[0;32mimport\u001b[0m \u001b[0mget_versions\u001b[0m\u001b[0;34m\u001b[0m\u001b[0;34m\u001b[0m\u001b[0m\n\u001b[1;32m      6\u001b[0m \u001b[0;32mfrom\u001b[0m \u001b[0;34m.\u001b[0m\u001b[0madaptor\u001b[0m \u001b[0;32mimport\u001b[0m \u001b[0;34m*\u001b[0m\u001b[0;34m\u001b[0m\u001b[0;34m\u001b[0m\u001b[0m\n",
      "\u001b[0;32m~/.anaconda/envs/qcexplore/lib/python3.7/site-packages/nglview/show.py\u001b[0m in \u001b[0;36m<module>\u001b[0;34m\u001b[0m\n\u001b[1;32m     11\u001b[0m                       \u001b[0mRdkitStructure\u001b[0m\u001b[0;34m,\u001b[0m\u001b[0;34m\u001b[0m\u001b[0;34m\u001b[0m\u001b[0m\n\u001b[1;32m     12\u001b[0m                       TextStructure)\n\u001b[0;32m---> 13\u001b[0;31m \u001b[0;32mfrom\u001b[0m \u001b[0;34m.\u001b[0m\u001b[0mwidget\u001b[0m \u001b[0;32mimport\u001b[0m \u001b[0mNGLWidget\u001b[0m\u001b[0;34m\u001b[0m\u001b[0;34m\u001b[0m\u001b[0m\n\u001b[0m\u001b[1;32m     14\u001b[0m \u001b[0;34m\u001b[0m\u001b[0m\n\u001b[1;32m     15\u001b[0m __all__ = [\n",
      "\u001b[0;32m~/.anaconda/envs/qcexplore/lib/python3.7/site-packages/nglview/widget.py\u001b[0m in \u001b[0;36m<module>\u001b[0;34m\u001b[0m\n\u001b[1;32m     17\u001b[0m \u001b[0;32mimport\u001b[0m \u001b[0mtraitlets\u001b[0m\u001b[0;34m\u001b[0m\u001b[0;34m\u001b[0m\u001b[0m\n\u001b[1;32m     18\u001b[0m \u001b[0;34m\u001b[0m\u001b[0m\n\u001b[0;32m---> 19\u001b[0;31m \u001b[0;32mfrom\u001b[0m \u001b[0;34m.\u001b[0m \u001b[0;32mimport\u001b[0m \u001b[0mcolor\u001b[0m\u001b[0;34m,\u001b[0m \u001b[0minterpolate\u001b[0m\u001b[0;34m\u001b[0m\u001b[0;34m\u001b[0m\u001b[0m\n\u001b[0m\u001b[1;32m     20\u001b[0m \u001b[0;32mfrom\u001b[0m \u001b[0;34m.\u001b[0m\u001b[0madaptor\u001b[0m \u001b[0;32mimport\u001b[0m \u001b[0mStructure\u001b[0m\u001b[0;34m,\u001b[0m \u001b[0mTrajectory\u001b[0m\u001b[0;34m\u001b[0m\u001b[0;34m\u001b[0m\u001b[0m\n\u001b[1;32m     21\u001b[0m \u001b[0;32mfrom\u001b[0m \u001b[0;34m.\u001b[0m\u001b[0mcomponent\u001b[0m \u001b[0;32mimport\u001b[0m \u001b[0mComponentViewer\u001b[0m\u001b[0;34m\u001b[0m\u001b[0;34m\u001b[0m\u001b[0m\n",
      "\u001b[0;32m~/.anaconda/envs/qcexplore/lib/python3.7/site-packages/nglview/color.py\u001b[0m in \u001b[0;36m<module>\u001b[0;34m\u001b[0m\n\u001b[1;32m    112\u001b[0m \u001b[0;34m\u001b[0m\u001b[0m\n\u001b[1;32m    113\u001b[0m \u001b[0;34m\u001b[0m\u001b[0m\n\u001b[0;32m--> 114\u001b[0;31m \u001b[0mColormakerRegistry\u001b[0m \u001b[0;34m=\u001b[0m \u001b[0m_ColormakerRegistry\u001b[0m\u001b[0;34m(\u001b[0m\u001b[0;34m)\u001b[0m\u001b[0;34m\u001b[0m\u001b[0;34m\u001b[0m\u001b[0m\n\u001b[0m",
      "\u001b[0;32m~/.anaconda/envs/qcexplore/lib/python3.7/site-packages/nglview/base.py\u001b[0m in \u001b[0;36mgetinstance\u001b[0;34m()\u001b[0m\n\u001b[1;32m      8\u001b[0m     \u001b[0;32mdef\u001b[0m \u001b[0mgetinstance\u001b[0m\u001b[0;34m(\u001b[0m\u001b[0;34m)\u001b[0m\u001b[0;34m:\u001b[0m\u001b[0;34m\u001b[0m\u001b[0;34m\u001b[0m\u001b[0m\n\u001b[1;32m      9\u001b[0m         \u001b[0;32mif\u001b[0m \u001b[0mcls\u001b[0m \u001b[0;32mnot\u001b[0m \u001b[0;32min\u001b[0m \u001b[0minstances\u001b[0m\u001b[0;34m:\u001b[0m\u001b[0;34m\u001b[0m\u001b[0;34m\u001b[0m\u001b[0m\n\u001b[0;32m---> 10\u001b[0;31m             \u001b[0minstances\u001b[0m\u001b[0;34m[\u001b[0m\u001b[0mcls\u001b[0m\u001b[0;34m]\u001b[0m \u001b[0;34m=\u001b[0m \u001b[0mcls\u001b[0m\u001b[0;34m(\u001b[0m\u001b[0;34m)\u001b[0m\u001b[0;34m\u001b[0m\u001b[0;34m\u001b[0m\u001b[0m\n\u001b[0m\u001b[1;32m     11\u001b[0m         \u001b[0;32mreturn\u001b[0m \u001b[0minstances\u001b[0m\u001b[0;34m[\u001b[0m\u001b[0mcls\u001b[0m\u001b[0;34m]\u001b[0m\u001b[0;34m\u001b[0m\u001b[0;34m\u001b[0m\u001b[0m\n\u001b[1;32m     12\u001b[0m     \u001b[0;32mreturn\u001b[0m \u001b[0mgetinstance\u001b[0m\u001b[0;34m\u001b[0m\u001b[0;34m\u001b[0m\u001b[0m\n",
      "\u001b[0;32m~/.anaconda/envs/qcexplore/lib/python3.7/site-packages/nglview/color.py\u001b[0m in \u001b[0;36m__init__\u001b[0;34m(self, *args, **kwargs)\u001b[0m\n\u001b[1;32m     45\u001b[0m         \u001b[0;32mtry\u001b[0m\u001b[0;34m:\u001b[0m\u001b[0;34m\u001b[0m\u001b[0;34m\u001b[0m\u001b[0m\n\u001b[1;32m     46\u001b[0m             \u001b[0mget_ipython\u001b[0m\u001b[0;34m(\u001b[0m\u001b[0;34m)\u001b[0m \u001b[0;31m# only display in notebook\u001b[0m\u001b[0;34m\u001b[0m\u001b[0;34m\u001b[0m\u001b[0m\n\u001b[0;32m---> 47\u001b[0;31m             \u001b[0mself\u001b[0m\u001b[0;34m.\u001b[0m\u001b[0m_ipython_display_\u001b[0m\u001b[0;34m(\u001b[0m\u001b[0;34m)\u001b[0m\u001b[0;34m\u001b[0m\u001b[0;34m\u001b[0m\u001b[0m\n\u001b[0m\u001b[1;32m     48\u001b[0m         \u001b[0;32mexcept\u001b[0m \u001b[0mNameError\u001b[0m\u001b[0;34m:\u001b[0m\u001b[0;34m\u001b[0m\u001b[0;34m\u001b[0m\u001b[0m\n\u001b[1;32m     49\u001b[0m             \u001b[0;32mpass\u001b[0m\u001b[0;34m\u001b[0m\u001b[0;34m\u001b[0m\u001b[0m\n",
      "\u001b[0;32m~/.anaconda/envs/qcexplore/lib/python3.7/site-packages/nglview/color.py\u001b[0m in \u001b[0;36m_ipython_display_\u001b[0;34m(self, **kwargs)\u001b[0m\n\u001b[1;32m     52\u001b[0m         \u001b[0;32mif\u001b[0m \u001b[0mself\u001b[0m\u001b[0;34m.\u001b[0m\u001b[0m_ready\u001b[0m\u001b[0;34m:\u001b[0m\u001b[0;34m\u001b[0m\u001b[0;34m\u001b[0m\u001b[0m\n\u001b[1;32m     53\u001b[0m             \u001b[0;32mreturn\u001b[0m\u001b[0;34m\u001b[0m\u001b[0;34m\u001b[0m\u001b[0m\n\u001b[0;32m---> 54\u001b[0;31m         \u001b[0msuper\u001b[0m\u001b[0;34m(\u001b[0m\u001b[0;34m)\u001b[0m\u001b[0;34m.\u001b[0m\u001b[0m_ipython_display_\u001b[0m\u001b[0;34m(\u001b[0m\u001b[0;34m**\u001b[0m\u001b[0mkwargs\u001b[0m\u001b[0;34m)\u001b[0m\u001b[0;34m\u001b[0m\u001b[0;34m\u001b[0m\u001b[0m\n\u001b[0m\u001b[1;32m     55\u001b[0m \u001b[0;34m\u001b[0m\u001b[0m\n\u001b[1;32m     56\u001b[0m     \u001b[0;32mdef\u001b[0m \u001b[0m__repr__\u001b[0m\u001b[0;34m(\u001b[0m\u001b[0mself\u001b[0m\u001b[0;34m)\u001b[0m\u001b[0;34m:\u001b[0m\u001b[0;34m\u001b[0m\u001b[0;34m\u001b[0m\u001b[0m\n",
      "\u001b[0;31mAttributeError\u001b[0m: 'super' object has no attribute '_ipython_display_'"
     ]
    },
    {
     "data": {
      "text/plain": [
       "Molecule(name='AlC23H25N2O7', formula='AlC23H25N2O7', hash='685465c')"
      ]
     },
     "execution_count": 11,
     "metadata": {},
     "output_type": "execute_result"
    }
   ],
   "source": [
    "entry_name = \"salen-OMe+l-lactide_0004\"\n",
    "model_chem = \"pbe0-d3_def2-svp\"\n",
    "\n",
    "rr = ds_opt.get_record(entry_name, specification = model_chem)\n",
    "mol = rr.get_final_molecule()\n",
    "mol"
   ]
  },
  {
   "cell_type": "markdown",
   "id": "a135bae2",
   "metadata": {},
   "source": [
    "## C)  Retrive molecule ID  (For QCScan)"
   ]
  },
  {
   "cell_type": "code",
   "execution_count": 10,
   "id": "1c86ab5c",
   "metadata": {},
   "outputs": [
    {
     "data": {
      "text/plain": [
       "'38225'"
      ]
     },
     "execution_count": 10,
     "metadata": {},
     "output_type": "execute_result"
    }
   ],
   "source": [
    "mol.id"
   ]
  },
  {
   "cell_type": "markdown",
   "id": "c568ec8c",
   "metadata": {},
   "source": [
    "# Extras"
   ]
  },
  {
   "cell_type": "markdown",
   "id": "eed89f36",
   "metadata": {},
   "source": [
    "### 1) Optimize at different level of theory "
   ]
  },
  {
   "cell_type": "code",
   "execution_count": null,
   "id": "b9e1af64",
   "metadata": {},
   "outputs": [],
   "source": [
    "#kw = ptl.models.KeywordSet(**{\"values\": {\"dftd\": \"d3\", \"convthre\" : '3.0e-7', \"threall\" : '1.0e-13', 'dftgrid' : 2, \"scf\" : \"diis+a\"}})\n",
    "#kw_id = client.add_keywords([kw])[0]\n",
    "kw_id = None\n",
    "\n",
    "add_spec = {'name':\"pbe0-d3bj_def2-svp\",\n",
    "        'description': 'Geometric + Psi4/pbe0-d3bj/def2-svp.',\n",
    "        'optimization_spec': {'program': 'geometric', 'keywords': None },\n",
    "        'qc_spec': {'driver': 'gradient',\n",
    "        'method': \"pbe0-d3bj\",\n",
    "        'basis': 'def2-svp',\n",
    "        'keywords': kw_id,\n",
    "        'program': 'psi4'}}\n",
    "ds_opt.add_specification(**add_spec,overwrite=True)\n",
    "ds_opt.save()"
   ]
  },
  {
   "cell_type": "code",
   "execution_count": null,
   "id": "a9f1bd1b",
   "metadata": {},
   "outputs": [],
   "source": [
    "cr = ds_opt.compute(specification = 'b3lyp-d3_def2-svp', tag='refinement')\n",
    "cr"
   ]
  },
  {
   "cell_type": "code",
   "execution_count": 28,
   "id": "7ef9bec9",
   "metadata": {},
   "outputs": [],
   "source": [
    "kw = ptl.models.KeywordSet(**{\"values\": {\"dftd\": \"d3\", \"convthre\" : '3.0e-7', \"threall\" : '1.0e-13', 'dftgrid' : 2, \"scf\" : \"diis+a\"}})\n",
    "kw_id = client.add_keywords([kw])[0]\n",
    "\n",
    "add_ref_spec = {'name': 'pbe0-d3_def2-svp',\n",
    "        'description': 'Geometric + TeraChem/pbe0-d3/def2-svp',\n",
    "                'optimization_spec': {'program': 'geometric', 'keywords': {'converge' : [\"set\" , \"gau_tight\"], 'maxiter': 200}},\n",
    "        'qc_spec': {'driver': 'gradient',\n",
    "        'method': 'pbe0',\n",
    "        'basis': 'def2-svp',\n",
    "        'keywords': kw_id,\n",
    "        'program': 'terachem'}}\n",
    "\n",
    "ds_opt = client.get_collection(\"OptimizationDataset\", sampling_collection_name)\n",
    "ds_opt.add_specification(**add_ref_spec,overwrite=True)"
   ]
  },
  {
   "cell_type": "code",
   "execution_count": 29,
   "id": "dc959560",
   "metadata": {},
   "outputs": [
    {
     "data": {
      "text/plain": [
       "0"
      ]
     },
     "execution_count": 29,
     "metadata": {},
     "output_type": "execute_result"
    }
   ],
   "source": [
    "cr = ds_opt.compute(specification = 'pbe0-d3_def2-svp', tag='refinement_tera')\n",
    "cr"
   ]
  },
  {
   "cell_type": "markdown",
   "id": "31439f9d",
   "metadata": {},
   "source": [
    "### 2) Restart Optimization Jobs "
   ]
  },
  {
   "cell_type": "code",
   "execution_count": null,
   "id": "d149786c",
   "metadata": {},
   "outputs": [],
   "source": [
    "mol_list = []\n",
    "\n",
    "spec = 'pbe0-d3_def2-svp'\n",
    "\n",
    "for i in ds_opt.data.records: \n",
    "    #print(i)\n",
    "    mol_list.append(i)\n",
    "\n",
    "for i in  mol_list:\n",
    "    opt_rec = ds_opt.get_record(name=i,specification= spec)\n",
    "    if (opt_rec.status == 'ERROR'):    \n",
    "        id_u = opt_rec.id \n",
    "        print('yes', i, id_u)\n",
    "        c = client.modify_tasks(\"modify\", new_tag = 'refinement_tera',base_result = id_u)\n",
    "        #c = client.modify_tasks(\"restart\",base_result = id_u)\n",
    "        print(c)"
   ]
  },
  {
   "cell_type": "markdown",
   "id": "06ec7631",
   "metadata": {},
   "source": [
    "### 3) Call errors from record"
   ]
  },
  {
   "cell_type": "code",
   "execution_count": null,
   "id": "86f498d1",
   "metadata": {},
   "outputs": [],
   "source": [
    "print(rr.get_error().dict()['error_message'])"
   ]
  },
  {
   "cell_type": "markdown",
   "id": "23964d9b",
   "metadata": {},
   "source": [
    "### 3) Delete Specification"
   ]
  },
  {
   "cell_type": "code",
   "execution_count": 66,
   "id": "6c3d8481",
   "metadata": {},
   "outputs": [],
   "source": [
    "#Delete Specification\n",
    "\n",
    "#del ds_opt.data.specs['pbe0-d3bj_def2-svp']\n",
    "#ds_opt.save()"
   ]
  }
 ],
 "metadata": {
  "kernelspec": {
   "display_name": "Python 3 (ipykernel)",
   "language": "python",
   "name": "python3"
  },
  "language_info": {
   "codemirror_mode": {
    "name": "ipython",
    "version": 3
   },
   "file_extension": ".py",
   "mimetype": "text/x-python",
   "name": "python",
   "nbconvert_exporter": "python",
   "pygments_lexer": "ipython3",
   "version": "3.7.12"
  }
 },
 "nbformat": 4,
 "nbformat_minor": 5
}
