{
 "cells": [
  {
   "cell_type": "markdown",
   "metadata": {},
   "source": [
    "<html>\n",
    "<div style=\"width:100%\">\n",
    "  <div style=\"width:90%; float:left; background:white; margin:10px\">\n",
    "    <img style =\"width:100%\"src =\"https://raw.githubusercontent.com/publicunpublic/QCMM_Jupyter/main/full.svg\">\n",
    "    <div style=\"margin-top:2.5%;position:absolute;background-color:#00000;width:6%;height:0.3%\"></div>\n",
    "  </div>\n",
    "  </div>"
   ]
  },
  {
   "cell_type": "markdown",
   "metadata": {},
   "source": [
    "<html>\n",
    "<center>\n",
    "<br>\n",
    "<h1 style=\"color:#E6610F;\"> Notebook to add structures to the Database from xyz files  </h1>\n",
    "<br><br>\n",
    "</center>"
   ]
  },
  {
   "cell_type": "code",
   "execution_count": 1,
   "metadata": {},
   "outputs": [],
   "source": [
    "import qcportal as ptl\n",
    "import qcelemental as qcel"
   ]
  },
  {
   "cell_type": "markdown",
   "metadata": {},
   "source": [
    "## Define variables"
   ]
  },
  {
   "cell_type": "code",
   "execution_count": 16,
   "metadata": {},
   "outputs": [],
   "source": [
    "client_address = \"152.74.10.245:7778\"\n",
    "username = None\n",
    "password = None\n",
    "xyz_file_path = \"./test.xyz\"\n",
    "ds_opt_name = 'test_collection'"
   ]
  },
  {
   "cell_type": "code",
   "execution_count": 4,
   "metadata": {},
   "outputs": [],
   "source": [
    "client = ptl.FractalClient(address=client_address, username = username, password = password, verify=False)"
   ]
  },
  {
   "cell_type": "code",
   "execution_count": 17,
   "metadata": {},
   "outputs": [],
   "source": [
    "#client = ptl.FractalClient(address='https://api.qcarchive.molssi.org:443/')\n",
    "client = ptl.FractalClient(address=client_address, username = username, password = password, verify=False)"
   ]
  },
  {
   "cell_type": "markdown",
   "metadata": {},
   "source": [
    "## Add Molecule from XYZ file"
   ]
  },
  {
   "cell_type": "code",
   "execution_count": null,
   "metadata": {},
   "outputs": [],
   "source": [
    "w = qcel.models.Molecule.from_file(xyz_file_path, orient=True)\n"
   ]
  },
  {
   "cell_type": "code",
   "execution_count": 20,
   "metadata": {},
   "outputs": [],
   "source": [
    "#ds_opt = ptl.collections.OptimizationDataset(ds_opt_name, client=client)\n",
    "#ds_opt.save()\n",
    "ds_opt = client.get_collection(\"OptimizationDataset\", ds_opt_name)"
   ]
  },
  {
   "cell_type": "code",
   "execution_count": 24,
   "metadata": {},
   "outputs": [],
   "source": [
    "# Convert xyz file in molecule object\n",
    "\n",
    "mol = qcel.models.Molecule.from_file(xyz_file_path, orient=True)"
   ]
  },
  {
   "cell_type": "code",
   "execution_count": 25,
   "metadata": {},
   "outputs": [
    {
     "data": {
      "application/vnd.jupyter.widget-view+json": {
       "model_id": "fadfb3e54b9f44b4b36829e282be409e",
       "version_major": 2,
       "version_minor": 0
      },
      "text/plain": [
       "NGLWidget()"
      ]
     },
     "metadata": {},
     "output_type": "display_data"
    }
   ],
   "source": [
    "mol"
   ]
  },
  {
   "cell_type": "code",
   "execution_count": 26,
   "metadata": {},
   "outputs": [
    {
     "data": {
      "text/plain": [
       "'159'"
      ]
     },
     "execution_count": 26,
     "metadata": {},
     "output_type": "execute_result"
    }
   ],
   "source": [
    "ds_opt.add_entry(\"propadiene\", mol)\n",
    "ds_opt.save()"
   ]
  },
  {
   "cell_type": "code",
   "execution_count": 27,
   "metadata": {},
   "outputs": [
    {
     "data": {
      "text/plain": [
       "'159'"
      ]
     },
     "execution_count": 27,
     "metadata": {},
     "output_type": "execute_result"
    }
   ],
   "source": [
    "kw = ptl.models.KeywordSet(**{\"values\": {\"dftd\": \"d3\", \"convthre\" : '3.0e-7', \"threall\" : '1.0e-13', 'dftgrid' : 1, \"scf\" : \"diis+a\"}})\n",
    "\n",
    "kw_id = client.add_keywords([kw])[0]\n",
    "\n",
    "\n",
    "add_spec = {'name':\"b3lyp-d3_def2-svp\",\n",
    "        'description': 'Geometric + TERACHEM/b3lyp-d3/def2-svp.',\n",
    "        'optimization_spec': {'program': 'geometric', 'keywords': {\"transition\": \"no\", \n",
    "                                                                   \"converge\" :  [\"set\" , \"gau_tight\"]}},\n",
    "        'qc_spec': {'driver': 'gradient',\n",
    "        'method': \"b3lyp\",\n",
    "        'basis': 'def2-svp',\n",
    "        'keywords': kw_id,\n",
    "        'program': 'terachem'}}\n",
    "ds_opt.add_specification(**add_spec,overwrite=True)\n",
    "ds_opt.save()"
   ]
  },
  {
   "cell_type": "code",
   "execution_count": 29,
   "metadata": {},
   "outputs": [
    {
     "data": {
      "text/plain": [
       "'159'"
      ]
     },
     "execution_count": 29,
     "metadata": {},
     "output_type": "execute_result"
    }
   ],
   "source": [
    "ds_opt.add_specification(**add_spec,overwrite=True)\n",
    "ds_opt.save()"
   ]
  },
  {
   "cell_type": "code",
   "execution_count": 31,
   "metadata": {},
   "outputs": [
    {
     "data": {
      "text/plain": [
       "1"
      ]
     },
     "execution_count": 31,
     "metadata": {},
     "output_type": "execute_result"
    }
   ],
   "source": [
    "cr = ds_opt.compute(specification = 'b3lyp-d3_def2-svp', tag='tera')#, subset=['HNO2', \"HNO\", 'HOCN', \"N2O\"])\n",
    "cr"
   ]
  },
  {
   "cell_type": "code",
   "execution_count": 38,
   "metadata": {},
   "outputs": [
    {
     "data": {
      "text/html": [
       "<div>\n",
       "<style scoped>\n",
       "    .dataframe tbody tr th:only-of-type {\n",
       "        vertical-align: middle;\n",
       "    }\n",
       "\n",
       "    .dataframe tbody tr th {\n",
       "        vertical-align: top;\n",
       "    }\n",
       "\n",
       "    .dataframe thead th {\n",
       "        text-align: right;\n",
       "    }\n",
       "</style>\n",
       "<table border=\"1\" class=\"dataframe\">\n",
       "  <thead>\n",
       "    <tr style=\"text-align: right;\">\n",
       "      <th></th>\n",
       "      <th>b3lyp-d3_def2-svp</th>\n",
       "    </tr>\n",
       "  </thead>\n",
       "  <tbody>\n",
       "    <tr>\n",
       "      <th>propadiene</th>\n",
       "      <td>INCOMPLETE</td>\n",
       "    </tr>\n",
       "  </tbody>\n",
       "</table>\n",
       "</div>"
      ],
      "text/plain": [
       "           b3lyp-d3_def2-svp\n",
       "propadiene        INCOMPLETE"
      ]
     },
     "execution_count": 38,
     "metadata": {},
     "output_type": "execute_result"
    }
   ],
   "source": [
    "ds_opt = client.get_collection(\"OptimizationDataset\", ds_opt_name)\n",
    "ds_opt.status(collapse = False)"
   ]
  },
  {
   "cell_type": "markdown",
   "metadata": {},
   "source": [
    "## Delete an unwanted entry"
   ]
  },
  {
   "cell_type": "code",
   "execution_count": 39,
   "metadata": {},
   "outputs": [
    {
     "data": {
      "text/plain": [
       "'159'"
      ]
     },
     "execution_count": 39,
     "metadata": {},
     "output_type": "execute_result"
    }
   ],
   "source": [
    "#del ds_opt.data.records[\"propadiene\"]\n",
    "#ds_opt.save()"
   ]
  },
  {
   "cell_type": "markdown",
   "metadata": {},
   "source": [
    "## Extras"
   ]
  },
  {
   "cell_type": "markdown",
   "metadata": {},
   "source": [
    "###  You can also get some molecules from pubchem!"
   ]
  },
  {
   "cell_type": "code",
   "execution_count": 35,
   "metadata": {},
   "outputs": [
    {
     "name": "stdout",
     "output_type": "stream",
     "text": [
      "\tSearching PubChem database for water (single best match returned)\n",
      "\tFound 1 result(s)\n"
     ]
    }
   ],
   "source": [
    "mol_dict_l = qcel.molparse.from_string(\"pubchem: water\")\n"
   ]
  },
  {
   "cell_type": "code",
   "execution_count": 36,
   "metadata": {},
   "outputs": [
    {
     "data": {
      "application/vnd.jupyter.widget-view+json": {
       "model_id": "4557a5c79dbd4e67bbe2c445f30f2aaf",
       "version_major": 2,
       "version_minor": 0
      },
      "text/plain": [
       "NGLWidget()"
      ]
     },
     "metadata": {},
     "output_type": "display_data"
    }
   ],
   "source": [
    "geom_l = mol_dict_l['qm']['geom'] * qcel.constants.conversion_factor(\"angstrom\", \"bohr\")\n",
    "symb_l =  mol_dict_l['qm']['elem']\n",
    "mol_l = ptl.Molecule(**{\"symbols\": symb_l , \"geometry\": geom_l })\n",
    "mol_l"
   ]
  },
  {
   "cell_type": "markdown",
   "metadata": {},
   "source": [
    "### Extra  specifications"
   ]
  },
  {
   "cell_type": "code",
   "execution_count": null,
   "metadata": {},
   "outputs": [],
   "source": [
    "# Psi4 Hf3c/minix \n",
    "\n",
    "add_spec = {'name': 'hf3c_minix',\n",
    "        'description': 'Geometric + HF-3C/MINIX',\n",
    "        'optimization_spec': {'program': 'geometric', 'keywords': None},\n",
    "        'qc_spec': {'driver': 'gradient',\n",
    "        'method': 'hf3c',\n",
    "        'basis': 'minix',\n",
    "        'keywords': None,\n",
    "        'program': 'psi4'}}\n",
    "ds_opt.add_specification(**add_spec)\n",
    "ds_opt.save()"
   ]
  },
  {
   "cell_type": "code",
   "execution_count": 9,
   "metadata": {},
   "outputs": [
    {
     "data": {
      "text/plain": [
       "'16'"
      ]
     },
     "execution_count": 9,
     "metadata": {},
     "output_type": "execute_result"
    }
   ],
   "source": [
    "# Psi4 Hybrid DFT \n",
    "m = \"b3lyp-d3bj\"\n",
    "add_spec = {'name': m+'_def2-tzvp',\n",
    "        'description': 'Geometric + Psi4/'+m+'/def2-tzvp.',\n",
    "        'optimization_spec': {'program': 'geometric', 'keywords': None},\n",
    "        'qc_spec': {'driver': 'gradient',\n",
    "        'method': m,\n",
    "        'basis': 'def2-tzvp',\n",
    "        'keywords': None,\n",
    "        'program': 'psi4'}}\n",
    "ds_opt.add_specification(**add_spec,overwrite=True)\n",
    "ds_opt.save()"
   ]
  },
  {
   "cell_type": "code",
   "execution_count": 29,
   "metadata": {},
   "outputs": [
    {
     "data": {
      "text/plain": [
       "'9'"
      ]
     },
     "execution_count": 29,
     "metadata": {},
     "output_type": "execute_result"
    }
   ],
   "source": [
    "# Psi4 PBEh-3c/minix \n",
    "\n",
    "\n",
    "m = 'PBEh-3c'\n",
    "add_spec = {'name': m+'_def2-mSVP',\n",
    "        'description': 'Geometric + Psi4/'+m+'def2-mSVP',\n",
    "        'optimization_spec': {'program': 'geometric', 'keywords': None},\n",
    "        'qc_spec': {'driver': 'gradient',\n",
    "        'method': m,\n",
    "        'basis': 'def2-mSVP',\n",
    "        'keywords': kw_id,\n",
    "        'program': 'psi4'}}\n",
    "ds_opt.add_specification(**add_spec,overwrite=True)\n",
    "ds_opt.save()"
   ]
  }
 ],
 "metadata": {
  "kernelspec": {
   "display_name": "Python 3 (ipykernel)",
   "language": "python",
   "name": "python3"
  },
  "language_info": {
   "codemirror_mode": {
    "name": "ipython",
    "version": 3
   },
   "file_extension": ".py",
   "mimetype": "text/x-python",
   "name": "python",
   "nbconvert_exporter": "python",
   "pygments_lexer": "ipython3",
   "version": "3.7.12"
  }
 },
 "nbformat": 4,
 "nbformat_minor": 4
}
